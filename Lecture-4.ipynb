{
 "cells": [
  {
   "cell_type": "markdown",
   "metadata": {},
   "source": [
    "## Lecture 4\n",
    "-  Built-ins\n",
    "-  Basic import\n",
    "-  List vs Tuple\n",
    "-  iter() and next()\n",
    "-  Function definition and invocation\n",
    "-  Documenting a function\n",
    "-  Default arguments\n",
    "-  Global and local variables\n",
    "-  Variable arguments\n",
    "-  Experimentation"
   ]
  },
  {
   "cell_type": "markdown",
   "metadata": {},
   "source": [
    "## Builtin Functions\n",
    "-  Python has an extensive collections of useful functions\n",
    "   - The Python interpreter has a number of functions built into it that are always available\n",
    "     - **No import necessary**\n",
    "-  So far we have used a few of them namely:\n",
    "\n",
    "   - **print**(\"Hello World!\")  # outputs the string \"Hello World!\" on screen\n",
    "   - **type**(\"Hello World!\")   # finds out the type of the variable\n",
    "   - **int**(\"333\")             # converts a string \"333\" to integer 333\n",
    "   - **str**(33)                # converts an integer 33 to string \"33\"\n",
    "   - **input**(\"Enter an integer\") # read a string from standard-in (keyboard)\n",
    "   - **float**(\"3.1415\")        # converts a string \"3.1415\" into a float\n",
    "   - **bool('true')**           # returns True\n",
    "   - **id(3)**                  # unique id of object 3\n",
    "   - **range(start, stop [,step ])** Sequence of numbers from start to stop-1\n",
    "   - **enumerate(sequence)**      # returns index and value\n"
   ]
  },
  {
   "cell_type": "markdown",
   "metadata": {},
   "source": [
    "| Built-in Functions |\n",
    "| ---- |\t---- \t| ---- |\t---- \t| ---- |   \n",
    "| abs()  |\tdict() \t| help() |\tmin() \t| setattr() |\n",
    "| all() |\tdir() |\thex() |\tnext() |\tslice() |\n",
    "| any() |\tdivmod() |\tid() |\tobject() |\tsorted() |\n",
    "| ascii() |\tenumerate() |\tinput() |\toct() |\tstaticmethod() |\n",
    "| bin() |\teval() |\tint() |\topen() |\tstr() |\n",
    "| bool() |\texec() |\tisinstance() |\tord() |\tsum() |\n",
    "| bytearray() |\tfilter() |\tissubclass() |\tpow() |\tsuper() |\n",
    "| bytes() |\tfloat() |\titer() |\tprint() |\ttuple() |\n",
    "| callable() |\tformat() |\tlen() |\tproperty() |\ttype() |\n",
    "| chr() |\tfrozenset() |\tlist() |\trange() |\tvars() |\n",
    "| classmethod() |\tgetattr() |\tlocals() |\trepr() |\tzip() |\n",
    "| compile() |\tglobals() |\tmap() |\treversed() |\t |\n",
    "| complex() |\thasattr() |\tmax() |\tround() |\t \n",
    "| delattr() |\thash() |\tmemoryview() |\tset() |\t \n"
   ]
  },
  {
   "cell_type": "markdown",
   "metadata": {},
   "source": [
    "## Import"
   ]
  },
  {
   "cell_type": "markdown",
   "metadata": {},
   "source": [
    "- We looked into a few useful builtins, which are python functions availabe in the interpreter\n",
    "- There are **lot more amazing functions** available as **modules** in python\n",
    "  - There are python standard libraries and open source libraries/modules\n",
    "  - Think about them as separate python programs which we need to import them\n",
    "    - Basically include(import) them into our program to use them\n",
    "  - math is such a module which can be imported into our code\n",
    "  - We will look into importing in detail in later lectures\n",
    "  - **Modules contains variable, functions and classes**\n",
    "  - **modulue_name dot variable or function or class name** to access objects inside a moudle\n",
    "  - Lets look at a simple example"
   ]
  },
  {
   "cell_type": "markdown",
   "metadata": {},
   "source": [
    "## math"
   ]
  },
  {
   "cell_type": "code",
   "execution_count": 2,
   "metadata": {
    "scrolled": true
   },
   "outputs": [
    {
     "name": "stdout",
     "output_type": "stream",
     "text": [
      "3.141592653589793\n"
     ]
    }
   ],
   "source": [
    "import math    # math is the module name, pi is the object (variable) defined in math\n",
    "PI = math.pi   # all CAPS PI, coding convention that it is a constant\n",
    "print(PI)"
   ]
  },
  {
   "cell_type": "code",
   "execution_count": 3,
   "metadata": {},
   "outputs": [
    {
     "data": {
      "text/plain": [
       "0.0"
      ]
     },
     "execution_count": 3,
     "metadata": {},
     "output_type": "execute_result"
    }
   ],
   "source": [
    "math.sin(0)    # 0 radians, 2π == 360 degrees,"
   ]
  },
  {
   "cell_type": "code",
   "execution_count": 4,
   "metadata": {},
   "outputs": [
    {
     "data": {
      "text/plain": [
       "1.0"
      ]
     },
     "execution_count": 4,
     "metadata": {},
     "output_type": "execute_result"
    }
   ],
   "source": [
    "math.cos(0)    # 0 radians, 2π == 360 degrees,"
   ]
  },
  {
   "cell_type": "code",
   "execution_count": 5,
   "metadata": {},
   "outputs": [
    {
     "data": {
      "text/plain": [
       "1.0"
      ]
     },
     "execution_count": 5,
     "metadata": {},
     "output_type": "execute_result"
    }
   ],
   "source": [
    "math.sin(PI/2) # π/2 radians == 90 degress"
   ]
  },
  {
   "cell_type": "code",
   "execution_count": 6,
   "metadata": {},
   "outputs": [
    {
     "data": {
      "text/plain": [
       "1.633123935319537e+16"
      ]
     },
     "execution_count": 6,
     "metadata": {},
     "output_type": "execute_result"
    }
   ],
   "source": [
    "math.tan(PI/2)"
   ]
  },
  {
   "cell_type": "markdown",
   "metadata": {},
   "source": [
    "## Builtin Modules"
   ]
  },
  {
   "cell_type": "code",
   "execution_count": 7,
   "metadata": {
    "scrolled": false
   },
   "outputs": [
    {
     "data": {
      "text/plain": [
       "('_ast',\n",
       " '_bisect',\n",
       " '_blake2',\n",
       " '_codecs',\n",
       " '_codecs_cn',\n",
       " '_codecs_hk',\n",
       " '_codecs_iso2022',\n",
       " '_codecs_jp',\n",
       " '_codecs_kr',\n",
       " '_codecs_tw',\n",
       " '_collections',\n",
       " '_csv',\n",
       " '_datetime',\n",
       " '_functools',\n",
       " '_heapq',\n",
       " '_imp',\n",
       " '_io',\n",
       " '_json',\n",
       " '_locale',\n",
       " '_lsprof',\n",
       " '_md5',\n",
       " '_multibytecodec',\n",
       " '_opcode',\n",
       " '_operator',\n",
       " '_pickle',\n",
       " '_random',\n",
       " '_sha1',\n",
       " '_sha256',\n",
       " '_sha3',\n",
       " '_sha512',\n",
       " '_signal',\n",
       " '_sre',\n",
       " '_stat',\n",
       " '_string',\n",
       " '_struct',\n",
       " '_symtable',\n",
       " '_thread',\n",
       " '_tracemalloc',\n",
       " '_warnings',\n",
       " '_weakref',\n",
       " '_winapi',\n",
       " 'array',\n",
       " 'atexit',\n",
       " 'audioop',\n",
       " 'binascii',\n",
       " 'builtins',\n",
       " 'cmath',\n",
       " 'errno',\n",
       " 'faulthandler',\n",
       " 'gc',\n",
       " 'itertools',\n",
       " 'marshal',\n",
       " 'math',\n",
       " 'mmap',\n",
       " 'msvcrt',\n",
       " 'nt',\n",
       " 'parser',\n",
       " 'sys',\n",
       " 'time',\n",
       " 'winreg',\n",
       " 'xxsubtype',\n",
       " 'zipimport',\n",
       " 'zlib')"
      ]
     },
     "execution_count": 7,
     "metadata": {},
     "output_type": "execute_result"
    }
   ],
   "source": [
    "import sys\n",
    "sys.builtin_module_names  # note output is within (), read only(immutable) sequence which is a tuple"
   ]
  },
  {
   "cell_type": "markdown",
   "metadata": {},
   "source": [
    "## Keyword List"
   ]
  },
  {
   "cell_type": "code",
   "execution_count": 8,
   "metadata": {},
   "outputs": [
    {
     "data": {
      "text/plain": [
       "['False',\n",
       " 'None',\n",
       " 'True',\n",
       " 'and',\n",
       " 'as',\n",
       " 'assert',\n",
       " 'break',\n",
       " 'class',\n",
       " 'continue',\n",
       " 'def',\n",
       " 'del',\n",
       " 'elif',\n",
       " 'else',\n",
       " 'except',\n",
       " 'finally',\n",
       " 'for',\n",
       " 'from',\n",
       " 'global',\n",
       " 'if',\n",
       " 'import',\n",
       " 'in',\n",
       " 'is',\n",
       " 'lambda',\n",
       " 'nonlocal',\n",
       " 'not',\n",
       " 'or',\n",
       " 'pass',\n",
       " 'raise',\n",
       " 'return',\n",
       " 'try',\n",
       " 'while',\n",
       " 'with',\n",
       " 'yield']"
      ]
     },
     "execution_count": 8,
     "metadata": {},
     "output_type": "execute_result"
    }
   ],
   "source": [
    "import keyword\n",
    "keyword.kwlist  # note output is within [], mutable seuqence which is a list"
   ]
  },
  {
   "cell_type": "markdown",
   "metadata": {},
   "source": [
    "## List vs Tuple\n",
    "- containers are collections of objects\n",
    "  - items in a container can be of **any type**  (same or mixed types)\n",
    "- sequence\n",
    "- iterable\n",
    "- list is a **mutable** sequence of objects.  It uses brackets [ ].\n",
    "\n",
    "  - [ 3, 2, 1]\n",
    "  - ['hello', 'world']\n",
    "  - [ 1, 2, \"hello\", True, 5.0, [ 2,1,0 ] ]\n",
    "- tuple is **immutable (Read only) ** sequence of objecs. It uses paranthesis ( ).\n",
    "  - (3,2,1)\n",
    "  - (\"hello\", \"world\")\n",
    "- **iter(sequence)** returns **iterator**\n",
    "- **next(iterator)** returns the **next element**\n",
    "- Support membership operators *in* and **not in**"
   ]
  },
  {
   "cell_type": "code",
   "execution_count": 9,
   "metadata": {
    "scrolled": false
   },
   "outputs": [
    {
     "data": {
      "text/plain": [
       "True"
      ]
     },
     "execution_count": 9,
     "metadata": {},
     "output_type": "execute_result"
    }
   ],
   "source": [
    "3 in [ 3,2,1 ]   # list of 3 numbers, check 3 in  list with elements 3,2 and 1"
   ]
  },
  {
   "cell_type": "code",
   "execution_count": 10,
   "metadata": {
    "scrolled": false
   },
   "outputs": [
    {
     "data": {
      "text/plain": [
       "True"
      ]
     },
     "execution_count": 10,
     "metadata": {},
     "output_type": "execute_result"
    }
   ],
   "source": [
    "100 not in [ 3,2,1] # 100 not in list of 3, 2, 1"
   ]
  },
  {
   "cell_type": "code",
   "execution_count": 11,
   "metadata": {},
   "outputs": [
    {
     "data": {
      "text/plain": [
       "True"
      ]
     },
     "execution_count": 11,
     "metadata": {},
     "output_type": "execute_result"
    }
   ],
   "source": [
    "\"world\" in ['hello', 'world']  # list of  2 strings. check membership of 'world' in list"
   ]
  },
  {
   "cell_type": "code",
   "execution_count": 12,
   "metadata": {},
   "outputs": [
    {
     "data": {
      "text/plain": [
       "True"
      ]
     },
     "execution_count": 12,
     "metadata": {},
     "output_type": "execute_result"
    }
   ],
   "source": [
    "'a' in ['a','e','i','o','u', 'A','E','I','O','U',]"
   ]
  },
  {
   "cell_type": "code",
   "execution_count": 14,
   "metadata": {},
   "outputs": [
    {
     "data": {
      "text/plain": [
       "False"
      ]
     },
     "execution_count": 14,
     "metadata": {},
     "output_type": "execute_result"
    }
   ],
   "source": [
    "'U' in ['a','e','i','o','u', 'A','E','I','O']"
   ]
  },
  {
   "cell_type": "markdown",
   "metadata": {},
   "source": [
    "## Try these out"
   ]
  },
  {
   "cell_type": "code",
   "execution_count": 15,
   "metadata": {},
   "outputs": [
    {
     "data": {
      "text/plain": [
       "list_iterator"
      ]
     },
     "execution_count": 15,
     "metadata": {},
     "output_type": "execute_result"
    }
   ],
   "source": [
    "iterable = [ 3, 2, 1]          # most containers are iterable\n",
    "iterator = iter(iterable)      # returns a iterator\n",
    "type(iterator)"
   ]
  },
  {
   "cell_type": "code",
   "execution_count": 16,
   "metadata": {},
   "outputs": [
    {
     "data": {
      "text/plain": [
       "3"
      ]
     },
     "execution_count": 16,
     "metadata": {},
     "output_type": "execute_result"
    }
   ],
   "source": [
    "next(iterator)                 #  next(iterator) returns the next item/element from sequence"
   ]
  },
  {
   "cell_type": "code",
   "execution_count": 17,
   "metadata": {},
   "outputs": [
    {
     "data": {
      "text/plain": [
       "2"
      ]
     },
     "execution_count": 17,
     "metadata": {},
     "output_type": "execute_result"
    }
   ],
   "source": [
    "next(iterator)"
   ]
  },
  {
   "cell_type": "code",
   "execution_count": 18,
   "metadata": {},
   "outputs": [
    {
     "data": {
      "text/plain": [
       "1"
      ]
     },
     "execution_count": 18,
     "metadata": {},
     "output_type": "execute_result"
    }
   ],
   "source": [
    "next(iterator)"
   ]
  },
  {
   "cell_type": "code",
   "execution_count": 19,
   "metadata": {},
   "outputs": [
    {
     "ename": "StopIteration",
     "evalue": "",
     "output_type": "error",
     "traceback": [
      "\u001b[1;31m---------------------------------------------------------------------------\u001b[0m",
      "\u001b[1;31mStopIteration\u001b[0m                             Traceback (most recent call last)",
      "\u001b[1;32m<ipython-input-19-4ce711c44abc>\u001b[0m in \u001b[0;36m<module>\u001b[1;34m()\u001b[0m\n\u001b[1;32m----> 1\u001b[1;33m \u001b[0mnext\u001b[0m\u001b[1;33m(\u001b[0m\u001b[0miterator\u001b[0m\u001b[1;33m)\u001b[0m\u001b[1;33m\u001b[0m\u001b[0m\n\u001b[0m",
      "\u001b[1;31mStopIteration\u001b[0m: "
     ]
    }
   ],
   "source": [
    "next(iterator)"
   ]
  },
  {
   "cell_type": "code",
   "execution_count": 20,
   "metadata": {},
   "outputs": [
    {
     "ename": "StopIteration",
     "evalue": "",
     "output_type": "error",
     "traceback": [
      "\u001b[1;31m---------------------------------------------------------------------------\u001b[0m",
      "\u001b[1;31mStopIteration\u001b[0m                             Traceback (most recent call last)",
      "\u001b[1;32m<ipython-input-20-4ce711c44abc>\u001b[0m in \u001b[0;36m<module>\u001b[1;34m()\u001b[0m\n\u001b[1;32m----> 1\u001b[1;33m \u001b[0mnext\u001b[0m\u001b[1;33m(\u001b[0m\u001b[0miterator\u001b[0m\u001b[1;33m)\u001b[0m\u001b[1;33m\u001b[0m\u001b[0m\n\u001b[0m",
      "\u001b[1;31mStopIteration\u001b[0m: "
     ]
    }
   ],
   "source": [
    "next(iterator)"
   ]
  },
  {
   "cell_type": "code",
   "execution_count": 22,
   "metadata": {},
   "outputs": [],
   "source": [
    "iterable = ( 'hello', 'world')\n",
    "iterator_one = iter(iterable)  # returns a iterator\n",
    "iterator_two = iter(iterable)  # returns a iterator"
   ]
  },
  {
   "cell_type": "code",
   "execution_count": 23,
   "metadata": {},
   "outputs": [
    {
     "data": {
      "text/plain": [
       "'hello'"
      ]
     },
     "execution_count": 23,
     "metadata": {},
     "output_type": "execute_result"
    }
   ],
   "source": [
    "next(iterator_one)"
   ]
  },
  {
   "cell_type": "code",
   "execution_count": 24,
   "metadata": {},
   "outputs": [
    {
     "data": {
      "text/plain": [
       "'world'"
      ]
     },
     "execution_count": 24,
     "metadata": {},
     "output_type": "execute_result"
    }
   ],
   "source": [
    "next(iterator_one)"
   ]
  },
  {
   "cell_type": "code",
   "execution_count": 25,
   "metadata": {},
   "outputs": [
    {
     "ename": "StopIteration",
     "evalue": "",
     "output_type": "error",
     "traceback": [
      "\u001b[1;31m---------------------------------------------------------------------------\u001b[0m",
      "\u001b[1;31mStopIteration\u001b[0m                             Traceback (most recent call last)",
      "\u001b[1;32m<ipython-input-25-0c79eb9cfcaa>\u001b[0m in \u001b[0;36m<module>\u001b[1;34m()\u001b[0m\n\u001b[1;32m----> 1\u001b[1;33m \u001b[0mnext\u001b[0m\u001b[1;33m(\u001b[0m\u001b[0miterator_one\u001b[0m\u001b[1;33m)\u001b[0m  \u001b[1;31m# iterator_one reached the end\u001b[0m\u001b[1;33m\u001b[0m\u001b[0m\n\u001b[0m",
      "\u001b[1;31mStopIteration\u001b[0m: "
     ]
    }
   ],
   "source": [
    "next(iterator_one)  # iterator_one reached the end"
   ]
  },
  {
   "cell_type": "code",
   "execution_count": 26,
   "metadata": {},
   "outputs": [
    {
     "data": {
      "text/plain": [
       "'hello'"
      ]
     },
     "execution_count": 26,
     "metadata": {},
     "output_type": "execute_result"
    }
   ],
   "source": [
    "next(iterator_two) # iterator_two is not at the end as iterator_one"
   ]
  },
  {
   "cell_type": "markdown",
   "metadata": {},
   "source": [
    "# For loop can iterate any Sequence\n",
    "- Internally **for** calls iter() and next() on its sequence"
   ]
  },
  {
   "cell_type": "code",
   "execution_count": 31,
   "metadata": {},
   "outputs": [
    {
     "data": {
      "text/plain": [
       "True"
      ]
     },
     "execution_count": 31,
     "metadata": {},
     "output_type": "execute_result"
    }
   ],
   "source": [
    "'e' in \"Hello World!\""
   ]
  },
  {
   "cell_type": "code",
   "execution_count": 30,
   "metadata": {},
   "outputs": [
    {
     "name": "stdout",
     "output_type": "stream",
     "text": [
      "H e l l o   W o r l d ! "
     ]
    }
   ],
   "source": [
    "for s in \"Hello World!\":      # looping through a string\n",
    "    print(s, end=' ')"
   ]
  },
  {
   "cell_type": "code",
   "execution_count": 28,
   "metadata": {},
   "outputs": [
    {
     "name": "stdout",
     "output_type": "stream",
     "text": [
      "0, 1, 2, 3, 4, "
     ]
    }
   ],
   "source": [
    "for r in range(5):            # looping through a range\n",
    "    print(r, end=', ')"
   ]
  },
  {
   "cell_type": "code",
   "execution_count": 32,
   "metadata": {},
   "outputs": [
    {
     "name": "stdout",
     "output_type": "stream",
     "text": [
      "3\n",
      "2\n",
      "1\n"
     ]
    }
   ],
   "source": [
    "for n in [3,2,1]:             # looping through a list list\n",
    "    print(n)"
   ]
  },
  {
   "cell_type": "code",
   "execution_count": 33,
   "metadata": {},
   "outputs": [
    {
     "name": "stdout",
     "output_type": "stream",
     "text": [
      "hello\n",
      "world\n"
     ]
    }
   ],
   "source": [
    "for s in (\"hello\", \"world\"):  # looping through a tuple\n",
    "    print(s)"
   ]
  },
  {
   "cell_type": "code",
   "execution_count": 34,
   "metadata": {},
   "outputs": [
    {
     "data": {
      "text/plain": [
       "[0, 1, 2, 3, 4, 5, 6, 7, 8, 9, 10]"
      ]
     },
     "execution_count": 34,
     "metadata": {},
     "output_type": "execute_result"
    }
   ],
   "source": [
    "intList = list(range(0,11))  # one way to create a list, convert range into a list\n",
    "intList"
   ]
  },
  {
   "cell_type": "markdown",
   "metadata": {},
   "source": [
    "### Dir"
   ]
  },
  {
   "cell_type": "markdown",
   "metadata": {},
   "source": [
    "- When you import a module, how would you know what exists in it\n",
    "- dir(module) to find out what is available in that module"
   ]
  },
  {
   "cell_type": "markdown",
   "metadata": {},
   "source": [
    "## List of Built-in Functions"
   ]
  },
  {
   "cell_type": "code",
   "execution_count": 36,
   "metadata": {},
   "outputs": [
    {
     "data": {
      "text/plain": [
       "['ArithmeticError',\n",
       " 'AssertionError',\n",
       " 'AttributeError',\n",
       " 'BaseException',\n",
       " 'BlockingIOError',\n",
       " 'BrokenPipeError',\n",
       " 'BufferError',\n",
       " 'BytesWarning',\n",
       " 'ChildProcessError',\n",
       " 'ConnectionAbortedError',\n",
       " 'ConnectionError',\n",
       " 'ConnectionRefusedError',\n",
       " 'ConnectionResetError',\n",
       " 'DeprecationWarning',\n",
       " 'EOFError',\n",
       " 'Ellipsis',\n",
       " 'EnvironmentError',\n",
       " 'Exception',\n",
       " 'False',\n",
       " 'FileExistsError',\n",
       " 'FileNotFoundError',\n",
       " 'FloatingPointError',\n",
       " 'FutureWarning',\n",
       " 'GeneratorExit',\n",
       " 'IOError',\n",
       " 'ImportError',\n",
       " 'ImportWarning',\n",
       " 'IndentationError',\n",
       " 'IndexError',\n",
       " 'InterruptedError',\n",
       " 'IsADirectoryError',\n",
       " 'KeyError',\n",
       " 'KeyboardInterrupt',\n",
       " 'LookupError',\n",
       " 'MemoryError',\n",
       " 'ModuleNotFoundError',\n",
       " 'NameError',\n",
       " 'None',\n",
       " 'NotADirectoryError',\n",
       " 'NotImplemented',\n",
       " 'NotImplementedError',\n",
       " 'OSError',\n",
       " 'OverflowError',\n",
       " 'PendingDeprecationWarning',\n",
       " 'PermissionError',\n",
       " 'ProcessLookupError',\n",
       " 'RecursionError',\n",
       " 'ReferenceError',\n",
       " 'ResourceWarning',\n",
       " 'RuntimeError',\n",
       " 'RuntimeWarning',\n",
       " 'StopAsyncIteration',\n",
       " 'StopIteration',\n",
       " 'SyntaxError',\n",
       " 'SyntaxWarning',\n",
       " 'SystemError',\n",
       " 'SystemExit',\n",
       " 'TabError',\n",
       " 'TimeoutError',\n",
       " 'True',\n",
       " 'TypeError',\n",
       " 'UnboundLocalError',\n",
       " 'UnicodeDecodeError',\n",
       " 'UnicodeEncodeError',\n",
       " 'UnicodeError',\n",
       " 'UnicodeTranslateError',\n",
       " 'UnicodeWarning',\n",
       " 'UserWarning',\n",
       " 'ValueError',\n",
       " 'Warning',\n",
       " 'WindowsError',\n",
       " 'ZeroDivisionError',\n",
       " '__IPYTHON__',\n",
       " '__build_class__',\n",
       " '__debug__',\n",
       " '__doc__',\n",
       " '__import__',\n",
       " '__loader__',\n",
       " '__name__',\n",
       " '__package__',\n",
       " '__spec__',\n",
       " 'abs',\n",
       " 'all',\n",
       " 'any',\n",
       " 'ascii',\n",
       " 'bin',\n",
       " 'bool',\n",
       " 'bytearray',\n",
       " 'bytes',\n",
       " 'callable',\n",
       " 'chr',\n",
       " 'classmethod',\n",
       " 'compile',\n",
       " 'complex',\n",
       " 'copyright',\n",
       " 'credits',\n",
       " 'delattr',\n",
       " 'dict',\n",
       " 'dir',\n",
       " 'display',\n",
       " 'divmod',\n",
       " 'enumerate',\n",
       " 'eval',\n",
       " 'exec',\n",
       " 'filter',\n",
       " 'float',\n",
       " 'format',\n",
       " 'frozenset',\n",
       " 'get_ipython',\n",
       " 'getattr',\n",
       " 'globals',\n",
       " 'hasattr',\n",
       " 'hash',\n",
       " 'help',\n",
       " 'hex',\n",
       " 'id',\n",
       " 'input',\n",
       " 'int',\n",
       " 'isinstance',\n",
       " 'issubclass',\n",
       " 'iter',\n",
       " 'len',\n",
       " 'license',\n",
       " 'list',\n",
       " 'locals',\n",
       " 'map',\n",
       " 'max',\n",
       " 'memoryview',\n",
       " 'min',\n",
       " 'next',\n",
       " 'object',\n",
       " 'oct',\n",
       " 'open',\n",
       " 'ord',\n",
       " 'pow',\n",
       " 'print',\n",
       " 'property',\n",
       " 'range',\n",
       " 'repr',\n",
       " 'reversed',\n",
       " 'round',\n",
       " 'set',\n",
       " 'setattr',\n",
       " 'slice',\n",
       " 'sorted',\n",
       " 'staticmethod',\n",
       " 'str',\n",
       " 'sum',\n",
       " 'super',\n",
       " 'tuple',\n",
       " 'type',\n",
       " 'vars',\n",
       " 'zip']"
      ]
     },
     "execution_count": 36,
     "metadata": {},
     "output_type": "execute_result"
    }
   ],
   "source": [
    "dir(__builtin__)   # try: dir(__builtin__)[79:]   dunder"
   ]
  },
  {
   "cell_type": "code",
   "execution_count": 37,
   "metadata": {},
   "outputs": [
    {
     "name": "stdout",
     "output_type": "stream",
     "text": [
      "Help on built-in function dir in module builtins:\n",
      "\n",
      "dir(...)\n",
      "    dir([object]) -> list of strings\n",
      "    \n",
      "    If called without an argument, return the names in the current scope.\n",
      "    Else, return an alphabetized list of names comprising (some of) the attributes\n",
      "    of the given object, and of attributes reachable from it.\n",
      "    If the object supplies a method named __dir__, it will be used; otherwise\n",
      "    the default dir() logic is used and returns:\n",
      "      for a module object: the module's attributes.\n",
      "      for a class object:  its attributes, and recursively the attributes\n",
      "        of its bases.\n",
      "      for any other object: its attributes, its class's attributes, and\n",
      "        recursively the attributes of its class's base classes.\n",
      "\n"
     ]
    }
   ],
   "source": [
    "help(dir)"
   ]
  },
  {
   "cell_type": "code",
   "execution_count": 38,
   "metadata": {},
   "outputs": [
    {
     "data": {
      "text/plain": [
       "['__doc__',\n",
       " '__loader__',\n",
       " '__name__',\n",
       " '__package__',\n",
       " '__spec__',\n",
       " 'acos',\n",
       " 'acosh',\n",
       " 'asin',\n",
       " 'asinh',\n",
       " 'atan',\n",
       " 'atan2',\n",
       " 'atanh',\n",
       " 'ceil',\n",
       " 'copysign',\n",
       " 'cos',\n",
       " 'cosh',\n",
       " 'degrees',\n",
       " 'e',\n",
       " 'erf',\n",
       " 'erfc',\n",
       " 'exp',\n",
       " 'expm1',\n",
       " 'fabs',\n",
       " 'factorial',\n",
       " 'floor',\n",
       " 'fmod',\n",
       " 'frexp',\n",
       " 'fsum',\n",
       " 'gamma',\n",
       " 'gcd',\n",
       " 'hypot',\n",
       " 'inf',\n",
       " 'isclose',\n",
       " 'isfinite',\n",
       " 'isinf',\n",
       " 'isnan',\n",
       " 'ldexp',\n",
       " 'lgamma',\n",
       " 'log',\n",
       " 'log10',\n",
       " 'log1p',\n",
       " 'log2',\n",
       " 'modf',\n",
       " 'nan',\n",
       " 'pi',\n",
       " 'pow',\n",
       " 'radians',\n",
       " 'sin',\n",
       " 'sinh',\n",
       " 'sqrt',\n",
       " 'tan',\n",
       " 'tanh',\n",
       " 'tau',\n",
       " 'trunc']"
      ]
     },
     "execution_count": 38,
     "metadata": {},
     "output_type": "execute_result"
    }
   ],
   "source": [
    "dir(math)   # lists available functions, classes, names in math module"
   ]
  },
  {
   "cell_type": "code",
   "execution_count": 39,
   "metadata": {},
   "outputs": [
    {
     "name": "stdout",
     "output_type": "stream",
     "text": [
      "Help on built-in function sqrt in module math:\n",
      "\n",
      "sqrt(...)\n",
      "    sqrt(x)\n",
      "    \n",
      "    Return the square root of x.\n",
      "\n"
     ]
    }
   ],
   "source": [
    "help(math.sqrt)"
   ]
  },
  {
   "cell_type": "code",
   "execution_count": 40,
   "metadata": {},
   "outputs": [
    {
     "data": {
      "text/plain": [
       "4.0"
      ]
     },
     "execution_count": 40,
     "metadata": {},
     "output_type": "execute_result"
    }
   ],
   "source": [
    "math.sqrt(16)  # 4**2 = 16"
   ]
  },
  {
   "cell_type": "code",
   "execution_count": 41,
   "metadata": {},
   "outputs": [
    {
     "name": "stdout",
     "output_type": "stream",
     "text": [
      "Help on built-in function pow in module math:\n",
      "\n",
      "pow(...)\n",
      "    pow(x, y)\n",
      "    \n",
      "    Return x**y (x to the power of y).\n",
      "\n"
     ]
    }
   ],
   "source": [
    "help(math.pow)"
   ]
  },
  {
   "cell_type": "code",
   "execution_count": 42,
   "metadata": {},
   "outputs": [
    {
     "data": {
      "text/plain": [
       "4.0"
      ]
     },
     "execution_count": 42,
     "metadata": {},
     "output_type": "execute_result"
    }
   ],
   "source": [
    "math.pow(2,2)  # returns floating point"
   ]
  },
  {
   "cell_type": "code",
   "execution_count": 43,
   "metadata": {},
   "outputs": [
    {
     "data": {
      "text/plain": [
       "4"
      ]
     },
     "execution_count": 43,
     "metadata": {},
     "output_type": "execute_result"
    }
   ],
   "source": [
    "2 ** 2         # integer"
   ]
  },
  {
   "cell_type": "code",
   "execution_count": 44,
   "metadata": {},
   "outputs": [
    {
     "data": {
      "text/plain": [
       "360.0"
      ]
     },
     "execution_count": 44,
     "metadata": {},
     "output_type": "execute_result"
    }
   ],
   "source": [
    "# convert from radians to degrees\n",
    "math.degrees(2*math.pi)   # 2π = 360 degrees"
   ]
  },
  {
   "cell_type": "code",
   "execution_count": 45,
   "metadata": {},
   "outputs": [
    {
     "data": {
      "text/plain": [
       "180.0"
      ]
     },
     "execution_count": 45,
     "metadata": {},
     "output_type": "execute_result"
    }
   ],
   "source": [
    "math.degrees(math.pi)   # π = 180 degrees"
   ]
  },
  {
   "cell_type": "code",
   "execution_count": 46,
   "metadata": {},
   "outputs": [
    {
     "data": {
      "text/plain": [
       "1.5707963267948966"
      ]
     },
     "execution_count": 46,
     "metadata": {},
     "output_type": "execute_result"
    }
   ],
   "source": [
    "radians = math.radians(90)  # convert degres to radians\n",
    "radians"
   ]
  },
  {
   "cell_type": "code",
   "execution_count": 47,
   "metadata": {},
   "outputs": [
    {
     "data": {
      "text/plain": [
       "1.0"
      ]
     },
     "execution_count": 47,
     "metadata": {},
     "output_type": "execute_result"
    }
   ],
   "source": [
    "math.sin(radians)  # sine(90) is 1"
   ]
  },
  {
   "cell_type": "code",
   "execution_count": 48,
   "metadata": {},
   "outputs": [
    {
     "data": {
      "text/plain": [
       "6.123233995736766e-17"
      ]
     },
     "execution_count": 48,
     "metadata": {},
     "output_type": "execute_result"
    }
   ],
   "source": [
    "math.cos(radians)  # sine(90) is 1"
   ]
  },
  {
   "cell_type": "code",
   "execution_count": 49,
   "metadata": {},
   "outputs": [
    {
     "data": {
      "text/plain": [
       "1.633123935319537e+16"
      ]
     },
     "execution_count": 49,
     "metadata": {},
     "output_type": "execute_result"
    }
   ],
   "source": [
    "math.tan(radians)  # sine(90) is 1"
   ]
  },
  {
   "cell_type": "markdown",
   "metadata": {},
   "source": [
    "## Datetime\n",
    "-  Represents date and time in some timezone"
   ]
  },
  {
   "cell_type": "code",
   "execution_count": 51,
   "metadata": {},
   "outputs": [],
   "source": [
    "import datetime"
   ]
  },
  {
   "cell_type": "code",
   "execution_count": 52,
   "metadata": {
    "scrolled": true
   },
   "outputs": [
    {
     "data": {
      "text/plain": [
       "['MAXYEAR',\n",
       " 'MINYEAR',\n",
       " '__builtins__',\n",
       " '__cached__',\n",
       " '__doc__',\n",
       " '__file__',\n",
       " '__loader__',\n",
       " '__name__',\n",
       " '__package__',\n",
       " '__spec__',\n",
       " 'date',\n",
       " 'datetime',\n",
       " 'datetime_CAPI',\n",
       " 'time',\n",
       " 'timedelta',\n",
       " 'timezone',\n",
       " 'tzinfo']"
      ]
     },
     "execution_count": 52,
     "metadata": {},
     "output_type": "execute_result"
    }
   ],
   "source": [
    "\n",
    "#   datetime module has the following names (objects, functions, variables, classes)\n",
    "\n",
    "#  'date',\n",
    "#  'datetime',\n",
    "#  'datetime_CAPI',\n",
    "#  'time',\n",
    "#  'timedelta',\n",
    "#  'timezone',\n",
    "#  'tzinfo'\n",
    "\n",
    "dir(datetime)"
   ]
  },
  {
   "cell_type": "code",
   "execution_count": 53,
   "metadata": {
    "scrolled": true
   },
   "outputs": [
    {
     "data": {
      "text/plain": [
       "['__add__',\n",
       " '__class__',\n",
       " '__delattr__',\n",
       " '__dir__',\n",
       " '__doc__',\n",
       " '__eq__',\n",
       " '__format__',\n",
       " '__ge__',\n",
       " '__getattribute__',\n",
       " '__gt__',\n",
       " '__hash__',\n",
       " '__init__',\n",
       " '__init_subclass__',\n",
       " '__le__',\n",
       " '__lt__',\n",
       " '__ne__',\n",
       " '__new__',\n",
       " '__radd__',\n",
       " '__reduce__',\n",
       " '__reduce_ex__',\n",
       " '__repr__',\n",
       " '__rsub__',\n",
       " '__setattr__',\n",
       " '__sizeof__',\n",
       " '__str__',\n",
       " '__sub__',\n",
       " '__subclasshook__',\n",
       " 'astimezone',\n",
       " 'combine',\n",
       " 'ctime',\n",
       " 'date',\n",
       " 'day',\n",
       " 'dst',\n",
       " 'fold',\n",
       " 'fromordinal',\n",
       " 'fromtimestamp',\n",
       " 'hour',\n",
       " 'isocalendar',\n",
       " 'isoformat',\n",
       " 'isoweekday',\n",
       " 'max',\n",
       " 'microsecond',\n",
       " 'min',\n",
       " 'minute',\n",
       " 'month',\n",
       " 'now',\n",
       " 'replace',\n",
       " 'resolution',\n",
       " 'second',\n",
       " 'strftime',\n",
       " 'strptime',\n",
       " 'time',\n",
       " 'timestamp',\n",
       " 'timetuple',\n",
       " 'timetz',\n",
       " 'today',\n",
       " 'toordinal',\n",
       " 'tzinfo',\n",
       " 'tzname',\n",
       " 'utcfromtimestamp',\n",
       " 'utcnow',\n",
       " 'utcoffset',\n",
       " 'utctimetuple',\n",
       " 'weekday',\n",
       " 'year']"
      ]
     },
     "execution_count": 53,
     "metadata": {},
     "output_type": "execute_result"
    }
   ],
   "source": [
    "dir(datetime.datetime)"
   ]
  },
  {
   "cell_type": "code",
   "execution_count": 54,
   "metadata": {
    "scrolled": true
   },
   "outputs": [
    {
     "name": "stdout",
     "output_type": "stream",
     "text": [
      "<module 'datetime' from 'C:\\\\Users\\\\Dana\\\\Anaconda3\\\\lib\\\\datetime.py'>\n"
     ]
    }
   ],
   "source": [
    "print(datetime)"
   ]
  },
  {
   "cell_type": "code",
   "execution_count": 55,
   "metadata": {},
   "outputs": [
    {
     "name": "stdout",
     "output_type": "stream",
     "text": [
      "<class 'datetime.datetime'>\n"
     ]
    }
   ],
   "source": [
    "print(datetime.datetime)  # classes are custom data types"
   ]
  },
  {
   "cell_type": "code",
   "execution_count": 60,
   "metadata": {},
   "outputs": [
    {
     "name": "stdout",
     "output_type": "stream",
     "text": [
      "<method 'date' of 'datetime.datetime' objects>\n"
     ]
    }
   ],
   "source": [
    "print(datetime.datetime.date)"
   ]
  },
  {
   "cell_type": "code",
   "execution_count": 62,
   "metadata": {},
   "outputs": [
    {
     "data": {
      "text/plain": [
       "type"
      ]
     },
     "execution_count": 62,
     "metadata": {},
     "output_type": "execute_result"
    }
   ],
   "source": [
    "type(datetime.datetime)"
   ]
  },
  {
   "cell_type": "code",
   "execution_count": 57,
   "metadata": {},
   "outputs": [
    {
     "data": {
      "text/plain": [
       "int"
      ]
     },
     "execution_count": 57,
     "metadata": {},
     "output_type": "execute_result"
    }
   ],
   "source": [
    "type(2)"
   ]
  },
  {
   "cell_type": "markdown",
   "metadata": {},
   "source": [
    "### Create a date object from module datetime"
   ]
  },
  {
   "cell_type": "code",
   "execution_count": 63,
   "metadata": {},
   "outputs": [
    {
     "ename": "TypeError",
     "evalue": "Required argument 'year' (pos 1) not found",
     "output_type": "error",
     "traceback": [
      "\u001b[1;31m---------------------------------------------------------------------------\u001b[0m",
      "\u001b[1;31mTypeError\u001b[0m                                 Traceback (most recent call last)",
      "\u001b[1;32m<ipython-input-63-a25a432c1be2>\u001b[0m in \u001b[0;36m<module>\u001b[1;34m()\u001b[0m\n\u001b[1;32m----> 1\u001b[1;33m \u001b[0mdd\u001b[0m \u001b[1;33m=\u001b[0m \u001b[0mdatetime\u001b[0m\u001b[1;33m.\u001b[0m\u001b[0mdate\u001b[0m\u001b[1;33m(\u001b[0m\u001b[1;33m)\u001b[0m  \u001b[1;31m# expect TypeError. It says year is required\u001b[0m\u001b[1;33m\u001b[0m\u001b[0m\n\u001b[0m",
      "\u001b[1;31mTypeError\u001b[0m: Required argument 'year' (pos 1) not found"
     ]
    }
   ],
   "source": [
    "dd = datetime.date()  # expect TypeError. It says year is required"
   ]
  },
  {
   "cell_type": "code",
   "execution_count": 64,
   "metadata": {},
   "outputs": [
    {
     "ename": "TypeError",
     "evalue": "Required argument 'month' (pos 2) not found",
     "output_type": "error",
     "traceback": [
      "\u001b[1;31m---------------------------------------------------------------------------\u001b[0m",
      "\u001b[1;31mTypeError\u001b[0m                                 Traceback (most recent call last)",
      "\u001b[1;32m<ipython-input-64-902e8bf938bf>\u001b[0m in \u001b[0;36m<module>\u001b[1;34m()\u001b[0m\n\u001b[1;32m----> 1\u001b[1;33m \u001b[0mdd\u001b[0m \u001b[1;33m=\u001b[0m \u001b[0mdatetime\u001b[0m\u001b[1;33m.\u001b[0m\u001b[0mdate\u001b[0m\u001b[1;33m(\u001b[0m\u001b[1;36m2018\u001b[0m\u001b[1;33m)\u001b[0m  \u001b[1;31m# expect TypeError. It says month is required\u001b[0m\u001b[1;33m\u001b[0m\u001b[0m\n\u001b[0m",
      "\u001b[1;31mTypeError\u001b[0m: Required argument 'month' (pos 2) not found"
     ]
    }
   ],
   "source": [
    "dd = datetime.date(2018)  # expect TypeError. It says month is required"
   ]
  },
  {
   "cell_type": "code",
   "execution_count": 65,
   "metadata": {},
   "outputs": [
    {
     "ename": "TypeError",
     "evalue": "Required argument 'day' (pos 3) not found",
     "output_type": "error",
     "traceback": [
      "\u001b[1;31m---------------------------------------------------------------------------\u001b[0m",
      "\u001b[1;31mTypeError\u001b[0m                                 Traceback (most recent call last)",
      "\u001b[1;32m<ipython-input-65-0458ab542d75>\u001b[0m in \u001b[0;36m<module>\u001b[1;34m()\u001b[0m\n\u001b[1;32m----> 1\u001b[1;33m \u001b[0mdd\u001b[0m \u001b[1;33m=\u001b[0m \u001b[0mdatetime\u001b[0m\u001b[1;33m.\u001b[0m\u001b[0mdate\u001b[0m\u001b[1;33m(\u001b[0m\u001b[1;36m2018\u001b[0m\u001b[1;33m,\u001b[0m\u001b[1;36m7\u001b[0m\u001b[1;33m)\u001b[0m  \u001b[1;31m# expect TypeError. It says day is required\u001b[0m\u001b[1;33m\u001b[0m\u001b[0m\n\u001b[0m",
      "\u001b[1;31mTypeError\u001b[0m: Required argument 'day' (pos 3) not found"
     ]
    }
   ],
   "source": [
    "dd = datetime.date(2018,7)  # expect TypeError. It says day is required"
   ]
  },
  {
   "cell_type": "code",
   "execution_count": 77,
   "metadata": {
    "scrolled": true
   },
   "outputs": [
    {
     "data": {
      "text/plain": [
       "datetime.date(2018, 7, 31)"
      ]
     },
     "execution_count": 77,
     "metadata": {},
     "output_type": "execute_result"
    }
   ],
   "source": [
    "dd = datetime.date(2018,7,31)  # year, month date\n",
    "dd"
   ]
  },
  {
   "cell_type": "markdown",
   "metadata": {},
   "source": [
    "### datetime now"
   ]
  },
  {
   "cell_type": "code",
   "execution_count": 71,
   "metadata": {},
   "outputs": [
    {
     "data": {
      "text/plain": [
       "<function datetime.now(tz=None)>"
      ]
     },
     "execution_count": 71,
     "metadata": {},
     "output_type": "execute_result"
    }
   ],
   "source": [
    "datetime.datetime.now          # use () to call a function"
   ]
  },
  {
   "cell_type": "code",
   "execution_count": 75,
   "metadata": {},
   "outputs": [
    {
     "data": {
      "text/plain": [
       "datetime.datetime(2018, 7, 31, 19, 18, 14, 106267)"
      ]
     },
     "execution_count": 75,
     "metadata": {},
     "output_type": "execute_result"
    }
   ],
   "source": [
    "dt = datetime.datetime.now() # today's date\n",
    "dt"
   ]
  },
  {
   "cell_type": "code",
   "execution_count": 76,
   "metadata": {},
   "outputs": [
    {
     "name": "stdout",
     "output_type": "stream",
     "text": [
      "2018-07-31 19:18:14.106267\n"
     ]
    }
   ],
   "source": [
    "print(dt)"
   ]
  },
  {
   "cell_type": "code",
   "execution_count": null,
   "metadata": {},
   "outputs": [],
   "source": [
    "dt.date()"
   ]
  },
  {
   "cell_type": "code",
   "execution_count": 78,
   "metadata": {},
   "outputs": [
    {
     "name": "stdout",
     "output_type": "stream",
     "text": [
      "year: 2018, month: 7, day: 31\n"
     ]
    }
   ],
   "source": [
    "print (\"year: %d, month: %d, day: %d\" % (dt.year, dt.month, dt.day))  # format specifier"
   ]
  },
  {
   "cell_type": "code",
   "execution_count": 80,
   "metadata": {},
   "outputs": [
    {
     "name": "stdout",
     "output_type": "stream",
     "text": [
      "year: 2018, month: 7, day: 31\n"
     ]
    }
   ],
   "source": [
    "print (\"year: {}, month: {}, day: {}\".format(dt.year, dt.month, dt.day))  # format method"
   ]
  },
  {
   "cell_type": "code",
   "execution_count": 81,
   "metadata": {},
   "outputs": [
    {
     "data": {
      "text/plain": [
       "datetime.time(19, 18, 14, 106267)"
      ]
     },
     "execution_count": 81,
     "metadata": {},
     "output_type": "execute_result"
    }
   ],
   "source": [
    "dt.time()"
   ]
  },
  {
   "cell_type": "code",
   "execution_count": 82,
   "metadata": {},
   "outputs": [
    {
     "name": "stdout",
     "output_type": "stream",
     "text": [
      "hour: 19 minute: 18 second: 14\n"
     ]
    }
   ],
   "source": [
    "print(\"hour:\", dt.hour, \"minute:\", dt.minute, \"second:\", dt.second)     # basic print"
   ]
  },
  {
   "cell_type": "code",
   "execution_count": 83,
   "metadata": {},
   "outputs": [
    {
     "data": {
      "text/plain": [
       "(datetime.date(2018, 7, 4), datetime.time(0, 0))"
      ]
     },
     "execution_count": 83,
     "metadata": {},
     "output_type": "execute_result"
    }
   ],
   "source": [
    "holiday = datetime.datetime(2018, 7, 4)    # providing only year, month, day\n",
    "holiday.date(), holiday.time()"
   ]
  },
  {
   "cell_type": "code",
   "execution_count": 84,
   "metadata": {},
   "outputs": [
    {
     "data": {
      "text/plain": [
       "(datetime.date(2018, 7, 4), datetime.time(20, 36, 44))"
      ]
     },
     "execution_count": 84,
     "metadata": {},
     "output_type": "execute_result"
    }
   ],
   "source": [
    "holiday = datetime.datetime(2018, 7, 4, 20, 36, 44)  # providing year, month, day, hr,min,sec\n",
    "holiday.date(), holiday.time()"
   ]
  },
  {
   "cell_type": "code",
   "execution_count": 85,
   "metadata": {},
   "outputs": [
    {
     "data": {
      "text/plain": [
       "datetime.datetime(2018, 8, 1, 2, 20, 9, 671372)"
      ]
     },
     "execution_count": 85,
     "metadata": {},
     "output_type": "execute_result"
    }
   ],
   "source": [
    "holiday.utcnow()   # asking the holiday object what day and time is it now?"
   ]
  },
  {
   "cell_type": "markdown",
   "metadata": {},
   "source": [
    "## Time"
   ]
  },
  {
   "cell_type": "code",
   "execution_count": 87,
   "metadata": {},
   "outputs": [
    {
     "data": {
      "text/plain": [
       "1533090091.7529762"
      ]
     },
     "execution_count": 87,
     "metadata": {},
     "output_type": "execute_result"
    }
   ],
   "source": [
    "import time\n",
    "\n",
    "time.time()  # time in seconds since epoch 12:00 am jan 1, 1970, wall clock"
   ]
  },
  {
   "cell_type": "code",
   "execution_count": 88,
   "metadata": {},
   "outputs": [
    {
     "data": {
      "text/plain": [
       "7.052347814741876e-07"
      ]
     },
     "execution_count": 88,
     "metadata": {},
     "output_type": "execute_result"
    }
   ],
   "source": [
    "time.clock()   # cpu time"
   ]
  },
  {
   "cell_type": "code",
   "execution_count": 90,
   "metadata": {},
   "outputs": [],
   "source": [
    "time.sleep(1)  # sleep for 1 second"
   ]
  },
  {
   "cell_type": "code",
   "execution_count": 92,
   "metadata": {},
   "outputs": [
    {
     "name": "stdout",
     "output_type": "stream",
     "text": [
      "Time elapsed:  3.0014610290527344\n"
     ]
    }
   ],
   "source": [
    "tick = time.time()   # could also replace time.time() with time.clock()\n",
    "for _ in range(3):  # underscore _ is valid variable or index name\n",
    "    time.sleep(1)\n",
    "toc = time.time()    # could also replace time.time() with time.clock()\n",
    "print('Time elapsed: ', toc-tick)  # time.clock gives cpu time, time.time gives wall clock time"
   ]
  },
  {
   "cell_type": "code",
   "execution_count": 93,
   "metadata": {},
   "outputs": [
    {
     "data": {
      "text/plain": [
       "time.struct_time(tm_year=2018, tm_mon=7, tm_mday=31, tm_hour=19, tm_min=23, tm_sec=40, tm_wday=1, tm_yday=212, tm_isdst=1)"
      ]
     },
     "execution_count": 93,
     "metadata": {},
     "output_type": "execute_result"
    }
   ],
   "source": [
    "localtime = time.localtime(time.time())\n",
    "localtime # not human easily human readable"
   ]
  },
  {
   "cell_type": "code",
   "execution_count": 95,
   "metadata": {},
   "outputs": [
    {
     "data": {
      "text/plain": [
       "'Tue Jul 31 19:23:40 2018'"
      ]
     },
     "execution_count": 95,
     "metadata": {},
     "output_type": "execute_result"
    }
   ],
   "source": [
    "time.asctime(localtime)  # convert localtime into a string"
   ]
  },
  {
   "cell_type": "code",
   "execution_count": 96,
   "metadata": {},
   "outputs": [
    {
     "ename": "TypeError",
     "evalue": "strftime() argument 1 must be str, not time.struct_time",
     "output_type": "error",
     "traceback": [
      "\u001b[1;31m---------------------------------------------------------------------------\u001b[0m",
      "\u001b[1;31mTypeError\u001b[0m                                 Traceback (most recent call last)",
      "\u001b[1;32m<ipython-input-96-1353fd8e10c3>\u001b[0m in \u001b[0;36m<module>\u001b[1;34m()\u001b[0m\n\u001b[1;32m----> 1\u001b[1;33m \u001b[0mtime\u001b[0m\u001b[1;33m.\u001b[0m\u001b[0mstrftime\u001b[0m\u001b[1;33m(\u001b[0m\u001b[0mlocaltime\u001b[0m\u001b[1;33m)\u001b[0m\u001b[1;33m\u001b[0m\u001b[0m\n\u001b[0m",
      "\u001b[1;31mTypeError\u001b[0m: strftime() argument 1 must be str, not time.struct_time"
     ]
    }
   ],
   "source": [
    "time.strftime(localtime)"
   ]
  },
  {
   "cell_type": "markdown",
   "metadata": {},
   "source": [
    "## Random"
   ]
  },
  {
   "cell_type": "code",
   "execution_count": 97,
   "metadata": {
    "scrolled": true
   },
   "outputs": [
    {
     "ename": "NameError",
     "evalue": "name 'random' is not defined",
     "output_type": "error",
     "traceback": [
      "\u001b[1;31m---------------------------------------------------------------------------\u001b[0m",
      "\u001b[1;31mNameError\u001b[0m                                 Traceback (most recent call last)",
      "\u001b[1;32m<ipython-input-97-b272b36fabcc>\u001b[0m in \u001b[0;36m<module>\u001b[1;34m()\u001b[0m\n\u001b[1;32m----> 1\u001b[1;33m \u001b[0mhelp\u001b[0m\u001b[1;33m(\u001b[0m\u001b[0mrandom\u001b[0m\u001b[1;33m)\u001b[0m\u001b[1;33m\u001b[0m\u001b[0m\n\u001b[0m",
      "\u001b[1;31mNameError\u001b[0m: name 'random' is not defined"
     ]
    }
   ],
   "source": [
    "help(random)"
   ]
  },
  {
   "cell_type": "code",
   "execution_count": 98,
   "metadata": {},
   "outputs": [],
   "source": [
    "import random"
   ]
  },
  {
   "cell_type": "code",
   "execution_count": 122,
   "metadata": {
    "scrolled": true
   },
   "outputs": [
    {
     "data": {
      "text/plain": [
       "2"
      ]
     },
     "execution_count": 122,
     "metadata": {},
     "output_type": "execute_result"
    }
   ],
   "source": [
    "random.randint(1,10)  # outputs a random integer number from 1 to 10 (both inclusive)"
   ]
  },
  {
   "cell_type": "code",
   "execution_count": 131,
   "metadata": {},
   "outputs": [
    {
     "data": {
      "text/plain": [
       "3"
      ]
     },
     "execution_count": 131,
     "metadata": {},
     "output_type": "execute_result"
    }
   ],
   "source": [
    "random.choice([1,2,3,4])  # try: rerunning this cell using ctrl enter"
   ]
  },
  {
   "cell_type": "code",
   "execution_count": 141,
   "metadata": {},
   "outputs": [
    {
     "data": {
      "text/plain": [
       "'good day'"
      ]
     },
     "execution_count": 141,
     "metadata": {},
     "output_type": "execute_result"
    }
   ],
   "source": [
    "random.choice([\"hello\",\"hi\",\"good day\", \"Nǐ hǎo\"])  # try: running this cell few times using ctrl enter"
   ]
  },
  {
   "cell_type": "code",
   "execution_count": 102,
   "metadata": {},
   "outputs": [
    {
     "name": "stdout",
     "output_type": "stream",
     "text": [
      "1 2 1 1 2 1 3 5 2 3 \n",
      "3 5 2 1 3 5 5 4 3 5 "
     ]
    }
   ],
   "source": [
    "# random generates random values, if you want repeatable pseudo random, them seed\n",
    "for i  in range(10):\n",
    "    print(random.randint(1,5),end=' ')\n",
    "print()\n",
    "for i  in range(10):\n",
    "    print(random.randint(1,5),end=' ')"
   ]
  },
  {
   "cell_type": "markdown",
   "metadata": {},
   "source": [
    "## Seed\n",
    "- Easy to test if the random sequence are repeatable (**pseudo random**)\n",
    "- Can be called with no arguments\n",
    "- integer, string, or any object\n",
    "  - include datetime.date() or datetime.datetime.now()"
   ]
  },
  {
   "cell_type": "code",
   "execution_count": 159,
   "metadata": {},
   "outputs": [
    {
     "name": "stdout",
     "output_type": "stream",
     "text": [
      "2 4 4 2 4 3 4 5 1 5 \n",
      "2 4 4 2 4 3 4 5 1 5 "
     ]
    }
   ],
   "source": [
    "random.seed(100)        # can be called with no arguments\n",
    "for i  in range(10):\n",
    "\n",
    "    print(random.randint(1,5),end=' ')\n",
    "print()\n",
    "\n",
    "random.seed(100)        # using the same seed,, will restart the same sequence\n",
    "for i  in range(10):\n",
    "    print(random.randint(1,5),end=' ')"
   ]
  },
  {
   "cell_type": "code",
   "execution_count": 143,
   "metadata": {},
   "outputs": [
    {
     "data": {
      "text/plain": [
       "0.12131185889358598"
      ]
     },
     "execution_count": 143,
     "metadata": {},
     "output_type": "execute_result"
    }
   ],
   "source": [
    "random.random()       # produces a random number between 0 to 1"
   ]
  },
  {
   "cell_type": "code",
   "execution_count": 168,
   "metadata": {},
   "outputs": [
    {
     "data": {
      "text/plain": [
       "9.645051596062347"
      ]
     },
     "execution_count": 168,
     "metadata": {},
     "output_type": "execute_result"
    }
   ],
   "source": [
    "random.uniform(9,10)"
   ]
  },
  {
   "cell_type": "code",
   "execution_count": 172,
   "metadata": {
    "scrolled": true
   },
   "outputs": [
    {
     "data": {
      "text/plain": [
       "0.1867765669522521"
      ]
     },
     "execution_count": 172,
     "metadata": {},
     "output_type": "execute_result"
    }
   ],
   "source": [
    "random.seed(\"random seed\")  # any hashable object can be passed\n",
    "random.random()"
   ]
  },
  {
   "cell_type": "code",
   "execution_count": 181,
   "metadata": {
    "scrolled": true
   },
   "outputs": [
    {
     "data": {
      "text/plain": [
       "0.6050087373154011"
      ]
     },
     "execution_count": 181,
     "metadata": {},
     "output_type": "execute_result"
    }
   ],
   "source": [
    "random.seed(\"random seed \")  # added an extra space\n",
    "random.random()"
   ]
  },
  {
   "cell_type": "code",
   "execution_count": 182,
   "metadata": {},
   "outputs": [
    {
     "data": {
      "text/plain": [
       "1017051234066198769"
      ]
     },
     "execution_count": 182,
     "metadata": {},
     "output_type": "execute_result"
    }
   ],
   "source": [
    "abs(hash(\"random seed\") - hash(\"random seed \"))  # added 1 space after seed"
   ]
  },
  {
   "cell_type": "code",
   "execution_count": 186,
   "metadata": {},
   "outputs": [
    {
     "data": {
      "text/plain": [
       "['hello', 1, 2, 3]"
      ]
     },
     "execution_count": 186,
     "metadata": {},
     "output_type": "execute_result"
    }
   ],
   "source": [
    "t = (1, 2, 3,[\"hello\", 1, 2, 3])\n",
    "t[3]"
   ]
  },
  {
   "cell_type": "markdown",
   "metadata": {},
   "source": [
    "## Functions\n",
    "    - Why functions?\n",
    "      - When we write python code, we are adding one statement at a time\n",
    "      - When we look back we would realize that few lines of code here and there keeps repeating\n",
    "      - If we find a defect in the repeated code we need to make changes to several places\n",
    "      - In that processes we could add more defects :)\n",
    "      - Wont it be nice to organize the repeated code?\n",
    "      \n",
    "    - What is a function?\n",
    "      - A named sequence of statement(s)\n",
    "      - It takes zero or more input parameters\n",
    "      - It returns zero or more output values\n",
    "      - It makes code reusable and modular\n",
    "      - Once a function is defined, we need to call or invoke that function"
   ]
  },
  {
   "cell_type": "markdown",
   "metadata": {},
   "source": [
    "![Function](images/Lecture-4.002.png)"
   ]
  },
  {
   "cell_type": "markdown",
   "metadata": {},
   "source": [
    "### Do Nothing Function"
   ]
  },
  {
   "cell_type": "markdown",
   "metadata": {},
   "source": [
    "![Function](images/Lecture-4.003.png)"
   ]
  },
  {
   "cell_type": "code",
   "execution_count": 187,
   "metadata": {},
   "outputs": [],
   "source": [
    "def do_nothing_function():  # function definition\n",
    "    pass                    # null operation\n",
    "\n",
    "do_nothing_function()       # function is called"
   ]
  },
  {
   "cell_type": "code",
   "execution_count": 188,
   "metadata": {},
   "outputs": [],
   "source": [
    "def foo(): pass             # single line function\n",
    "\n",
    "foo()"
   ]
  },
  {
   "cell_type": "code",
   "execution_count": 190,
   "metadata": {},
   "outputs": [],
   "source": [
    "def foo():                  # uses semicolon\n",
    "    ;                       # using pass is more readable\n",
    "\n",
    "foo()"
   ]
  },
  {
   "cell_type": "markdown",
   "metadata": {},
   "source": [
    "### Greetings Function"
   ]
  },
  {
   "cell_type": "code",
   "execution_count": 191,
   "metadata": {},
   "outputs": [
    {
     "name": "stdout",
     "output_type": "stream",
     "text": [
      "Greetings!\n"
     ]
    }
   ],
   "source": [
    "def greetings():  # function definition\n",
    "    print(\"Greetings!\")\n",
    "\n",
    "greetings()       # function is called"
   ]
  },
  {
   "cell_type": "markdown",
   "metadata": {},
   "source": [
    "![Function](images/Lecture-4.004.png)"
   ]
  },
  {
   "cell_type": "markdown",
   "metadata": {},
   "source": [
    "### One Argument Function With no Return"
   ]
  },
  {
   "cell_type": "code",
   "execution_count": 192,
   "metadata": {},
   "outputs": [
    {
     "name": "stdout",
     "output_type": "stream",
     "text": [
      "Greetings!\n",
      "Hello!\n"
     ]
    }
   ],
   "source": [
    "def greetingsAgain(message):     # function definition\n",
    "    print(message)\n",
    "\n",
    "greetingsAgain(\"Greetings!\")       # function is called()\n",
    "greetingsAgain(\"Hello!\") "
   ]
  },
  {
   "cell_type": "markdown",
   "metadata": {},
   "source": [
    "![Function](images/Lecture-4.005.png)"
   ]
  },
  {
   "cell_type": "markdown",
   "metadata": {},
   "source": [
    "### One Argument Function which Returns None"
   ]
  },
  {
   "cell_type": "code",
   "execution_count": 193,
   "metadata": {},
   "outputs": [
    {
     "name": "stdout",
     "output_type": "stream",
     "text": [
      "Greetings!\n"
     ]
    },
    {
     "data": {
      "text/plain": [
       "NoneType"
      ]
     },
     "execution_count": 193,
     "metadata": {},
     "output_type": "execute_result"
    }
   ],
   "source": [
    "def greetingsReturnsNone(message):     # function definition\n",
    "    print(message)\n",
    "    return                             # returns None\n",
    "\n",
    "nothing = greetingsAgain(\"Greetings!\") # function is called()\n",
    "type(nothing)"
   ]
  },
  {
   "cell_type": "markdown",
   "metadata": {},
   "source": [
    "![Function](images/Lecture-4.006.png)"
   ]
  },
  {
   "cell_type": "markdown",
   "metadata": {},
   "source": [
    "### One Argument Function Which Returns an Integer"
   ]
  },
  {
   "cell_type": "code",
   "execution_count": 195,
   "metadata": {},
   "outputs": [
    {
     "name": "stdout",
     "output_type": "stream",
     "text": [
      "10 Times: 40\n"
     ]
    }
   ],
   "source": [
    "def multipyBy10(a):\n",
    "    result = a * 10\n",
    "    return result  # return can return values, expressions, lists etc\n",
    "\n",
    "TenTimes = multipyBy10(4)\n",
    "print (\"10 Times:\", TenTimes)"
   ]
  },
  {
   "cell_type": "code",
   "execution_count": 196,
   "metadata": {},
   "outputs": [
    {
     "name": "stdout",
     "output_type": "stream",
     "text": [
      "10 Times: 20\n"
     ]
    }
   ],
   "source": [
    "def multipyBy10(a):\n",
    "    return a * 10             # return can return values, expressions, lists etc\n",
    "\n",
    "TenTimes = multipyBy10(2)\n",
    "print (\"10 Times:\", TenTimes)"
   ]
  },
  {
   "cell_type": "markdown",
   "metadata": {},
   "source": [
    "## Function using Sequence as argument"
   ]
  },
  {
   "cell_type": "code",
   "execution_count": 201,
   "metadata": {},
   "outputs": [],
   "source": [
    "def seqFunction(seq):   # string, list and tuples are sequences\n",
    "    for i in seq:\n",
    "        print(i, end=' ')"
   ]
  },
  {
   "cell_type": "code",
   "execution_count": 198,
   "metadata": {},
   "outputs": [
    {
     "name": "stdout",
     "output_type": "stream",
     "text": [
      "1 2 3 "
     ]
    }
   ],
   "source": [
    "seqFunction([1,2,3])   # passing list"
   ]
  },
  {
   "cell_type": "code",
   "execution_count": 199,
   "metadata": {
    "scrolled": true
   },
   "outputs": [
    {
     "name": "stdout",
     "output_type": "stream",
     "text": [
      "1 2 3 "
     ]
    }
   ],
   "source": [
    "seqFunction((1,2,3))   # passing tuple"
   ]
  },
  {
   "cell_type": "code",
   "execution_count": 200,
   "metadata": {
    "scrolled": true
   },
   "outputs": [
    {
     "name": "stdout",
     "output_type": "stream",
     "text": [
      "a b c d e f "
     ]
    }
   ],
   "source": [
    "seqFunction(\"abcdef\")   # passing a string"
   ]
  },
  {
   "cell_type": "markdown",
   "metadata": {},
   "source": [
    "## Function returning a List\n",
    "- **define an empty list**\n",
    "- repeatedly call **append()** to append items into the list"
   ]
  },
  {
   "cell_type": "code",
   "execution_count": 202,
   "metadata": {},
   "outputs": [
    {
     "name": "stdout",
     "output_type": "stream",
     "text": [
      "[0, 1, 2, 3]\n"
     ]
    }
   ],
   "source": [
    "def funcReturnList(n):\n",
    "    result = []          # create a empty list\n",
    "    for i in range(n):\n",
    "        result.append(i) # append items to the list\n",
    "    return result        # returns list\n",
    "\n",
    "\n",
    "x = funcReturnList(4)\n",
    "print(x)"
   ]
  },
  {
   "cell_type": "code",
   "execution_count": 203,
   "metadata": {},
   "outputs": [
    {
     "name": "stdout",
     "output_type": "stream",
     "text": [
      "[0, 1]\n"
     ]
    }
   ],
   "source": [
    "x = funcReturnList(2)\n",
    "print(x)"
   ]
  },
  {
   "cell_type": "markdown",
   "metadata": {},
   "source": [
    "## Function returning odd numbers"
   ]
  },
  {
   "cell_type": "code",
   "execution_count": 204,
   "metadata": {},
   "outputs": [
    {
     "data": {
      "text/plain": [
       "[2, 4, 6, 8, 10]"
      ]
     },
     "execution_count": 204,
     "metadata": {},
     "output_type": "execute_result"
    }
   ],
   "source": [
    "def funcOdd(inp):\n",
    "    result = []     # create an empty list\n",
    "    for i in inp:\n",
    "        if i % 2:\n",
    "            continue       # skip odd numbers\n",
    "        result.append(i)   # append even numbers\n",
    "    return result\n",
    "\n",
    "\n",
    "odd = funcOdd([1,2,3,4,5,6,7,8,9,10])\n",
    "odd"
   ]
  },
  {
   "cell_type": "code",
   "execution_count": 205,
   "metadata": {},
   "outputs": [
    {
     "data": {
      "text/plain": [
       "[1, 3, 5, 7, 9]"
      ]
     },
     "execution_count": 205,
     "metadata": {},
     "output_type": "execute_result"
    }
   ],
   "source": [
    "def funcOdd(inp):\n",
    "    result = []     # create an empty list\n",
    "    for i in inp:\n",
    "        if not i % 2:\n",
    "            continue       # skip odd numbers\n",
    "        result.append(i)   # append even numbers\n",
    "    return result\n",
    "\n",
    "\n",
    "odd = funcOdd([1,2,3,4,5,6,7,8,9,10])\n",
    "odd"
   ]
  },
  {
   "cell_type": "code",
   "execution_count": 208,
   "metadata": {},
   "outputs": [
    {
     "data": {
      "text/plain": [
       "[1, 2, 3, 4, 5, 6, 7, 8, 9, 10]"
      ]
     },
     "execution_count": 208,
     "metadata": {},
     "output_type": "execute_result"
    }
   ],
   "source": [
    "def funcOdd(inp):\n",
    "    result = []     # create an empty list\n",
    "    for i in inp:\n",
    "        if i % 3:\n",
    "            pass\n",
    "            #continue       # skip odd numbers\n",
    "        result.append(i)   # append even numbers\n",
    "    return result\n",
    "\n",
    "\n",
    "odd = funcOdd([1,2,3,4,5,6,7,8,9,10])\n",
    "odd"
   ]
  },
  {
   "cell_type": "markdown",
   "metadata": {},
   "source": [
    "### Can you modify the above function to return even numbers?"
   ]
  },
  {
   "cell_type": "markdown",
   "metadata": {},
   "source": [
    "![Function](images/Lecture-4.007.png)"
   ]
  },
  {
   "cell_type": "markdown",
   "metadata": {},
   "source": [
    "### Two Argument Function Which Returns Two Integers"
   ]
  },
  {
   "cell_type": "code",
   "execution_count": 209,
   "metadata": {},
   "outputs": [
    {
     "name": "stdout",
     "output_type": "stream",
     "text": [
      "Area 16 Perimeter 16\n"
     ]
    }
   ],
   "source": [
    "def areaPerimeter(length, width):\n",
    "    return length*width, 2*(length+width)\n",
    "\n",
    "length = 4\n",
    "width = 4\n",
    "area, perimeter = areaPerimeter(length, width)\n",
    "print (\"Area\", area, \"Perimeter\", perimeter)"
   ]
  },
  {
   "cell_type": "code",
   "execution_count": 210,
   "metadata": {},
   "outputs": [
    {
     "name": "stdout",
     "output_type": "stream",
     "text": [
      "Area 16 Perimeter 16\n"
     ]
    }
   ],
   "source": [
    "def areaPerimeter(length, width):\n",
    "    a= length*width\n",
    "    b= 2*(length+width)\n",
    "    return a, b\n",
    "\n",
    "length = 4\n",
    "width = 4\n",
    "area, perimeter = areaPerimeter(length, width)\n",
    "print (\"Area\", area, \"Perimeter\", perimeter)"
   ]
  },
  {
   "cell_type": "markdown",
   "metadata": {},
   "source": [
    "## Documenting a function\n",
    "-  Clear and concise documentation always helps\n",
    "-  The first line after the function **def** contains the function document\n",
    "-  Function document is a string\n",
    "-  String can be double or single or triple quoted\n",
    "-  How do you access a function document?\n",
    "   - functionName.\\__doc\\__"
   ]
  },
  {
   "cell_type": "code",
   "execution_count": 211,
   "metadata": {},
   "outputs": [
    {
     "name": "stdout",
     "output_type": "stream",
     "text": [
      " \n",
      "    Calculates area and perimeter of a rectangle or a square \n",
      "    It takes length and width as parameters\n",
      "    Returns area and perimeter\n",
      "    \n"
     ]
    }
   ],
   "source": [
    "def areaPerimeterDoc(length, width):\n",
    "    ''' \n",
    "    Calculates area and perimeter of a rectangle or a square \n",
    "    It takes length and width as parameters\n",
    "    Returns area and perimeter\n",
    "    '''\n",
    "    \n",
    "    return length*width, 2*(length+width)\n",
    "\n",
    "print(areaPerimeterDoc.__doc__)  # Accessing the function doc string"
   ]
  },
  {
   "cell_type": "markdown",
   "metadata": {},
   "source": [
    "## Default Argument\n",
    "- Argument defined at function **definition time**"
   ]
  },
  {
   "cell_type": "code",
   "execution_count": 212,
   "metadata": {},
   "outputs": [
    {
     "name": "stdout",
     "output_type": "stream",
     "text": [
      "Hello Everyone\n",
      "Hello World!\n"
     ]
    }
   ],
   "source": [
    "def defArgument(name=\"Everyone\"):\n",
    "    print (\"Hello\", name)\n",
    "\n",
    "defArgument()           # Using default argument \"Everyone\"\n",
    "defArgument(\"World!\")   # Overriding default argument"
   ]
  },
  {
   "cell_type": "markdown",
   "metadata": {},
   "source": [
    "## Mutable Arguments can be modified inside a function\n",
    "## Immutable Arguments are Read Only inside a function"
   ]
  },
  {
   "cell_type": "markdown",
   "metadata": {},
   "source": [
    "## Global and Local Variables"
   ]
  },
  {
   "cell_type": "code",
   "execution_count": 213,
   "metadata": {},
   "outputs": [
    {
     "ename": "NameError",
     "evalue": "name 'myLocal' is not defined",
     "output_type": "error",
     "traceback": [
      "\u001b[1;31m---------------------------------------------------------------------------\u001b[0m",
      "\u001b[1;31mNameError\u001b[0m                                 Traceback (most recent call last)",
      "\u001b[1;32m<ipython-input-213-de9271e78e97>\u001b[0m in \u001b[0;36m<module>\u001b[1;34m()\u001b[0m\n\u001b[0;32m      2\u001b[0m     \u001b[0mprint\u001b[0m \u001b[1;33m(\u001b[0m\u001b[1;34m\"local()::myLocal\"\u001b[0m\u001b[1;33m,\u001b[0m \u001b[0mmyLocal\u001b[0m\u001b[1;33m)\u001b[0m  \u001b[1;31m# myLocal is not defined. Expect NameError\u001b[0m\u001b[1;33m\u001b[0m\u001b[0m\n\u001b[0;32m      3\u001b[0m \u001b[1;33m\u001b[0m\u001b[0m\n\u001b[1;32m----> 4\u001b[1;33m \u001b[0mlocal\u001b[0m\u001b[1;33m(\u001b[0m\u001b[1;33m)\u001b[0m\u001b[1;33m\u001b[0m\u001b[0m\n\u001b[0m\u001b[0;32m      5\u001b[0m \u001b[1;33m\u001b[0m\u001b[0m\n",
      "\u001b[1;32m<ipython-input-213-de9271e78e97>\u001b[0m in \u001b[0;36mlocal\u001b[1;34m()\u001b[0m\n\u001b[0;32m      1\u001b[0m \u001b[1;32mdef\u001b[0m \u001b[0mlocal\u001b[0m\u001b[1;33m(\u001b[0m\u001b[1;33m)\u001b[0m\u001b[1;33m:\u001b[0m\u001b[1;33m\u001b[0m\u001b[0m\n\u001b[1;32m----> 2\u001b[1;33m     \u001b[0mprint\u001b[0m \u001b[1;33m(\u001b[0m\u001b[1;34m\"local()::myLocal\"\u001b[0m\u001b[1;33m,\u001b[0m \u001b[0mmyLocal\u001b[0m\u001b[1;33m)\u001b[0m  \u001b[1;31m# myLocal is not defined. Expect NameError\u001b[0m\u001b[1;33m\u001b[0m\u001b[0m\n\u001b[0m\u001b[0;32m      3\u001b[0m \u001b[1;33m\u001b[0m\u001b[0m\n\u001b[0;32m      4\u001b[0m \u001b[0mlocal\u001b[0m\u001b[1;33m(\u001b[0m\u001b[1;33m)\u001b[0m\u001b[1;33m\u001b[0m\u001b[0m\n\u001b[0;32m      5\u001b[0m \u001b[1;33m\u001b[0m\u001b[0m\n",
      "\u001b[1;31mNameError\u001b[0m: name 'myLocal' is not defined"
     ]
    }
   ],
   "source": [
    "def local():\n",
    "    print (\"local()::myLocal\", myLocal)  # myLocal is not defined. Expect NameError\n",
    "\n",
    "local()\n",
    "    "
   ]
  },
  {
   "cell_type": "code",
   "execution_count": 214,
   "metadata": {},
   "outputs": [
    {
     "name": "stdout",
     "output_type": "stream",
     "text": [
      "local()::myLocal 10\n"
     ]
    }
   ],
   "source": [
    "def local():\n",
    "    print(\"local()::myLocal\", myLocal)  # myLocal is not defined in this function but defined elsewhere\n",
    "\n",
    "myLocal = 10  # myLocal defined outside the function local\n",
    "local()\n",
    "    "
   ]
  },
  {
   "cell_type": "code",
   "execution_count": 215,
   "metadata": {},
   "outputs": [
    {
     "name": "stdout",
     "output_type": "stream",
     "text": [
      "local()::myLocal 100\n",
      "myLocal: 10\n"
     ]
    }
   ],
   "source": [
    "def local():\n",
    "    myLocal = 100                      # a different myLocal variable, local to function\n",
    "    print(\"local()::myLocal\", myLocal)\n",
    "\n",
    "myLocal = 10   # myLocal defined outside the function local\n",
    "local()\n",
    "print(\"myLocal:\", myLocal)"
   ]
  },
  {
   "cell_type": "code",
   "execution_count": 216,
   "metadata": {},
   "outputs": [
    {
     "name": "stdout",
     "output_type": "stream",
     "text": [
      "myLocal 1: 10\n",
      "local()::myLocal 100\n",
      "myLocal 2: 100\n"
     ]
    }
   ],
   "source": [
    "def local():\n",
    "    global myLocal   # declare myLocal is global and not local inside this function\n",
    "    myLocal = 100\n",
    "    print(\"local()::myLocal\", myLocal)\n",
    "\n",
    "myLocal = 10\n",
    "print(\"myLocal 1:\", myLocal)\n",
    "local()\n",
    "print(\"myLocal 2:\", myLocal)"
   ]
  },
  {
   "cell_type": "markdown",
   "metadata": {},
   "source": [
    "## Function with immutable parameters"
   ]
  },
  {
   "cell_type": "code",
   "execution_count": 217,
   "metadata": {},
   "outputs": [
    {
     "name": "stdout",
     "output_type": "stream",
     "text": [
      "xx: 1\n",
      "In Local Before, x:  1\n",
      "In Local After,  x:  2\n",
      "xx: 1\n"
     ]
    }
   ],
   "source": [
    "## Changing function arguments inside a function\n",
    "def local(x):\n",
    "    print(\"In Local Before, x: \", x)\n",
    "    x +=1 \n",
    "    print(\"In Local After,  x: \", x)\n",
    "    \n",
    "xx=1\n",
    "print(\"xx:\", xx)   # int, strings, floats are immutable\n",
    "local(xx)\n",
    "print(\"xx:\", xx)"
   ]
  },
  {
   "cell_type": "markdown",
   "metadata": {},
   "source": [
    "## Postional Arguments"
   ]
  },
  {
   "cell_type": "code",
   "execution_count": 218,
   "metadata": {
    "scrolled": true
   },
   "outputs": [
    {
     "name": "stdout",
     "output_type": "stream",
     "text": [
      "first: 1 second: 2 third: 3\n"
     ]
    }
   ],
   "source": [
    "def keyword_arguments(first, second, third):\n",
    "    print(\"first: {} second: {} third: {}\".format(first, second,third))\n",
    "keyword_arguments(1,2,3)"
   ]
  },
  {
   "cell_type": "markdown",
   "metadata": {},
   "source": [
    "## Keyword Arguments"
   ]
  },
  {
   "cell_type": "code",
   "execution_count": 219,
   "metadata": {},
   "outputs": [
    {
     "name": "stdout",
     "output_type": "stream",
     "text": [
      "first: 1 second: 2 third: 3\n"
     ]
    }
   ],
   "source": [
    "keyword_arguments(first=1, second=2, third=3)  # position of arguments does not matter"
   ]
  },
  {
   "cell_type": "code",
   "execution_count": 220,
   "metadata": {},
   "outputs": [
    {
     "name": "stdout",
     "output_type": "stream",
     "text": [
      "first: 1 second: 2 third: 3\n"
     ]
    }
   ],
   "source": [
    "keyword_arguments(third=3, second=2, first=1)  # position of arguments does not matter"
   ]
  },
  {
   "cell_type": "markdown",
   "metadata": {},
   "source": [
    "## Variable Arguments (Optional)"
   ]
  },
  {
   "cell_type": "code",
   "execution_count": null,
   "metadata": {
    "collapsed": true
   },
   "outputs": [],
   "source": [
    "def variable_arguments(first_arg, *args):\n",
    "    print(\"First argument:\", first_arg)\n",
    "    for variable_args in args:\n",
    "        print(\"variable arguments:\", variable_args)"
   ]
  },
  {
   "cell_type": "code",
   "execution_count": null,
   "metadata": {
    "collapsed": true
   },
   "outputs": [],
   "source": [
    "variable_arguments(1, \"two\", 3)"
   ]
  },
  {
   "cell_type": "code",
   "execution_count": null,
   "metadata": {
    "collapsed": true
   },
   "outputs": [],
   "source": [
    "variable_arguments(1)"
   ]
  },
  {
   "cell_type": "code",
   "execution_count": null,
   "metadata": {
    "collapsed": true
   },
   "outputs": [],
   "source": [
    "def variable_arguments(*args):\n",
    "    for variable_args in args:\n",
    "        print(\"variable arguments:\", variable_args)"
   ]
  },
  {
   "cell_type": "code",
   "execution_count": null,
   "metadata": {
    "collapsed": true
   },
   "outputs": [],
   "source": [
    "variable_arguments(1, \"two\", 3)"
   ]
  },
  {
   "cell_type": "code",
   "execution_count": null,
   "metadata": {
    "collapsed": true
   },
   "outputs": [],
   "source": [
    "variable_arguments()"
   ]
  },
  {
   "cell_type": "code",
   "execution_count": null,
   "metadata": {
    "collapsed": true
   },
   "outputs": [],
   "source": [
    "def variable_arguments(*args, lastArg):\n",
    "    pass\n",
    "variable_arguments(1, \"two\", lastArg=3)"
   ]
  },
  {
   "cell_type": "markdown",
   "metadata": {},
   "source": [
    "## Variable Keyworded Arguments (Optional)"
   ]
  },
  {
   "cell_type": "code",
   "execution_count": null,
   "metadata": {
    "collapsed": true
   },
   "outputs": [],
   "source": [
    "def variable_keyworded_arguments(first_arg, **kwargs):\n",
    "    print(\"First argument:\", first_arg)\n",
    "    for key in kwargs:\n",
    "        print(\"Variable keyworded arg: %s: %s\" % (key, kwargs[key]))\n",
    "\n",
    "variable_keyworded_arguments(first_arg=1, myarg2=\"two\", myarg3=3)\n",
    "variable_keyworded_arguments(1, myarg2=\"two\", myarg3=3)\n"
   ]
  },
  {
   "cell_type": "markdown",
   "metadata": {},
   "source": [
    "## Experimentation\n",
    "-  define a function and print the function name\n",
    "-  provide parameters to a function which takes no arguments\n",
    "-  provide less parameter than the number of function arguments\n",
    "-  assign function return to less number of variables\n",
    "-  assign function name to a new variable\n",
    "-  reuse the same function name to different function def"
   ]
  },
  {
   "cell_type": "code",
   "execution_count": 221,
   "metadata": {},
   "outputs": [
    {
     "name": "stdout",
     "output_type": "stream",
     "text": [
      "<function foo at 0x000002AC7D0B29D8>\n"
     ]
    }
   ],
   "source": [
    "def foo():\n",
    "    pass\n",
    "print(foo)   #printing the name of a function"
   ]
  },
  {
   "cell_type": "code",
   "execution_count": 222,
   "metadata": {},
   "outputs": [
    {
     "ename": "TypeError",
     "evalue": "foo() takes 0 positional arguments but 1 was given",
     "output_type": "error",
     "traceback": [
      "\u001b[1;31m---------------------------------------------------------------------------\u001b[0m",
      "\u001b[1;31mTypeError\u001b[0m                                 Traceback (most recent call last)",
      "\u001b[1;32m<ipython-input-222-a1be3d425b23>\u001b[0m in \u001b[0;36m<module>\u001b[1;34m()\u001b[0m\n\u001b[0;32m      1\u001b[0m \u001b[1;32mdef\u001b[0m \u001b[0mfoo\u001b[0m\u001b[1;33m(\u001b[0m\u001b[1;33m)\u001b[0m\u001b[1;33m:\u001b[0m\u001b[1;33m\u001b[0m\u001b[0m\n\u001b[0;32m      2\u001b[0m     \u001b[1;32mpass\u001b[0m\u001b[1;33m\u001b[0m\u001b[0m\n\u001b[1;32m----> 3\u001b[1;33m \u001b[0mfoo\u001b[0m\u001b[1;33m(\u001b[0m\u001b[1;36m1\u001b[0m\u001b[1;33m)\u001b[0m  \u001b[1;31m# passing an argument to function which accepts no arguments\u001b[0m\u001b[1;33m\u001b[0m\u001b[0m\n\u001b[0m",
      "\u001b[1;31mTypeError\u001b[0m: foo() takes 0 positional arguments but 1 was given"
     ]
    }
   ],
   "source": [
    "def foo():\n",
    "    pass\n",
    "foo(1)  # passing an argument to function which accepts no arguments"
   ]
  },
  {
   "cell_type": "code",
   "execution_count": 223,
   "metadata": {},
   "outputs": [
    {
     "ename": "TypeError",
     "evalue": "foo() missing 1 required positional argument: 'b'",
     "output_type": "error",
     "traceback": [
      "\u001b[1;31m---------------------------------------------------------------------------\u001b[0m",
      "\u001b[1;31mTypeError\u001b[0m                                 Traceback (most recent call last)",
      "\u001b[1;32m<ipython-input-223-bb2fcc7e1145>\u001b[0m in \u001b[0;36m<module>\u001b[1;34m()\u001b[0m\n\u001b[0;32m      1\u001b[0m \u001b[1;32mdef\u001b[0m \u001b[0mfoo\u001b[0m\u001b[1;33m(\u001b[0m\u001b[0ma\u001b[0m\u001b[1;33m,\u001b[0m\u001b[0mb\u001b[0m\u001b[1;33m)\u001b[0m\u001b[1;33m:\u001b[0m\u001b[1;33m\u001b[0m\u001b[0m\n\u001b[0;32m      2\u001b[0m     \u001b[1;32mpass\u001b[0m\u001b[1;33m\u001b[0m\u001b[0m\n\u001b[1;32m----> 3\u001b[1;33m \u001b[0mfoo\u001b[0m\u001b[1;33m(\u001b[0m\u001b[1;36m1\u001b[0m\u001b[1;33m)\u001b[0m   \u001b[1;31m# Function expects 2 arguments,  only one is being passed\u001b[0m\u001b[1;33m\u001b[0m\u001b[0m\n\u001b[0m",
      "\u001b[1;31mTypeError\u001b[0m: foo() missing 1 required positional argument: 'b'"
     ]
    }
   ],
   "source": [
    "def foo(a,b):\n",
    "    pass\n",
    "foo(1)   # Function expects 2 arguments,  only one is being passed"
   ]
  },
  {
   "cell_type": "code",
   "execution_count": 224,
   "metadata": {},
   "outputs": [
    {
     "data": {
      "text/plain": [
       "(1, 2)"
      ]
     },
     "execution_count": 224,
     "metadata": {},
     "output_type": "execute_result"
    }
   ],
   "source": [
    "def foo():\n",
    "    return 1,2\n",
    "a = foo()     # Function returns 2 arguments\n",
    "a"
   ]
  },
  {
   "cell_type": "code",
   "execution_count": 225,
   "metadata": {},
   "outputs": [
    {
     "ename": "ValueError",
     "evalue": "not enough values to unpack (expected 3, got 2)",
     "output_type": "error",
     "traceback": [
      "\u001b[1;31m---------------------------------------------------------------------------\u001b[0m",
      "\u001b[1;31mValueError\u001b[0m                                Traceback (most recent call last)",
      "\u001b[1;32m<ipython-input-225-8f5f3c035bf4>\u001b[0m in \u001b[0;36m<module>\u001b[1;34m()\u001b[0m\n\u001b[0;32m      1\u001b[0m \u001b[1;32mdef\u001b[0m \u001b[0mfoo\u001b[0m\u001b[1;33m(\u001b[0m\u001b[1;33m)\u001b[0m\u001b[1;33m:\u001b[0m\u001b[1;33m\u001b[0m\u001b[0m\n\u001b[0;32m      2\u001b[0m     \u001b[1;32mreturn\u001b[0m \u001b[1;36m1\u001b[0m\u001b[1;33m,\u001b[0m\u001b[1;36m2\u001b[0m\u001b[1;33m\u001b[0m\u001b[0m\n\u001b[1;32m----> 3\u001b[1;33m \u001b[0ma\u001b[0m\u001b[1;33m,\u001b[0m\u001b[0mb\u001b[0m\u001b[1;33m,\u001b[0m\u001b[0mc\u001b[0m \u001b[1;33m=\u001b[0m \u001b[0mfoo\u001b[0m\u001b[1;33m(\u001b[0m\u001b[1;33m)\u001b[0m  \u001b[1;31m# expecting only 2 return values\u001b[0m\u001b[1;33m\u001b[0m\u001b[0m\n\u001b[0m",
      "\u001b[1;31mValueError\u001b[0m: not enough values to unpack (expected 3, got 2)"
     ]
    }
   ],
   "source": [
    "def foo():\n",
    "    return 1,2\n",
    "a,b,c = foo()  # expecting only 2 return values"
   ]
  },
  {
   "cell_type": "code",
   "execution_count": 226,
   "metadata": {},
   "outputs": [
    {
     "name": "stdout",
     "output_type": "stream",
     "text": [
      "In foo\n"
     ]
    }
   ],
   "source": [
    "def foo():\n",
    "    print(\"In foo\")\n",
    "newFoo = foo          # assigning a new name to foo() function\n",
    "newFoo()"
   ]
  },
  {
   "cell_type": "code",
   "execution_count": 227,
   "metadata": {},
   "outputs": [
    {
     "name": "stdout",
     "output_type": "stream",
     "text": [
      "In Foo\n",
      "In Different Foo\n"
     ]
    }
   ],
   "source": [
    "def foo():\n",
    "    print(\"In Foo\")\n",
    "\n",
    "foo()\n",
    "\n",
    "def foo():\n",
    "    print(\"In Different Foo\")\n",
    "\n",
    "foo()"
   ]
  },
  {
   "cell_type": "markdown",
   "metadata": {},
   "source": [
    "# \\*\\*Optional\\*\\*"
   ]
  },
  {
   "cell_type": "markdown",
   "metadata": {},
   "source": [
    "## Recursion\n",
    "- What happens when a function calls itself?\n",
    "- Could make solving some problems easier\n",
    "- But hard to understand and debug\n",
    "- **Need a terminating case else will lead to infinite calls**\n",
    "    - maximum recursion depth exceeded"
   ]
  },
  {
   "cell_type": "code",
   "execution_count": 228,
   "metadata": {},
   "outputs": [
    {
     "name": "stdout",
     "output_type": "stream",
     "text": [
      "Going to call recursion(1)...\n",
      "Going to call recursion(2)...\n",
      "Going to call recursion(3)...\n",
      "Going to call recursion(4)...\n",
      "Going to call recursion(5)...\n",
      "Going to call recursion(6)...\n",
      "Going to call recursion(7)...\n",
      "Going to call recursion(8)...\n",
      "Going to call recursion(9)...\n",
      "Going to call recursion(10)...\n",
      "Going to call recursion(11)...\n",
      "Going to call recursion(12)...\n",
      "Going to call recursion(13)...\n",
      "Going to call recursion(14)...\n",
      "Going to call recursion(15)...\n",
      "Going to call recursion(16)...\n",
      "Going to call recursion(17)...\n",
      "Going to call recursion(18)...\n",
      "Going to call recursion(19)...\n",
      "Going to call recursion(20)...\n",
      "Going to call recursion(21)...\n",
      "Going to call recursion(22)...\n",
      "Going to call recursion(23)...\n",
      "Going to call recursion(24)...\n",
      "Going to call recursion(25)...\n",
      "Going to call recursion(26)...\n",
      "Going to call recursion(27)...\n",
      "Going to call recursion(28)...\n",
      "Going to call recursion(29)...\n",
      "Going to call recursion(30)...\n",
      "Going to call recursion(31)...\n",
      "Going to call recursion(32)...\n",
      "Going to call recursion(33)...\n",
      "Going to call recursion(34)...\n",
      "Going to call recursion(35)...\n",
      "Going to call recursion(36)...\n",
      "Going to call recursion(37)...\n",
      "Going to call recursion(38)...\n",
      "Going to call recursion(39)...\n",
      "Going to call recursion(40)...\n",
      "Going to call recursion(41)...\n",
      "Going to call recursion(42)...\n",
      "Going to call recursion(43)...\n",
      "Going to call recursion(44)...\n",
      "Going to call recursion(45)...\n",
      "Going to call recursion(46)...\n",
      "Going to call recursion(47)...\n",
      "Going to call recursion(48)...\n",
      "Going to call recursion(49)...\n",
      "Going to call recursion(50)...\n",
      "Going to call recursion(51)...\n",
      "Going to call recursion(52)...\n",
      "Going to call recursion(53)...\n",
      "Going to call recursion(54)...\n",
      "Going to call recursion(55)...\n",
      "Going to call recursion(56)...\n",
      "Going to call recursion(57)...\n",
      "Going to call recursion(58)...\n",
      "Going to call recursion(59)...\n",
      "Going to call recursion(60)...\n",
      "Going to call recursion(61)...\n",
      "Going to call recursion(62)...\n",
      "Going to call recursion(63)...\n",
      "Going to call recursion(64)...\n",
      "Going to call recursion(65)...\n",
      "Going to call recursion(66)...\n",
      "Going to call recursion(67)...\n",
      "Going to call recursion(68)...\n",
      "Going to call recursion(69)...\n",
      "Going to call recursion(70)...\n",
      "Going to call recursion(71)...\n",
      "Going to call recursion(72)...\n",
      "Going to call recursion(73)...\n",
      "Going to call recursion(74)...\n",
      "Going to call recursion(75)...\n",
      "Going to call recursion(76)...\n",
      "Going to call recursion(77)...\n",
      "Going to call recursion(78)...\n",
      "Going to call recursion(79)...\n",
      "Going to call recursion(80)...\n",
      "Going to call recursion(81)...\n",
      "Going to call recursion(82)...\n",
      "Going to call recursion(83)...\n",
      "Going to call recursion(84)...\n",
      "Going to call recursion(85)...\n",
      "Going to call recursion(86)...\n",
      "Going to call recursion(87)...\n",
      "Going to call recursion(88)...\n",
      "Going to call recursion(89)...\n",
      "Going to call recursion(90)...\n",
      "Going to call recursion(91)...\n",
      "Going to call recursion(92)...\n",
      "Going to call recursion(93)...\n",
      "Going to call recursion(94)...\n",
      "Going to call recursion(95)...\n",
      "Going to call recursion(96)...\n",
      "Going to call recursion(97)...\n",
      "Going to call recursion(98)...\n",
      "Going to call recursion(99)...\n",
      "Going to call recursion(100)...\n",
      "Going to call recursion(101)...\n",
      "Going to call recursion(102)...\n",
      "Going to call recursion(103)...\n",
      "Going to call recursion(104)...\n",
      "Going to call recursion(105)...\n",
      "Going to call recursion(106)...\n",
      "Going to call recursion(107)...\n",
      "Going to call recursion(108)...\n",
      "Going to call recursion(109)...\n",
      "Going to call recursion(110)...\n",
      "Going to call recursion(111)...\n",
      "Going to call recursion(112)...\n",
      "Going to call recursion(113)...\n",
      "Going to call recursion(114)...\n",
      "Going to call recursion(115)...\n",
      "Going to call recursion(116)...\n",
      "Going to call recursion(117)...\n",
      "Going to call recursion(118)...\n",
      "Going to call recursion(119)...\n",
      "Going to call recursion(120)...\n",
      "Going to call recursion(121)...\n",
      "Going to call recursion(122)...\n",
      "Going to call recursion(123)...\n",
      "Going to call recursion(124)...\n",
      "Going to call recursion(125)...\n",
      "Going to call recursion(126)...\n",
      "Going to call recursion(127)...\n",
      "Going to call recursion(128)...\n",
      "Going to call recursion(129)...\n",
      "Going to call recursion(130)...\n",
      "Going to call recursion(131)...\n",
      "Going to call recursion(132)...\n",
      "Going to call recursion(133)...\n",
      "Going to call recursion(134)...\n",
      "Going to call recursion(135)...\n",
      "Going to call recursion(136)...\n",
      "Going to call recursion(137)...\n",
      "Going to call recursion(138)...\n",
      "Going to call recursion(139)...\n",
      "Going to call recursion(140)...\n",
      "Going to call recursion(141)...\n",
      "Going to call recursion(142)...\n",
      "Going to call recursion(143)...\n",
      "Going to call recursion(144)...\n",
      "Going to call recursion(145)...\n",
      "Going to call recursion(146)...\n",
      "Going to call recursion(147)...\n",
      "Going to call recursion(148)...\n",
      "Going to call recursion(149)...\n",
      "Going to call recursion(150)...\n",
      "Going to call recursion(151)...\n",
      "Going to call recursion(152)...\n",
      "Going to call recursion(153)...\n",
      "Going to call recursion(154)...\n",
      "Going to call recursion(155)...\n",
      "Going to call recursion(156)...\n",
      "Going to call recursion(157)...\n",
      "Going to call recursion(158)...\n",
      "Going to call recursion(159)...\n",
      "Going to call recursion(160)...\n",
      "Going to call recursion(161)...\n",
      "Going to call recursion(162)...\n",
      "Going to call recursion(163)...\n",
      "Going to call recursion(164)...\n",
      "Going to call recursion(165)...\n",
      "Going to call recursion(166)...\n",
      "Going to call recursion(167)...\n",
      "Going to call recursion(168)...\n",
      "Going to call recursion(169)...\n",
      "Going to call recursion(170)...\n",
      "Going to call recursion(171)...\n",
      "Going to call recursion(172)...\n",
      "Going to call recursion(173)...\n",
      "Going to call recursion(174)...\n",
      "Going to call recursion(175)...\n",
      "Going to call recursion(176)...\n",
      "Going to call recursion(177)...\n",
      "Going to call recursion(178)...\n",
      "Going to call recursion(179)...\n",
      "Going to call recursion(180)...\n",
      "Going to call recursion(181)...\n",
      "Going to call recursion(182)...\n",
      "Going to call recursion(183)...\n",
      "Going to call recursion(184)...\n",
      "Going to call recursion(185)...\n",
      "Going to call recursion(186)...\n",
      "Going to call recursion(187)...\n",
      "Going to call recursion(188)...\n",
      "Going to call recursion(189)...\n",
      "Going to call recursion(190)...\n",
      "Going to call recursion(191)...\n",
      "Going to call recursion(192)...\n",
      "Going to call recursion(193)...\n",
      "Going to call recursion(194)...\n",
      "Going to call recursion(195)...\n",
      "Going to call recursion(196)...\n",
      "Going to call recursion(197)...\n",
      "Going to call recursion(198)...\n",
      "Going to call recursion(199)...\n",
      "Going to call recursion(200)...\n",
      "Going to call recursion(201)...\n",
      "Going to call recursion(202)...\n",
      "Going to call recursion(203)...\n",
      "Going to call recursion(204)...\n",
      "Going to call recursion(205)...\n",
      "Going to call recursion(206)...\n",
      "Going to call recursion(207)...\n",
      "Going to call recursion(208)...\n",
      "Going to call recursion(209)...\n",
      "Going to call recursion(210)...\n",
      "Going to call recursion(211)...\n",
      "Going to call recursion(212)...\n",
      "Going to call recursion(213)...\n",
      "Going to call recursion(214)...\n",
      "Going to call recursion(215)...\n",
      "Going to call recursion(216)...\n",
      "Going to call recursion(217)...\n",
      "Going to call recursion(218)...\n",
      "Going to call recursion(219)...\n",
      "Going to call recursion(220)...\n",
      "Going to call recursion(221)...\n",
      "Going to call recursion(222)...\n",
      "Going to call recursion(223)...\n",
      "Going to call recursion(224)...\n",
      "Going to call recursion(225)...\n",
      "Going to call recursion(226)...\n",
      "Going to call recursion(227)...\n",
      "Going to call recursion(228)...\n",
      "Going to call recursion(229)...\n",
      "Going to call recursion(230)...\n",
      "Going to call recursion(231)...\n",
      "Going to call recursion(232)...\n",
      "Going to call recursion(233)...\n",
      "Going to call recursion(234)...\n",
      "Going to call recursion(235)...\n",
      "Going to call recursion(236)...\n",
      "Going to call recursion(237)...\n",
      "Going to call recursion(238)...\n",
      "Going to call recursion(239)...\n",
      "Going to call recursion(240)...\n",
      "Going to call recursion(241)...\n",
      "Going to call recursion(242)...\n",
      "Going to call recursion(243)...\n",
      "Going to call recursion(244)...\n",
      "Going to call recursion(245)...\n",
      "Going to call recursion(246)...\n",
      "Going to call recursion(247)...\n",
      "Going to call recursion(248)...\n",
      "Going to call recursion(249)...\n",
      "Going to call recursion(250)...\n",
      "Going to call recursion(251)...\n",
      "Going to call recursion(252)...\n",
      "Going to call recursion(253)...\n",
      "Going to call recursion(254)...\n",
      "Going to call recursion(255)...\n",
      "Going to call recursion(256)...\n",
      "Going to call recursion(257)...\n",
      "Going to call recursion(258)...\n",
      "Going to call recursion(259)...\n",
      "Going to call recursion(260)...\n",
      "Going to call recursion(261)...\n",
      "Going to call recursion(262)...\n",
      "Going to call recursion(263)...\n",
      "Going to call recursion(264)...\n",
      "Going to call recursion(265)...\n",
      "Going to call recursion(266)...\n",
      "Going to call recursion(267)...\n",
      "Going to call recursion(268)...\n",
      "Going to call recursion(269)...\n",
      "Going to call recursion(270)...\n",
      "Going to call recursion(271)...\n",
      "Going to call recursion(272)...\n",
      "Going to call recursion(273)...\n",
      "Going to call recursion(274)...\n",
      "Going to call recursion(275)...\n",
      "Going to call recursion(276)...\n",
      "Going to call recursion(277)...\n",
      "Going to call recursion(278)...\n",
      "Going to call recursion(279)...\n",
      "Going to call recursion(280)...\n",
      "Going to call recursion(281)...\n",
      "Going to call recursion(282)...\n",
      "Going to call recursion(283)...\n",
      "Going to call recursion(284)...\n",
      "Going to call recursion(285)...\n",
      "Going to call recursion(286)...\n",
      "Going to call recursion(287)...\n",
      "Going to call recursion(288)...\n",
      "Going to call recursion(289)...\n",
      "Going to call recursion(290)...\n",
      "Going to call recursion(291)...\n",
      "Going to call recursion(292)...\n",
      "Going to call recursion(293)...\n",
      "Going to call recursion(294)...\n",
      "Going to call recursion(295)...\n",
      "Going to call recursion(296)...\n",
      "Going to call recursion(297)...\n",
      "Going to call recursion(298)...\n",
      "Going to call recursion(299)...\n",
      "Going to call recursion(300)...\n",
      "Going to call recursion(301)...\n",
      "Going to call recursion(302)...\n",
      "Going to call recursion(303)...\n",
      "Going to call recursion(304)...\n",
      "Going to call recursion(305)...\n",
      "Going to call recursion(306)...\n",
      "Going to call recursion(307)...\n",
      "Going to call recursion(308)...\n",
      "Going to call recursion(309)...\n",
      "Going to call recursion(310)...\n",
      "Going to call recursion(311)...\n",
      "Going to call recursion(312)...\n",
      "Going to call recursion(313)...\n",
      "Going to call recursion(314)...\n",
      "Going to call recursion(315)...\n",
      "Going to call recursion(316)...\n",
      "Going to call recursion(317)...\n",
      "Going to call recursion(318)...\n",
      "Going to call recursion(319)...\n",
      "Going to call recursion(320)...\n",
      "Going to call recursion(321)...\n",
      "Going to call recursion(322)...\n",
      "Going to call recursion(323)...\n",
      "Going to call recursion(324)...\n",
      "Going to call recursion(325)...\n",
      "Going to call recursion(326)...\n",
      "Going to call recursion(327)...\n",
      "Going to call recursion(328)...\n",
      "Going to call recursion(329)...\n",
      "Going to call recursion(330)...\n",
      "Going to call recursion(331)...\n",
      "Going to call recursion(332)...\n",
      "Going to call recursion(333)...\n",
      "Going to call recursion(334)...\n",
      "Going to call recursion(335)...\n",
      "Going to call recursion(336)...\n",
      "Going to call recursion(337)...\n",
      "Going to call recursion(338)...\n",
      "Going to call recursion(339)...\n",
      "Going to call recursion(340)...\n",
      "Going to call recursion(341)...\n",
      "Going to call recursion(342)...\n",
      "Going to call recursion(343)...\n",
      "Going to call recursion(344)...\n",
      "Going to call recursion(345)...\n",
      "Going to call recursion(346)...\n",
      "Going to call recursion(347)...\n",
      "Going to call recursion(348)...\n",
      "Going to call recursion(349)...\n",
      "Going to call recursion(350)...\n",
      "Going to call recursion(351)...\n",
      "Going to call recursion(352)...\n",
      "Going to call recursion(353)...\n",
      "Going to call recursion(354)...\n",
      "Going to call recursion(355)...\n",
      "Going to call recursion(356)...\n",
      "Going to call recursion(357)...\n",
      "Going to call recursion(358)...\n",
      "Going to call recursion(359)...\n",
      "Going to call recursion(360)...\n",
      "Going to call recursion(361)...\n",
      "Going to call recursion(362)...\n",
      "Going to call recursion(363)...\n",
      "Going to call recursion(364)...\n",
      "Going to call recursion(365)...\n",
      "Going to call recursion(366)...\n",
      "Going to call recursion(367)...\n",
      "Going to call recursion(368)...\n",
      "Going to call recursion(369)...\n",
      "Going to call recursion(370)...\n",
      "Going to call recursion(371)...\n",
      "Going to call recursion(372)...\n",
      "Going to call recursion(373)...\n",
      "Going to call recursion(374)...\n",
      "Going to call recursion(375)...\n",
      "Going to call recursion(376)...\n",
      "Going to call recursion(377)...\n",
      "Going to call recursion(378)...\n",
      "Going to call recursion(379)...\n",
      "Going to call recursion(380)...\n",
      "Going to call recursion(381)...\n",
      "Going to call recursion(382)...\n",
      "Going to call recursion(383)...\n",
      "Going to call recursion(384)...\n",
      "Going to call recursion(385)...\n",
      "Going to call recursion(386)...\n",
      "Going to call recursion(387)...\n",
      "Going to call recursion(388)...\n",
      "Going to call recursion(389)...\n",
      "Going to call recursion(390)...\n",
      "Going to call recursion(391)...\n",
      "Going to call recursion(392)...\n",
      "Going to call recursion(393)...\n",
      "Going to call recursion(394)...\n",
      "Going to call recursion(395)...\n",
      "Going to call recursion(396)...\n",
      "Going to call recursion(397)...\n",
      "Going to call recursion(398)...\n",
      "Going to call recursion(399)...\n",
      "Going to call recursion(400)...\n",
      "Going to call recursion(401)...\n",
      "Going to call recursion(402)...\n",
      "Going to call recursion(403)...\n",
      "Going to call recursion(404)...\n",
      "Going to call recursion(405)...\n",
      "Going to call recursion(406)...\n",
      "Going to call recursion(407)...\n",
      "Going to call recursion(408)...\n",
      "Going to call recursion(409)...\n",
      "Going to call recursion(410)...\n",
      "Going to call recursion(411)...\n",
      "Going to call recursion(412)...\n",
      "Going to call recursion(413)...\n",
      "Going to call recursion(414)...\n",
      "Going to call recursion(415)...\n",
      "Going to call recursion(416)...\n",
      "Going to call recursion(417)...\n",
      "Going to call recursion(418)...\n",
      "Going to call recursion(419)...\n",
      "Going to call recursion(420)...\n",
      "Going to call recursion(421)...\n",
      "Going to call recursion(422)...\n",
      "Going to call recursion(423)...\n",
      "Going to call recursion(424)...\n",
      "Going to call recursion(425)...\n",
      "Going to call recursion(426)...\n",
      "Going to call recursion(427)...\n",
      "Going to call recursion(428)...\n",
      "Going to call recursion(429)...\n",
      "Going to call recursion(430)...\n",
      "Going to call recursion(431)...\n",
      "Going to call recursion(432)...\n",
      "Going to call recursion(433)...\n",
      "Going to call recursion(434)...\n",
      "Going to call recursion(435)...\n",
      "Going to call recursion(436)...\n",
      "Going to call recursion(437)...\n",
      "Going to call recursion(438)...\n",
      "Going to call recursion(439)...\n",
      "Going to call recursion(440)...\n",
      "Going to call recursion(441)...\n",
      "Going to call recursion(442)...\n",
      "Going to call recursion(443)...\n",
      "Going to call recursion(444)...\n",
      "Going to call recursion(445)...\n",
      "Going to call recursion(446)...\n",
      "Going to call recursion(447)...\n",
      "Going to call recursion(448)...\n",
      "Going to call recursion(449)...\n",
      "Going to call recursion(450)...\n",
      "Going to call recursion(451)...\n",
      "Going to call recursion(452)...\n",
      "Going to call recursion(453)...\n",
      "Going to call recursion(454)...\n",
      "Going to call recursion(455)...\n",
      "Going to call recursion(456)...\n",
      "Going to call recursion(457)...\n",
      "Going to call recursion(458)...\n",
      "Going to call recursion(459)...\n",
      "Going to call recursion(460)...\n",
      "Going to call recursion(461)...\n",
      "Going to call recursion(462)...\n",
      "Going to call recursion(463)...\n",
      "Going to call recursion(464)...\n",
      "Going to call recursion(465)...\n",
      "Going to call recursion(466)...\n",
      "Going to call recursion(467)...\n",
      "Going to call recursion(468)...\n",
      "Going to call recursion(469)...\n",
      "Going to call recursion(470)...\n",
      "Going to call recursion(471)...\n",
      "Going to call recursion(472)...\n",
      "Going to call recursion(473)...\n",
      "Going to call recursion(474)...\n",
      "Going to call recursion(475)...\n",
      "Going to call recursion(476)...\n",
      "Going to call recursion(477)...\n",
      "Going to call recursion(478)...\n",
      "Going to call recursion(479)...\n",
      "Going to call recursion(480)...\n",
      "Going to call recursion(481)...\n",
      "Going to call recursion(482)...\n",
      "Going to call recursion(483)...\n",
      "Going to call recursion(484)...\n",
      "Going to call recursion(485)...\n",
      "Going to call recursion(486)...\n",
      "Going to call recursion(487)...\n",
      "Going to call recursion(488)...\n",
      "Going to call recursion(489)...\n",
      "Going to call recursion(490)...\n",
      "Going to call recursion(491)...\n",
      "Going to call recursion(492)...\n",
      "Going to call recursion(493)...\n",
      "Going to call recursion(494)...\n",
      "Going to call recursion(495)...\n",
      "Going to call recursion(496)...\n",
      "Going to call recursion(497)...\n",
      "Going to call recursion(498)...\n",
      "Going to call recursion(499)...\n",
      "Going to call recursion(500)...\n",
      "Going to call recursion(501)...\n",
      "Going to call recursion(502)...\n",
      "Going to call recursion(503)...\n",
      "Going to call recursion(504)...\n",
      "Going to call recursion(505)...\n",
      "Going to call recursion(506)...\n",
      "Going to call recursion(507)...\n",
      "Going to call recursion(508)...\n",
      "Going to call recursion(509)...\n",
      "Going to call recursion(510)...\n",
      "Going to call recursion(511)...\n",
      "Going to call recursion(512)...\n",
      "Going to call recursion(513)...\n",
      "Going to call recursion(514)...\n",
      "Going to call recursion(515)...\n",
      "Going to call recursion(516)...\n",
      "Going to call recursion(517)...\n",
      "Going to call recursion(518)...\n",
      "Going to call recursion(519)...\n",
      "Going to call recursion(520)...\n",
      "Going to call recursion(521)...\n",
      "Going to call recursion(522)...\n",
      "Going to call recursion(523)...\n",
      "Going to call recursion(524)...\n",
      "Going to call recursion(525)...\n",
      "Going to call recursion(526)...\n",
      "Going to call recursion(527)...\n",
      "Going to call recursion(528)...\n",
      "Going to call recursion(529)...\n",
      "Going to call recursion(530)...\n",
      "Going to call recursion(531)...\n",
      "Going to call recursion(532)...\n",
      "Going to call recursion(533)...\n",
      "Going to call recursion(534)...\n",
      "Going to call recursion(535)...\n",
      "Going to call recursion(536)...\n",
      "Going to call recursion(537)...\n",
      "Going to call recursion(538)...\n",
      "Going to call recursion(539)...\n",
      "Going to call recursion(540)...\n",
      "Going to call recursion(541)...\n",
      "Going to call recursion(542)...\n",
      "Going to call recursion(543)...\n",
      "Going to call recursion(544)...\n",
      "Going to call recursion(545)...\n",
      "Going to call recursion(546)...\n",
      "Going to call recursion(547)...\n",
      "Going to call recursion(548)...\n",
      "Going to call recursion(549)...\n",
      "Going to call recursion(550)...\n",
      "Going to call recursion(551)...\n",
      "Going to call recursion(552)...\n",
      "Going to call recursion(553)...\n",
      "Going to call recursion(554)...\n",
      "Going to call recursion(555)...\n",
      "Going to call recursion(556)...\n",
      "Going to call recursion(557)...\n",
      "Going to call recursion(558)...\n",
      "Going to call recursion(559)...\n",
      "Going to call recursion(560)...\n",
      "Going to call recursion(561)...\n",
      "Going to call recursion(562)...\n",
      "Going to call recursion(563)...\n",
      "Going to call recursion(564)...\n",
      "Going to call recursion(565)...\n",
      "Going to call recursion(566)...\n",
      "Going to call recursion(567)...\n",
      "Going to call recursion(568)...\n",
      "Going to call recursion(569)...\n",
      "Going to call recursion(570)...\n",
      "Going to call recursion(571)...\n",
      "Going to call recursion(572)...\n",
      "Going to call recursion(573)...\n",
      "Going to call recursion(574)...\n",
      "Going to call recursion(575)...\n",
      "Going to call recursion(576)...\n",
      "Going to call recursion(577)...\n",
      "Going to call recursion(578)...\n",
      "Going to call recursion(579)...\n",
      "Going to call recursion(580)...\n",
      "Going to call recursion(581)...\n",
      "Going to call recursion(582)...\n",
      "Going to call recursion(583)...\n",
      "Going to call recursion(584)...\n",
      "Going to call recursion(585)...\n",
      "Going to call recursion(586)...\n",
      "Going to call recursion(587)...\n",
      "Going to call recursion(588)...\n",
      "Going to call recursion(589)...\n",
      "Going to call recursion(590)...\n",
      "Going to call recursion(591)...\n",
      "Going to call recursion(592)...\n",
      "Going to call recursion(593)...\n",
      "Going to call recursion(594)...\n",
      "Going to call recursion(595)...\n",
      "Going to call recursion(596)...\n",
      "Going to call recursion(597)...\n",
      "Going to call recursion(598)...\n",
      "Going to call recursion(599)...\n",
      "Going to call recursion(600)...\n",
      "Going to call recursion(601)...\n",
      "Going to call recursion(602)...\n",
      "Going to call recursion(603)...\n",
      "Going to call recursion(604)...\n",
      "Going to call recursion(605)...\n",
      "Going to call recursion(606)...\n",
      "Going to call recursion(607)...\n",
      "Going to call recursion(608)...\n",
      "Going to call recursion(609)...\n",
      "Going to call recursion(610)...\n",
      "Going to call recursion(611)...\n",
      "Going to call recursion(612)...\n",
      "Going to call recursion(613)...\n",
      "Going to call recursion(614)...\n",
      "Going to call recursion(615)...\n",
      "Going to call recursion(616)...\n",
      "Going to call recursion(617)...\n",
      "Going to call recursion(618)...\n",
      "Going to call recursion(619)...\n",
      "Going to call recursion(620)...\n",
      "Going to call recursion(621)...\n",
      "Going to call recursion(622)...\n",
      "Going to call recursion(623)...\n",
      "Going to call recursion(624)...\n",
      "Going to call recursion(625)...\n",
      "Going to call recursion(626)...\n",
      "Going to call recursion(627)...\n",
      "Going to call recursion(628)...\n",
      "Going to call recursion(629)...\n",
      "Going to call recursion(630)...\n",
      "Going to call recursion(631)...\n",
      "Going to call recursion(632)...\n",
      "Going to call recursion(633)...\n",
      "Going to call recursion(634)...\n",
      "Going to call recursion(635)...\n",
      "Going to call recursion(636)...\n",
      "Going to call recursion(637)...\n",
      "Going to call recursion(638)...\n",
      "Going to call recursion(639)...\n",
      "Going to call recursion(640)...\n",
      "Going to call recursion(641)...\n",
      "Going to call recursion(642)...\n",
      "Going to call recursion(643)...\n",
      "Going to call recursion(644)...\n",
      "Going to call recursion(645)...\n",
      "Going to call recursion(646)...\n",
      "Going to call recursion(647)...\n",
      "Going to call recursion(648)...\n",
      "Going to call recursion(649)...\n",
      "Going to call recursion(650)...\n",
      "Going to call recursion(651)...\n",
      "Going to call recursion(652)...\n",
      "Going to call recursion(653)...\n",
      "Going to call recursion(654)...\n",
      "Going to call recursion(655)...\n",
      "Going to call recursion(656)...\n",
      "Going to call recursion(657)...\n",
      "Going to call recursion(658)...\n",
      "Going to call recursion(659)...\n",
      "Going to call recursion(660)...\n",
      "Going to call recursion(661)...\n",
      "Going to call recursion(662)...\n",
      "Going to call recursion(663)...\n",
      "Going to call recursion(664)...\n",
      "Going to call recursion(665)...\n",
      "Going to call recursion(666)...\n",
      "Going to call recursion(667)...\n",
      "Going to call recursion(668)...\n",
      "Going to call recursion(669)...\n",
      "Going to call recursion(670)...\n",
      "Going to call recursion(671)...\n",
      "Going to call recursion(672)...\n",
      "Going to call recursion(673)...\n",
      "Going to call recursion(674)...\n",
      "Going to call recursion(675)...\n",
      "Going to call recursion(676)...\n",
      "Going to call recursion(677)...\n",
      "Going to call recursion(678)...\n",
      "Going to call recursion(679)...\n",
      "Going to call recursion(680)...\n",
      "Going to call recursion(681)...\n",
      "Going to call recursion(682)...\n",
      "Going to call recursion(683)...\n",
      "Going to call recursion(684)...\n",
      "Going to call recursion(685)...\n",
      "Going to call recursion(686)...\n",
      "Going to call recursion(687)...\n",
      "Going to call recursion(688)...\n",
      "Going to call recursion(689)...\n",
      "Going to call recursion(690)...\n",
      "Going to call recursion(691)...\n",
      "Going to call recursion(692)...\n",
      "Going to call recursion(693)...\n",
      "Going to call recursion(694)...\n",
      "Going to call recursion(695)...\n",
      "Going to call recursion(696)...\n",
      "Going to call recursion(697)...\n",
      "Going to call recursion(698)...\n",
      "Going to call recursion(699)...\n",
      "Going to call recursion(700)...\n",
      "Going to call recursion(701)...\n",
      "Going to call recursion(702)...\n",
      "Going to call recursion(703)...\n",
      "Going to call recursion(704)...\n",
      "Going to call recursion(705)...\n",
      "Going to call recursion(706)...\n",
      "Going to call recursion(707)...\n",
      "Going to call recursion(708)...\n",
      "Going to call recursion(709)...\n",
      "Going to call recursion(710)...\n",
      "Going to call recursion(711)...\n",
      "Going to call recursion(712)...\n",
      "Going to call recursion(713)...\n",
      "Going to call recursion(714)...\n",
      "Going to call recursion(715)...\n",
      "Going to call recursion(716)...\n",
      "Going to call recursion(717)...\n",
      "Going to call recursion(718)...\n",
      "Going to call recursion(719)...\n",
      "Going to call recursion(720)...\n",
      "Going to call recursion(721)...\n",
      "Going to call recursion(722)...\n",
      "Going to call recursion(723)...\n",
      "Going to call recursion(724)...\n",
      "Going to call recursion(725)...\n",
      "Going to call recursion(726)...\n",
      "Going to call recursion(727)...\n",
      "Going to call recursion(728)...\n",
      "Going to call recursion(729)...\n",
      "Going to call recursion(730)...\n",
      "Going to call recursion(731)...\n",
      "Going to call recursion(732)...\n",
      "Going to call recursion(733)...\n",
      "Going to call recursion(734)...\n",
      "Going to call recursion(735)...\n",
      "Going to call recursion(736)...\n",
      "Going to call recursion(737)...\n",
      "Going to call recursion(738)...\n",
      "Going to call recursion(739)...\n",
      "Going to call recursion(740)...\n",
      "Going to call recursion(741)...\n",
      "Going to call recursion(742)...\n",
      "Going to call recursion(743)...\n",
      "Going to call recursion(744)...\n",
      "Going to call recursion(745)...\n",
      "Going to call recursion(746)...\n",
      "Going to call recursion(747)...\n",
      "Going to call recursion(748)...\n",
      "Going to call recursion(749)...\n",
      "Going to call recursion(750)...\n",
      "Going to call recursion(751)...\n",
      "Going to call recursion(752)...\n",
      "Going to call recursion(753)...\n",
      "Going to call recursion(754)...\n",
      "Going to call recursion(755)...\n",
      "Going to call recursion(756)...\n",
      "Going to call recursion(757)...\n",
      "Going to call recursion(758)...\n",
      "Going to call recursion(759)...\n",
      "Going to call recursion(760)...\n",
      "Going to call recursion(761)...\n",
      "Going to call recursion(762)...\n",
      "Going to call recursion(763)...\n",
      "Going to call recursion(764)...\n",
      "Going to call recursion(765)...\n",
      "Going to call recursion(766)...\n",
      "Going to call recursion(767)...\n",
      "Going to call recursion(768)...\n",
      "Going to call recursion(769)...\n",
      "Going to call recursion(770)...\n",
      "Going to call recursion(771)...\n",
      "Going to call recursion(772)...\n",
      "Going to call recursion(773)...\n",
      "Going to call recursion(774)...\n",
      "Going to call recursion(775)...\n",
      "Going to call recursion(776)...\n",
      "Going to call recursion(777)...\n",
      "Going to call recursion(778)...\n",
      "Going to call recursion(779)...\n",
      "Going to call recursion(780)...\n",
      "Going to call recursion(781)...\n",
      "Going to call recursion(782)...\n",
      "Going to call recursion(783)...\n",
      "Going to call recursion(784)...\n",
      "Going to call recursion(785)...\n",
      "Going to call recursion(786)...\n",
      "Going to call recursion(787)...\n",
      "Going to call recursion(788)...\n",
      "Going to call recursion(789)...\n",
      "Going to call recursion(790)...\n",
      "Going to call recursion(791)...\n",
      "Going to call recursion(792)...\n",
      "Going to call recursion(793)...\n",
      "Going to call recursion(794)...\n",
      "Going to call recursion(795)...\n",
      "Going to call recursion(796)...\n",
      "Going to call recursion(797)...\n",
      "Going to call recursion(798)...\n",
      "Going to call recursion(799)...\n",
      "Going to call recursion(800)...\n",
      "Going to call recursion(801)...\n",
      "Going to call recursion(802)...\n",
      "Going to call recursion(803)...\n",
      "Going to call recursion(804)...\n",
      "Going to call recursion(805)...\n",
      "Going to call recursion(806)...\n",
      "Going to call recursion(807)...\n",
      "Going to call recursion(808)...\n",
      "Going to call recursion(809)...\n",
      "Going to call recursion(810)...\n",
      "Going to call recursion(811)...\n",
      "Going to call recursion(812)...\n",
      "Going to call recursion(813)...\n",
      "Going to call recursion(814)...\n",
      "Going to call recursion(815)...\n",
      "Going to call recursion(816)...\n",
      "Going to call recursion(817)...\n",
      "Going to call recursion(818)...\n",
      "Going to call recursion(819)...\n",
      "Going to call recursion(820)...\n",
      "Going to call recursion(821)...\n",
      "Going to call recursion(822)...\n",
      "Going to call recursion(823)...\n",
      "Going to call recursion(824)...\n",
      "Going to call recursion(825)...\n",
      "Going to call recursion(826)...\n",
      "Going to call recursion(827)...\n",
      "Going to call recursion(828)...\n",
      "Going to call recursion(829)...\n",
      "Going to call recursion(830)...\n",
      "Going to call recursion(831)...\n",
      "Going to call recursion(832)...\n",
      "Going to call recursion(833)...\n",
      "Going to call recursion(834)...\n",
      "Going to call recursion(835)...\n",
      "Going to call recursion(836)...\n",
      "Going to call recursion(837)...\n",
      "Going to call recursion(838)...\n",
      "Going to call recursion(839)...\n",
      "Going to call recursion(840)...\n",
      "Going to call recursion(841)...\n",
      "Going to call recursion(842)...\n",
      "Going to call recursion(843)...\n",
      "Going to call recursion(844)...\n",
      "Going to call recursion(845)...\n",
      "Going to call recursion(846)...\n",
      "Going to call recursion(847)...\n",
      "Going to call recursion(848)...\n",
      "Going to call recursion(849)...\n",
      "Going to call recursion(850)...\n",
      "Going to call recursion(851)...\n",
      "Going to call recursion(852)...\n",
      "Going to call recursion(853)...\n",
      "Going to call recursion(854)...\n",
      "Going to call recursion(855)...\n",
      "Going to call recursion(856)...\n",
      "Going to call recursion(857)...\n",
      "Going to call recursion(858)...\n",
      "Going to call recursion(859)...\n",
      "Going to call recursion(860)...\n",
      "Going to call recursion(861)...\n",
      "Going to call recursion(862)...\n",
      "Going to call recursion(863)...\n",
      "Going to call recursion(864)...\n",
      "Going to call recursion(865)...\n",
      "Going to call recursion(866)...\n",
      "Going to call recursion(867)...\n",
      "Going to call recursion(868)...\n",
      "Going to call recursion(869)...\n",
      "Going to call recursion(870)...\n",
      "Going to call recursion(871)...\n",
      "Going to call recursion(872)...\n",
      "Going to call recursion(873)...\n",
      "Going to call recursion(874)...\n",
      "Going to call recursion(875)...\n",
      "Going to call recursion(876)...\n",
      "Going to call recursion(877)...\n",
      "Going to call recursion(878)...\n",
      "Going to call recursion(879)...\n",
      "Going to call recursion(880)...\n",
      "Going to call recursion(881)...\n",
      "Going to call recursion(882)...\n",
      "Going to call recursion(883)...\n",
      "Going to call recursion(884)...\n",
      "Going to call recursion(885)...\n",
      "Going to call recursion(886)...\n",
      "Going to call recursion(887)...\n",
      "Going to call recursion(888)...\n",
      "Going to call recursion(889)...\n",
      "Going to call recursion(890)...\n",
      "Going to call recursion(891)...\n",
      "Going to call recursion(892)...\n",
      "Going to call recursion(893)...\n",
      "Going to call recursion(894)...\n",
      "Going to call recursion(895)...\n",
      "Going to call recursion(896)...\n",
      "Going to call recursion(897)...\n",
      "Going to call recursion(898)...\n",
      "Going to call recursion(899)...\n",
      "Going to call recursion(900)...\n",
      "Going to call recursion(901)...\n",
      "Going to call recursion(902)...\n",
      "Going to call recursion(903)...\n",
      "Going to call recursion(904)...\n",
      "Going to call recursion(905)...\n",
      "Going to call recursion(906)...\n",
      "Going to call recursion(907)...\n",
      "Going to call recursion(908)...\n",
      "Going to call recursion(909)...\n",
      "Going to call recursion(910)...\n",
      "Going to call recursion(911)...\n",
      "Going to call recursion(912)...\n",
      "Going to call recursion(913)...\n",
      "Going to call recursion(914)...\n",
      "Going to call recursion(915)...\n",
      "Going to call recursion(916)...\n",
      "Going to call recursion(917)...\n",
      "Going to call recursion(918)...\n",
      "Going to call recursion(919)...\n",
      "Going to call recursion(920)...\n",
      "Going to call recursion(921)...\n",
      "Going to call recursion(922)...\n",
      "Going to call recursion(923)...\n",
      "Going to call recursion(924)...\n",
      "Going to call recursion(925)...\n",
      "Going to call recursion(926)...\n",
      "Going to call recursion(927)...\n",
      "Going to call recursion(928)...\n",
      "Going to call recursion(929)...\n",
      "Going to call recursion(930)...\n",
      "Going to call recursion(931)...\n",
      "Going to call recursion(932)...\n",
      "Going to call recursion(933)...\n",
      "Going to call recursion(934)...\n",
      "Going to call recursion(935)...\n",
      "Going to call recursion(936)...\n",
      "Going to call recursion(937)...\n",
      "Going to call recursion(938)...\n",
      "Going to call recursion(939)...\n",
      "Going to call recursion(940)...\n",
      "Going to call recursion(941)...\n",
      "Going to call recursion(942)...\n",
      "Going to call recursion(943)...\n",
      "Going to call recursion(944)...\n",
      "Going to call recursion(945)...\n",
      "Going to call recursion(946)...\n",
      "Going to call recursion(947)...\n",
      "Going to call recursion(948)...\n",
      "Going to call recursion(949)...\n",
      "Going to call recursion(950)...\n",
      "Going to call recursion(951)...\n",
      "Going to call recursion(952)...\n",
      "Going to call recursion(953)...\n",
      "Going to call recursion(954)...\n",
      "Going to call recursion(955)...\n",
      "Going to call recursion(956)...\n",
      "Going to call recursion(957)...\n",
      "Going to call recursion(958)...\n",
      "Going to call recursion(959)...\n",
      "Going to call recursion(960)...\n",
      "Going to call recursion(961)...\n",
      "Going to call recursion(962)...\n",
      "Going to call recursion(963)...\n",
      "Going to call recursion(964)...\n",
      "Going to call recursion(965)...\n",
      "Going to call recursion(966)...\n",
      "Going to call recursion(967)...\n",
      "Going to call recursion(968)...\n",
      "Going to call recursion(969)...\n",
      "Going to call recursion(970)...\n",
      "Going to call recursion(971)...\n",
      "Going to call recursion(972)...\n",
      "Going to call recursion(973)...\n",
      "Going to call recursion(974)...\n",
      "Going to call recursion(975)...\n",
      "Going to call recursion(976)...\n",
      "Going to call recursion(977)...\n",
      "Going to call recursion(978)...\n",
      "Going to call recursion(979)...\n",
      "Going to call recursion(980)...\n",
      "Going to call recursion(981)...\n",
      "Going to call recursion(982)...\n",
      "Going to call recursion(983)...\n",
      "Going to call recursion(984)...\n",
      "Going to call recursion(985)...\n",
      "Going to call recursion(986)...\n",
      "Going to call recursion(987)...\n",
      "Going to call recursion(988)...\n",
      "Going to call recursion(989)...\n",
      "Going to call recursion(990)...\n",
      "Going to call recursion(991)...\n",
      "Going to call recursion(992)...\n",
      "Going to call recursion(993)...\n",
      "Going to call recursion(994)...\n",
      "Going to call recursion(995)...\n",
      "Going to call recursion(996)...\n",
      "Going to call recursion(997)...\n",
      "Going to call recursion(998)...\n",
      "Going to call recursion(999)...\n",
      "Going to call recursion(1000)...\n",
      "Going to call recursion(1001)...\n",
      "Going to call recursion(1002)...\n",
      "Going to call recursion(1003)...\n",
      "Going to call recursion(1004)...\n",
      "Going to call recursion(1005)...\n",
      "Going to call recursion(1006)...\n",
      "Going to call recursion(1007)...\n",
      "Going to call recursion(1008)...\n",
      "Going to call recursion(1009)...\n",
      "Going to call recursion(1010)...\n",
      "Going to call recursion(1011)...\n",
      "Going to call recursion(1012)...\n",
      "Going to call recursion(1013)...\n",
      "Going to call recursion(1014)...\n",
      "Going to call recursion(1015)...\n",
      "Going to call recursion(1016)...\n",
      "Going to call recursion(1017)...\n",
      "Going to call recursion(1018)...\n",
      "Going to call recursion(1019)...\n",
      "Going to call recursion(1020)...\n",
      "Going to call recursion(1021)...\n",
      "Going to call recursion(1022)...\n",
      "Going to call recursion(1023)...\n",
      "Going to call recursion(1024)...\n",
      "Going to call recursion(1025)...\n",
      "Going to call recursion(1026)...\n",
      "Going to call recursion(1027)...\n",
      "Going to call recursion(1028)...\n",
      "Going to call recursion(1029)...\n",
      "Going to call recursion(1030)...\n",
      "Going to call recursion(1031)...\n",
      "Going to call recursion(1032)...\n",
      "Going to call recursion(1033)...\n",
      "Going to call recursion(1034)...\n",
      "Going to call recursion(1035)...\n",
      "Going to call recursion(1036)...\n",
      "Going to call recursion(1037)...\n",
      "Going to call recursion(1038)...\n",
      "Going to call recursion(1039)...\n",
      "Going to call recursion(1040)...\n",
      "Going to call recursion(1041)...\n",
      "Going to call recursion(1042)...\n",
      "Going to call recursion(1043)...\n",
      "Going to call recursion(1044)...\n",
      "Going to call recursion(1045)...\n",
      "Going to call recursion(1046)...\n",
      "Going to call recursion(1047)...\n",
      "Going to call recursion(1048)...\n",
      "Going to call recursion(1049)...\n",
      "Going to call recursion(1050)...\n",
      "Going to call recursion(1051)...\n",
      "Going to call recursion(1052)...\n",
      "Going to call recursion(1053)...\n",
      "Going to call recursion(1054)...\n",
      "Going to call recursion(1055)...\n",
      "Going to call recursion(1056)...\n",
      "Going to call recursion(1057)...\n",
      "Going to call recursion(1058)...\n",
      "Going to call recursion(1059)...\n",
      "Going to call recursion(1060)...\n",
      "Going to call recursion(1061)...\n",
      "Going to call recursion(1062)...\n",
      "Going to call recursion(1063)...\n",
      "Going to call recursion(1064)...\n",
      "Going to call recursion(1065)...\n",
      "Going to call recursion(1066)...\n",
      "Going to call recursion(1067)...\n",
      "Going to call recursion(1068)...\n",
      "Going to call recursion(1069)...\n",
      "Going to call recursion(1070)...\n",
      "Going to call recursion(1071)...\n",
      "Going to call recursion(1072)...\n",
      "Going to call recursion(1073)...\n",
      "Going to call recursion(1074)...\n",
      "Going to call recursion(1075)...\n",
      "Going to call recursion(1076)...\n",
      "Going to call recursion(1077)...\n",
      "Going to call recursion(1078)...\n",
      "Going to call recursion(1079)...\n",
      "Going to call recursion(1080)...\n",
      "Going to call recursion(1081)...\n",
      "Going to call recursion(1082)...\n",
      "Going to call recursion(1083)...\n",
      "Going to call recursion(1084)...\n",
      "Going to call recursion(1085)...\n",
      "Going to call recursion(1086)...\n",
      "Going to call recursion(1087)...\n",
      "Going to call recursion(1088)...\n",
      "Going to call recursion(1089)...\n",
      "Going to call recursion(1090)...\n",
      "Going to call recursion(1091)...\n",
      "Going to call recursion(1092)...\n",
      "Going to call recursion(1093)...\n",
      "Going to call recursion(1094)...\n",
      "Going to call recursion(1095)...\n",
      "Going to call recursion(1096)...\n",
      "Going to call recursion(1097)...\n",
      "Going to call recursion(1098)...\n",
      "Going to call recursion(1099)...\n",
      "Going to call recursion(1100)...\n",
      "Going to call recursion(1101)...\n",
      "Going to call recursion(1102)...\n",
      "Going to call recursion(1103)...\n",
      "Going to call recursion(1104)...\n",
      "Going to call recursion(1105)...\n",
      "Going to call recursion(1106)...\n",
      "Going to call recursion(1107)...\n",
      "Going to call recursion(1108)...\n",
      "Going to call recursion(1109)...\n",
      "Going to call recursion(1110)...\n",
      "Going to call recursion(1111)...\n",
      "Going to call recursion(1112)...\n",
      "Going to call recursion(1113)...\n",
      "Going to call recursion(1114)...\n",
      "Going to call recursion(1115)...\n",
      "Going to call recursion(1116)...\n",
      "Going to call recursion(1117)...\n",
      "Going to call recursion(1118)...\n",
      "Going to call recursion(1119)...\n",
      "Going to call recursion(1120)...\n",
      "Going to call recursion(1121)...\n",
      "Going to call recursion(1122)...\n",
      "Going to call recursion(1123)...\n",
      "Going to call recursion(1124)...\n",
      "Going to call recursion(1125)...\n",
      "Going to call recursion(1126)...\n",
      "Going to call recursion(1127)...\n",
      "Going to call recursion(1128)...\n",
      "Going to call recursion(1129)...\n",
      "Going to call recursion(1130)...\n",
      "Going to call recursion(1131)...\n",
      "Going to call recursion(1132)...\n",
      "Going to call recursion(1133)...\n",
      "Going to call recursion(1134)...\n",
      "Going to call recursion(1135)...\n",
      "Going to call recursion(1136)...\n",
      "Going to call recursion(1137)...\n",
      "Going to call recursion(1138)...\n",
      "Going to call recursion(1139)...\n",
      "Going to call recursion(1140)...\n",
      "Going to call recursion(1141)...\n",
      "Going to call recursion(1142)...\n",
      "Going to call recursion(1143)...\n",
      "Going to call recursion(1144)...\n",
      "Going to call recursion(1145)...\n",
      "Going to call recursion(1146)...\n",
      "Going to call recursion(1147)...\n",
      "Going to call recursion(1148)...\n",
      "Going to call recursion(1149)...\n",
      "Going to call recursion(1150)...\n",
      "Going to call recursion(1151)...\n",
      "Going to call recursion(1152)...\n",
      "Going to call recursion(1153)...\n",
      "Going to call recursion(1154)...\n",
      "Going to call recursion(1155)...\n",
      "Going to call recursion(1156)...\n",
      "Going to call recursion(1157)...\n",
      "Going to call recursion(1158)...\n",
      "Going to call recursion(1159)...\n",
      "Going to call recursion(1160)...\n",
      "Going to call recursion(1161)...\n",
      "Going to call recursion(1162)...\n",
      "Going to call recursion(1163)...\n",
      "Going to call recursion(1164)...\n",
      "Going to call recursion(1165)...\n",
      "Going to call recursion(1166)...\n",
      "Going to call recursion(1167)...\n",
      "Going to call recursion(1168)...\n",
      "Going to call recursion(1169)...\n",
      "Going to call recursion(1170)...\n",
      "Going to call recursion(1171)...\n",
      "Going to call recursion(1172)...\n",
      "Going to call recursion(1173)...\n",
      "Going to call recursion(1174)...\n",
      "Going to call recursion(1175)...\n",
      "Going to call recursion(1176)...\n",
      "Going to call recursion(1177)...\n",
      "Going to call recursion(1178)...\n",
      "Going to call recursion(1179)...\n",
      "Going to call recursion(1180)...\n",
      "Going to call recursion(1181)...\n",
      "Going to call recursion(1182)...\n",
      "Going to call recursion(1183)...\n",
      "Going to call recursion(1184)...\n",
      "Going to call recursion(1185)...\n",
      "Going to call recursion(1186)...\n",
      "Going to call recursion(1187)...\n",
      "Going to call recursion(1188)...\n",
      "Going to call recursion(1189)...\n",
      "Going to call recursion(1190)...\n",
      "Going to call recursion(1191)...\n",
      "Going to call recursion(1192)...\n",
      "Going to call recursion(1193)...\n",
      "Going to call recursion(1194)...\n",
      "Going to call recursion(1195)...\n",
      "Going to call recursion(1196)...\n",
      "Going to call recursion(1197)...\n",
      "Going to call recursion(1198)...\n",
      "Going to call recursion(1199)...\n",
      "Going to call recursion(1200)...\n",
      "Going to call recursion(1201)...\n",
      "Going to call recursion(1202)...\n",
      "Going to call recursion(1203)...\n",
      "Going to call recursion(1204)...\n",
      "Going to call recursion(1205)...\n",
      "Going to call recursion(1206)...\n",
      "Going to call recursion(1207)...\n",
      "Going to call recursion(1208)...\n",
      "Going to call recursion(1209)...\n",
      "Going to call recursion(1210)...\n",
      "Going to call recursion(1211)...\n",
      "Going to call recursion(1212)...\n",
      "Going to call recursion(1213)...\n",
      "Going to call recursion(1214)...\n",
      "Going to call recursion(1215)...\n",
      "Going to call recursion(1216)...\n",
      "Going to call recursion(1217)...\n",
      "Going to call recursion(1218)...\n",
      "Going to call recursion(1219)...\n",
      "Going to call recursion(1220)...\n",
      "Going to call recursion(1221)...\n",
      "Going to call recursion(1222)...\n",
      "Going to call recursion(1223)...\n",
      "Going to call recursion(1224)...\n",
      "Going to call recursion(1225)...\n",
      "Going to call recursion(1226)...\n",
      "Going to call recursion(1227)...\n",
      "Going to call recursion(1228)...\n",
      "Going to call recursion(1229)...\n",
      "Going to call recursion(1230)...\n",
      "Going to call recursion(1231)...\n",
      "Going to call recursion(1232)...\n",
      "Going to call recursion(1233)...\n",
      "Going to call recursion(1234)...\n",
      "Going to call recursion(1235)...\n",
      "Going to call recursion(1236)...\n",
      "Going to call recursion(1237)...\n",
      "Going to call recursion(1238)...\n",
      "Going to call recursion(1239)...\n",
      "Going to call recursion(1240)...\n",
      "Going to call recursion(1241)...\n",
      "Going to call recursion(1242)...\n",
      "Going to call recursion(1243)...\n",
      "Going to call recursion(1244)...\n",
      "Going to call recursion(1245)...\n",
      "Going to call recursion(1246)...\n",
      "Going to call recursion(1247)...\n",
      "Going to call recursion(1248)...\n",
      "Going to call recursion(1249)...\n",
      "Going to call recursion(1250)...\n",
      "Going to call recursion(1251)...\n",
      "Going to call recursion(1252)...\n",
      "Going to call recursion(1253)...\n",
      "Going to call recursion(1254)...\n",
      "Going to call recursion(1255)...\n",
      "Going to call recursion(1256)...\n",
      "Going to call recursion(1257)...\n",
      "Going to call recursion(1258)...\n",
      "Going to call recursion(1259)...\n",
      "Going to call recursion(1260)...\n",
      "Going to call recursion(1261)...\n",
      "Going to call recursion(1262)...\n",
      "Going to call recursion(1263)...\n",
      "Going to call recursion(1264)...\n",
      "Going to call recursion(1265)...\n",
      "Going to call recursion(1266)...\n",
      "Going to call recursion(1267)...\n",
      "Going to call recursion(1268)...\n",
      "Going to call recursion(1269)...\n",
      "Going to call recursion(1270)...\n",
      "Going to call recursion(1271)...\n",
      "Going to call recursion(1272)...\n",
      "Going to call recursion(1273)...\n",
      "Going to call recursion(1274)...\n",
      "Going to call recursion(1275)...\n",
      "Going to call recursion(1276)...\n",
      "Going to call recursion(1277)...\n",
      "Going to call recursion(1278)...\n",
      "Going to call recursion(1279)...\n",
      "Going to call recursion(1280)...\n",
      "Going to call recursion(1281)...\n",
      "Going to call recursion(1282)...\n",
      "Going to call recursion(1283)...\n",
      "Going to call recursion(1284)...\n",
      "Going to call recursion(1285)...\n",
      "Going to call recursion(1286)...\n",
      "Going to call recursion(1287)...\n",
      "Going to call recursion(1288)...\n",
      "Going to call recursion(1289)...\n",
      "Going to call recursion(1290)...\n",
      "Going to call recursion(1291)...\n",
      "Going to call recursion(1292)...\n",
      "Going to call recursion(1293)...\n",
      "Going to call recursion(1294)...\n",
      "Going to call recursion(1295)...\n",
      "Going to call recursion(1296)...\n",
      "Going to call recursion(1297)...\n",
      "Going to call recursion(1298)...\n",
      "Going to call recursion(1299)...\n",
      "Going to call recursion(1300)...\n",
      "Going to call recursion(1301)...\n",
      "Going to call recursion(1302)...\n",
      "Going to call recursion(1303)...\n",
      "Going to call recursion(1304)...\n",
      "Going to call recursion(1305)...\n",
      "Going to call recursion(1306)...\n",
      "Going to call recursion(1307)...\n",
      "Going to call recursion(1308)...\n",
      "Going to call recursion(1309)...\n",
      "Going to call recursion(1310)...\n",
      "Going to call recursion(1311)...\n",
      "Going to call recursion(1312)...\n",
      "Going to call recursion(1313)...\n",
      "Going to call recursion(1314)...\n",
      "Going to call recursion(1315)...\n",
      "Going to call recursion(1316)...\n",
      "Going to call recursion(1317)...\n",
      "Going to call recursion(1318)...\n",
      "Going to call recursion(1319)...\n",
      "Going to call recursion(1320)...\n",
      "Going to call recursion(1321)...\n",
      "Going to call recursion(1322)...\n",
      "Going to call recursion(1323)...\n",
      "Going to call recursion(1324)...\n",
      "Going to call recursion(1325)...\n",
      "Going to call recursion(1326)...\n",
      "Going to call recursion(1327)...\n",
      "Going to call recursion(1328)...\n",
      "Going to call recursion(1329)...\n",
      "Going to call recursion(1330)...\n",
      "Going to call recursion(1331)...\n",
      "Going to call recursion(1332)...\n",
      "Going to call recursion(1333)...\n",
      "Going to call recursion(1334)...\n",
      "Going to call recursion(1335)...\n",
      "Going to call recursion(1336)...\n",
      "Going to call recursion(1337)...\n",
      "Going to call recursion(1338)...\n",
      "Going to call recursion(1339)...\n",
      "Going to call recursion(1340)...\n",
      "Going to call recursion(1341)...\n",
      "Going to call recursion(1342)...\n",
      "Going to call recursion(1343)...\n",
      "Going to call recursion(1344)...\n",
      "Going to call recursion(1345)...\n",
      "Going to call recursion(1346)...\n",
      "Going to call recursion(1347)...\n",
      "Going to call recursion(1348)...\n",
      "Going to call recursion(1349)...\n",
      "Going to call recursion(1350)...\n",
      "Going to call recursion(1351)...\n",
      "Going to call recursion(1352)...\n",
      "Going to call recursion(1353)...\n",
      "Going to call recursion(1354)...\n",
      "Going to call recursion(1355)...\n"
     ]
    },
    {
     "name": "stdout",
     "output_type": "stream",
     "text": [
      "Going to call recursion(1356)...\n",
      "Going to call recursion(1357)...\n",
      "Going to call recursion(1358)...\n",
      "Going to call recursion(1359)...\n",
      "Going to call recursion(1360)...\n",
      "Going to call recursion(1361)...\n",
      "Going to call recursion(1362)...\n",
      "Going to call recursion(1363)...\n",
      "Going to call recursion(1364)...\n",
      "Going to call recursion(1365)...\n",
      "Going to call recursion(1366)...\n",
      "Going to call recursion(1367)...\n",
      "Going to call recursion(1368)...\n",
      "Going to call recursion(1369)...\n",
      "Going to call recursion(1370)...\n",
      "Going to call recursion(1371)...\n",
      "Going to call recursion(1372)...\n",
      "Going to call recursion(1373)...\n",
      "Going to call recursion(1374)...\n",
      "Going to call recursion(1375)...\n",
      "Going to call recursion(1376)...\n",
      "Going to call recursion(1377)...\n",
      "Going to call recursion(1378)...\n",
      "Going to call recursion(1379)...\n",
      "Going to call recursion(1380)...\n",
      "Going to call recursion(1381)...\n",
      "Going to call recursion(1382)...\n",
      "Going to call recursion(1383)...\n",
      "Going to call recursion(1384)...\n",
      "Going to call recursion(1385)...\n",
      "Going to call recursion(1386)...\n",
      "Going to call recursion(1387)...\n",
      "Going to call recursion(1388)...\n",
      "Going to call recursion(1389)...\n",
      "Going to call recursion(1390)...\n",
      "Going to call recursion(1391)...\n",
      "Going to call recursion(1392)...\n",
      "Going to call recursion(1393)...\n",
      "Going to call recursion(1394)...\n",
      "Going to call recursion(1395)...\n",
      "Going to call recursion(1396)...\n",
      "Going to call recursion(1397)...\n",
      "Going to call recursion(1398)...\n",
      "Going to call recursion(1399)...\n",
      "Going to call recursion(1400)...\n",
      "Going to call recursion(1401)...\n",
      "Going to call recursion(1402)...\n",
      "Going to call recursion(1403)...\n",
      "Going to call recursion(1404)...\n",
      "Going to call recursion(1405)...\n",
      "Going to call recursion(1406)...\n",
      "Going to call recursion(1407)...\n",
      "Going to call recursion(1408)...\n",
      "Going to call recursion(1409)...\n",
      "Going to call recursion(1410)...\n",
      "Going to call recursion(1411)...\n",
      "Going to call recursion(1412)...\n",
      "Going to call recursion(1413)...\n",
      "Going to call recursion(1414)...\n",
      "Going to call recursion(1415)...\n",
      "Going to call recursion(1416)...\n",
      "Going to call recursion(1417)...\n",
      "Going to call recursion(1418)...\n",
      "Going to call recursion(1419)...\n",
      "Going to call recursion(1420)...\n",
      "Going to call recursion(1421)...\n",
      "Going to call recursion(1422)...\n",
      "Going to call recursion(1423)...\n",
      "Going to call recursion(1424)...\n",
      "Going to call recursion(1425)...\n",
      "Going to call recursion(1426)...\n",
      "Going to call recursion(1427)...\n",
      "Going to call recursion(1428)...\n",
      "Going to call recursion(1429)...\n",
      "Going to call recursion(1430)...\n",
      "Going to call recursion(1431)...\n",
      "Going to call recursion(1432)...\n",
      "Going to call recursion(1433)...\n",
      "Going to call recursion(1434)...\n",
      "Going to call recursion(1435)...\n",
      "Going to call recursion(1436)...\n",
      "Going to call recursion(1437)...\n",
      "Going to call recursion(1438)...\n",
      "Going to call recursion(1439)...\n",
      "Going to call recursion(1440)...\n",
      "Going to call recursion(1441)...\n",
      "Going to call recursion(1442)...\n",
      "Going to call recursion(1443)...\n",
      "Going to call recursion(1444)...\n",
      "Going to call recursion(1445)...\n",
      "Going to call recursion(1446)...\n",
      "Going to call recursion(1447)...\n",
      "Going to call recursion(1448)...\n",
      "Going to call recursion(1449)...\n",
      "Going to call recursion(1450)...\n",
      "Going to call recursion(1451)...\n",
      "Going to call recursion(1452)...\n",
      "Going to call recursion(1453)...\n",
      "Going to call recursion(1454)...\n",
      "Going to call recursion(1455)...\n",
      "Going to call recursion(1456)...\n",
      "Going to call recursion(1457)...\n",
      "Going to call recursion(1458)...\n",
      "Going to call recursion(1459)...\n",
      "Going to call recursion(1460)...\n",
      "Going to call recursion(1461)...\n",
      "Going to call recursion(1462)...\n",
      "Going to call recursion(1463)...\n",
      "Going to call recursion(1464)...\n",
      "Going to call recursion(1465)...\n",
      "Going to call recursion(1466)...\n",
      "Going to call recursion(1467)...\n",
      "Going to call recursion(1468)...\n",
      "Going to call recursion(1469)...\n",
      "Going to call recursion(1470)...\n",
      "Going to call recursion(1471)...\n",
      "Going to call recursion(1472)...\n",
      "Going to call recursion(1473)...\n",
      "Going to call recursion(1474)...\n",
      "Going to call recursion(1475)...\n",
      "Going to call recursion(1476)...\n",
      "Going to call recursion(1477)...\n",
      "Going to call recursion(1478)...\n",
      "Going to call recursion(1479)...\n",
      "Going to call recursion(1480)...\n",
      "Going to call recursion(1481)...\n",
      "Going to call recursion(1482)...\n",
      "Going to call recursion(1483)...\n",
      "Going to call recursion(1484)...\n",
      "Going to call recursion(1485)...\n",
      "Going to call recursion(1486)...\n",
      "Going to call recursion(1487)...\n",
      "Going to call recursion(1488)...\n",
      "Going to call recursion(1489)...\n",
      "Going to call recursion(1490)...\n",
      "Going to call recursion(1491)...\n",
      "Going to call recursion(1492)...\n",
      "Going to call recursion(1493)...\n",
      "Going to call recursion(1494)...\n",
      "Going to call recursion(1495)...\n",
      "Going to call recursion(1496)...\n",
      "Going to call recursion(1497)...\n",
      "Going to call recursion(1498)...\n",
      "Going to call recursion(1499)...\n",
      "Going to call recursion(1500)...\n",
      "Going to call recursion(1501)...\n",
      "Going to call recursion(1502)...\n",
      "Going to call recursion(1503)...\n",
      "Going to call recursion(1504)...\n",
      "Going to call recursion(1505)...\n",
      "Going to call recursion(1506)...\n",
      "Going to call recursion(1507)...\n",
      "Going to call recursion(1508)...\n",
      "Going to call recursion(1509)...\n",
      "Going to call recursion(1510)...\n",
      "Going to call recursion(1511)...\n",
      "Going to call recursion(1512)...\n",
      "Going to call recursion(1513)...\n",
      "Going to call recursion(1514)...\n",
      "Going to call recursion(1515)...\n",
      "Going to call recursion(1516)...\n",
      "Going to call recursion(1517)...\n",
      "Going to call recursion(1518)...\n",
      "Going to call recursion(1519)...\n",
      "Going to call recursion(1520)...\n",
      "Going to call recursion(1521)...\n",
      "Going to call recursion(1522)...\n",
      "Going to call recursion(1523)...\n",
      "Going to call recursion(1524)...\n",
      "Going to call recursion(1525)...\n",
      "Going to call recursion(1526)...\n",
      "Going to call recursion(1527)...\n",
      "Going to call recursion(1528)...\n",
      "Going to call recursion(1529)...\n",
      "Going to call recursion(1530)...\n",
      "Going to call recursion(1531)...\n",
      "Going to call recursion(1532)...\n",
      "Going to call recursion(1533)...\n",
      "Going to call recursion(1534)...\n",
      "Going to call recursion(1535)...\n",
      "Going to call recursion(1536)...\n",
      "Going to call recursion(1537)...\n",
      "Going to call recursion(1538)...\n",
      "Going to call recursion(1539)...\n",
      "Going to call recursion(1540)...\n",
      "Going to call recursion(1541)...\n",
      "Going to call recursion(1542)...\n",
      "Going to call recursion(1543)...\n",
      "Going to call recursion(1544)...\n",
      "Going to call recursion(1545)...\n",
      "Going to call recursion(1546)...\n",
      "Going to call recursion(1547)...\n",
      "Going to call recursion(1548)...\n",
      "Going to call recursion(1549)...\n",
      "Going to call recursion(1550)...\n",
      "Going to call recursion(1551)...\n",
      "Going to call recursion(1552)...\n",
      "Going to call recursion(1553)...\n",
      "Going to call recursion(1554)...\n",
      "Going to call recursion(1555)...\n",
      "Going to call recursion(1556)...\n",
      "Going to call recursion(1557)...\n",
      "Going to call recursion(1558)...\n",
      "Going to call recursion(1559)...\n",
      "Going to call recursion(1560)...\n",
      "Going to call recursion(1561)...\n",
      "Going to call recursion(1562)...\n",
      "Going to call recursion(1563)...\n",
      "Going to call recursion(1564)...\n",
      "Going to call recursion(1565)...\n",
      "Going to call recursion(1566)...\n",
      "Going to call recursion(1567)...\n",
      "Going to call recursion(1568)...\n",
      "Going to call recursion(1569)...\n",
      "Going to call recursion(1570)...\n",
      "Going to call recursion(1571)...\n",
      "Going to call recursion(1572)...\n",
      "Going to call recursion(1573)...\n",
      "Going to call recursion(1574)...\n",
      "Going to call recursion(1575)...\n",
      "Going to call recursion(1576)...\n",
      "Going to call recursion(1577)...\n",
      "Going to call recursion(1578)...\n",
      "Going to call recursion(1579)...\n",
      "Going to call recursion(1580)...\n",
      "Going to call recursion(1581)...\n",
      "Going to call recursion(1582)...\n",
      "Going to call recursion(1583)...\n",
      "Going to call recursion(1584)...\n",
      "Going to call recursion(1585)...\n",
      "Going to call recursion(1586)...\n",
      "Going to call recursion(1587)...\n",
      "Going to call recursion(1588)...\n",
      "Going to call recursion(1589)...\n",
      "Going to call recursion(1590)...\n",
      "Going to call recursion(1591)...\n",
      "Going to call recursion(1592)...\n",
      "Going to call recursion(1593)...\n",
      "Going to call recursion(1594)...\n",
      "Going to call recursion(1595)...\n",
      "Going to call recursion(1596)...\n",
      "Going to call recursion(1597)...\n",
      "Going to call recursion(1598)...\n",
      "Going to call recursion(1599)...\n",
      "Going to call recursion(1600)...\n",
      "Going to call recursion(1601)...\n",
      "Going to call recursion(1602)...\n",
      "Going to call recursion(1603)...\n",
      "Going to call recursion(1604)...\n",
      "Going to call recursion(1605)...\n",
      "Going to call recursion(1606)...\n",
      "Going to call recursion(1607)...\n",
      "Going to call recursion(1608)...\n",
      "Going to call recursion(1609)...\n",
      "Going to call recursion(1610)...\n",
      "Going to call recursion(1611)...\n",
      "Going to call recursion(1612)...\n",
      "Going to call recursion(1613)...\n",
      "Going to call recursion(1614)...\n",
      "Going to call recursion(1615)...\n",
      "Going to call recursion(1616)...\n",
      "Going to call recursion(1617)...\n",
      "Going to call recursion(1618)...\n",
      "Going to call recursion(1619)...\n",
      "Going to call recursion(1620)...\n",
      "Going to call recursion(1621)...\n",
      "Going to call recursion(1622)...\n",
      "Going to call recursion(1623)...\n",
      "Going to call recursion(1624)...\n",
      "Going to call recursion(1625)...\n",
      "Going to call recursion(1626)...\n",
      "Going to call recursion(1627)...\n",
      "Going to call recursion(1628)...\n",
      "Going to call recursion(1629)...\n",
      "Going to call recursion(1630)...\n",
      "Going to call recursion(1631)...\n",
      "Going to call recursion(1632)...\n",
      "Going to call recursion(1633)...\n",
      "Going to call recursion(1634)...\n",
      "Going to call recursion(1635)...\n",
      "Going to call recursion(1636)...\n",
      "Going to call recursion(1637)...\n",
      "Going to call recursion(1638)...\n",
      "Going to call recursion(1639)...\n",
      "Going to call recursion(1640)...\n",
      "Going to call recursion(1641)...\n",
      "Going to call recursion(1642)...\n",
      "Going to call recursion(1643)...\n",
      "Going to call recursion(1644)...\n",
      "Going to call recursion(1645)...\n",
      "Going to call recursion(1646)...\n",
      "Going to call recursion(1647)...\n",
      "Going to call recursion(1648)...\n",
      "Going to call recursion(1649)...\n",
      "Going to call recursion(1650)...\n",
      "Going to call recursion(1651)...\n",
      "Going to call recursion(1652)...\n",
      "Going to call recursion(1653)...\n",
      "Going to call recursion(1654)...\n",
      "Going to call recursion(1655)...\n",
      "Going to call recursion(1656)...\n",
      "Going to call recursion(1657)...\n",
      "Going to call recursion(1658)...\n",
      "Going to call recursion(1659)...\n",
      "Going to call recursion(1660)...\n",
      "Going to call recursion(1661)...\n",
      "Going to call recursion(1662)...\n",
      "Going to call recursion(1663)...\n",
      "Going to call recursion(1664)...\n",
      "Going to call recursion(1665)...\n",
      "Going to call recursion(1666)...\n",
      "Going to call recursion(1667)...\n",
      "Going to call recursion(1668)...\n",
      "Going to call recursion(1669)...\n",
      "Going to call recursion(1670)...\n",
      "Going to call recursion(1671)...\n",
      "Going to call recursion(1672)...\n",
      "Going to call recursion(1673)...\n",
      "Going to call recursion(1674)...\n",
      "Going to call recursion(1675)...\n",
      "Going to call recursion(1676)...\n",
      "Going to call recursion(1677)...\n",
      "Going to call recursion(1678)...\n",
      "Going to call recursion(1679)...\n",
      "Going to call recursion(1680)...\n",
      "Going to call recursion(1681)...\n",
      "Going to call recursion(1682)...\n",
      "Going to call recursion(1683)...\n",
      "Going to call recursion(1684)...\n",
      "Going to call recursion(1685)...\n",
      "Going to call recursion(1686)...\n",
      "Going to call recursion(1687)...\n",
      "Going to call recursion(1688)...\n",
      "Going to call recursion(1689)...\n",
      "Going to call recursion(1690)...\n",
      "Going to call recursion(1691)...\n",
      "Going to call recursion(1692)...\n",
      "Going to call recursion(1693)...\n",
      "Going to call recursion(1694)...\n",
      "Going to call recursion(1695)...\n",
      "Going to call recursion(1696)...\n",
      "Going to call recursion(1697)...\n",
      "Going to call recursion(1698)...\n",
      "Going to call recursion(1699)...\n",
      "Going to call recursion(1700)...\n",
      "Going to call recursion(1701)...\n",
      "Going to call recursion(1702)...\n",
      "Going to call recursion(1703)...\n",
      "Going to call recursion(1704)...\n",
      "Going to call recursion(1705)...\n",
      "Going to call recursion(1706)...\n",
      "Going to call recursion(1707)...\n",
      "Going to call recursion(1708)...\n",
      "Going to call recursion(1709)...\n",
      "Going to call recursion(1710)...\n",
      "Going to call recursion(1711)...\n",
      "Going to call recursion(1712)...\n",
      "Going to call recursion(1713)...\n",
      "Going to call recursion(1714)...\n",
      "Going to call recursion(1715)...\n",
      "Going to call recursion(1716)...\n",
      "Going to call recursion(1717)...\n",
      "Going to call recursion(1718)...\n",
      "Going to call recursion(1719)...\n",
      "Going to call recursion(1720)...\n",
      "Going to call recursion(1721)...\n",
      "Going to call recursion(1722)...\n",
      "Going to call recursion(1723)...\n",
      "Going to call recursion(1724)...\n",
      "Going to call recursion(1725)...\n",
      "Going to call recursion(1726)...\n",
      "Going to call recursion(1727)...\n",
      "Going to call recursion(1728)...\n",
      "Going to call recursion(1729)...\n",
      "Going to call recursion(1730)...\n",
      "Going to call recursion(1731)...\n",
      "Going to call recursion(1732)...\n",
      "Going to call recursion(1733)...\n",
      "Going to call recursion(1734)...\n",
      "Going to call recursion(1735)...\n",
      "Going to call recursion(1736)...\n",
      "Going to call recursion(1737)...\n",
      "Going to call recursion(1738)...\n",
      "Going to call recursion(1739)...\n",
      "Going to call recursion(1740)...\n",
      "Going to call recursion(1741)...\n",
      "Going to call recursion(1742)...\n",
      "Going to call recursion(1743)...\n",
      "Going to call recursion(1744)...\n",
      "Going to call recursion(1745)...\n",
      "Going to call recursion(1746)...\n",
      "Going to call recursion(1747)...\n",
      "Going to call recursion(1748)...\n",
      "Going to call recursion(1749)...\n",
      "Going to call recursion(1750)...\n",
      "Going to call recursion(1751)...\n",
      "Going to call recursion(1752)...\n",
      "Going to call recursion(1753)...\n",
      "Going to call recursion(1754)...\n",
      "Going to call recursion(1755)...\n",
      "Going to call recursion(1756)...\n",
      "Going to call recursion(1757)...\n",
      "Going to call recursion(1758)...\n",
      "Going to call recursion(1759)...\n",
      "Going to call recursion(1760)...\n",
      "Going to call recursion(1761)...\n",
      "Going to call recursion(1762)...\n",
      "Going to call recursion(1763)...\n",
      "Going to call recursion(1764)...\n",
      "Going to call recursion(1765)...\n",
      "Going to call recursion(1766)...\n",
      "Going to call recursion(1767)...\n",
      "Going to call recursion(1768)...\n",
      "Going to call recursion(1769)...\n",
      "Going to call recursion(1770)...\n",
      "Going to call recursion(1771)...\n",
      "Going to call recursion(1772)...\n",
      "Going to call recursion(1773)...\n",
      "Going to call recursion(1774)...\n",
      "Going to call recursion(1775)...\n",
      "Going to call recursion(1776)...\n",
      "Going to call recursion(1777)...\n",
      "Going to call recursion(1778)...\n",
      "Going to call recursion(1779)...\n",
      "Going to call recursion(1780)...\n",
      "Going to call recursion(1781)...\n",
      "Going to call recursion(1782)...\n",
      "Going to call recursion(1783)...\n",
      "Going to call recursion(1784)...\n",
      "Going to call recursion(1785)...\n",
      "Going to call recursion(1786)...\n",
      "Going to call recursion(1787)...\n",
      "Going to call recursion(1788)...\n",
      "Going to call recursion(1789)...\n",
      "Going to call recursion(1790)...\n",
      "Going to call recursion(1791)...\n",
      "Going to call recursion(1792)...\n",
      "Going to call recursion(1793)...\n",
      "Going to call recursion(1794)...\n",
      "Going to call recursion(1795)...\n",
      "Going to call recursion(1796)...\n",
      "Going to call recursion(1797)...\n",
      "Going to call recursion(1798)...\n",
      "Going to call recursion(1799)...\n",
      "Going to call recursion(1800)...\n",
      "Going to call recursion(1801)...\n",
      "Going to call recursion(1802)...\n",
      "Going to call recursion(1803)...\n",
      "Going to call recursion(1804)...\n",
      "Going to call recursion(1805)...\n",
      "Going to call recursion(1806)...\n",
      "Going to call recursion(1807)...\n",
      "Going to call recursion(1808)...\n",
      "Going to call recursion(1809)...\n",
      "Going to call recursion(1810)...\n",
      "Going to call recursion(1811)...\n",
      "Going to call recursion(1812)...\n",
      "Going to call recursion(1813)...\n",
      "Going to call recursion(1814)...\n",
      "Going to call recursion(1815)...\n",
      "Going to call recursion(1816)...\n",
      "Going to call recursion(1817)...\n",
      "Going to call recursion(1818)...\n",
      "Going to call recursion(1819)...\n",
      "Going to call recursion(1820)...\n",
      "Going to call recursion(1821)...\n",
      "Going to call recursion(1822)...\n",
      "Going to call recursion(1823)...\n",
      "Going to call recursion(1824)...\n",
      "Going to call recursion(1825)...\n",
      "Going to call recursion(1826)...\n",
      "Going to call recursion(1827)...\n",
      "Going to call recursion(1828)...\n",
      "Going to call recursion(1829)...\n",
      "Going to call recursion(1830)...\n",
      "Going to call recursion(1831)...\n",
      "Going to call recursion(1832)...\n",
      "Going to call recursion(1833)...\n",
      "Going to call recursion(1834)...\n",
      "Going to call recursion(1835)...\n",
      "Going to call recursion(1836)...\n",
      "Going to call recursion(1837)...\n",
      "Going to call recursion(1838)...\n",
      "Going to call recursion(1839)...\n",
      "Going to call recursion(1840)...\n",
      "Going to call recursion(1841)...\n",
      "Going to call recursion(1842)...\n",
      "Going to call recursion(1843)...\n",
      "Going to call recursion(1844)...\n",
      "Going to call recursion(1845)...\n",
      "Going to call recursion(1846)...\n",
      "Going to call recursion(1847)...\n",
      "Going to call recursion(1848)...\n",
      "Going to call recursion(1849)...\n",
      "Going to call recursion(1850)...\n",
      "Going to call recursion(1851)...\n",
      "Going to call recursion(1852)...\n",
      "Going to call recursion(1853)...\n",
      "Going to call recursion(1854)...\n",
      "Going to call recursion(1855)...\n",
      "Going to call recursion(1856)...\n",
      "Going to call recursion(1857)...\n",
      "Going to call recursion(1858)...\n",
      "Going to call recursion(1859)...\n",
      "Going to call recursion(1860)...\n",
      "Going to call recursion(1861)...\n",
      "Going to call recursion(1862)...\n",
      "Going to call recursion(1863)...\n",
      "Going to call recursion(1864)...\n",
      "Going to call recursion(1865)...\n",
      "Going to call recursion(1866)...\n",
      "Going to call recursion(1867)...\n",
      "Going to call recursion(1868)...\n",
      "Going to call recursion(1869)...\n",
      "Going to call recursion(1870)...\n",
      "Going to call recursion(1871)...\n",
      "Going to call recursion(1872)...\n",
      "Going to call recursion(1873)...\n",
      "Going to call recursion(1874)...\n",
      "Going to call recursion(1875)...\n",
      "Going to call recursion(1876)...\n",
      "Going to call recursion(1877)...\n",
      "Going to call recursion(1878)...\n",
      "Going to call recursion(1879)...\n",
      "Going to call recursion(1880)...\n",
      "Going to call recursion(1881)...\n",
      "Going to call recursion(1882)...\n",
      "Going to call recursion(1883)...\n",
      "Going to call recursion(1884)...\n",
      "Going to call recursion(1885)...\n",
      "Going to call recursion(1886)...\n",
      "Going to call recursion(1887)...\n",
      "Going to call recursion(1888)...\n",
      "Going to call recursion(1889)...\n",
      "Going to call recursion(1890)...\n",
      "Going to call recursion(1891)...\n",
      "Going to call recursion(1892)...\n",
      "Going to call recursion(1893)...\n",
      "Going to call recursion(1894)...\n",
      "Going to call recursion(1895)...\n",
      "Going to call recursion(1896)...\n",
      "Going to call recursion(1897)...\n",
      "Going to call recursion(1898)...\n",
      "Going to call recursion(1899)...\n",
      "Going to call recursion(1900)...\n",
      "Going to call recursion(1901)...\n",
      "Going to call recursion(1902)...\n",
      "Going to call recursion(1903)...\n",
      "Going to call recursion(1904)...\n",
      "Going to call recursion(1905)...\n",
      "Going to call recursion(1906)...\n",
      "Going to call recursion(1907)...\n",
      "Going to call recursion(1908)...\n",
      "Going to call recursion(1909)...\n",
      "Going to call recursion(1910)...\n",
      "Going to call recursion(1911)...\n",
      "Going to call recursion(1912)...\n",
      "Going to call recursion(1913)...\n",
      "Going to call recursion(1914)...\n",
      "Going to call recursion(1915)...\n",
      "Going to call recursion(1916)...\n",
      "Going to call recursion(1917)...\n",
      "Going to call recursion(1918)...\n",
      "Going to call recursion(1919)...\n",
      "Going to call recursion(1920)...\n",
      "Going to call recursion(1921)...\n",
      "Going to call recursion(1922)...\n",
      "Going to call recursion(1923)...\n",
      "Going to call recursion(1924)...\n",
      "Going to call recursion(1925)...\n",
      "Going to call recursion(1926)...\n",
      "Going to call recursion(1927)...\n",
      "Going to call recursion(1928)...\n",
      "Going to call recursion(1929)...\n",
      "Going to call recursion(1930)...\n",
      "Going to call recursion(1931)...\n",
      "Going to call recursion(1932)...\n",
      "Going to call recursion(1933)...\n",
      "Going to call recursion(1934)...\n",
      "Going to call recursion(1935)...\n",
      "Going to call recursion(1936)...\n",
      "Going to call recursion(1937)...\n",
      "Going to call recursion(1938)...\n",
      "Going to call recursion(1939)...\n",
      "Going to call recursion(1940)...\n",
      "Going to call recursion(1941)...\n",
      "Going to call recursion(1942)...\n",
      "Going to call recursion(1943)...\n",
      "Going to call recursion(1944)...\n",
      "Going to call recursion(1945)...\n",
      "Going to call recursion(1946)...\n",
      "Going to call recursion(1947)...\n",
      "Going to call recursion(1948)...\n",
      "Going to call recursion(1949)...\n",
      "Going to call recursion(1950)...\n",
      "Going to call recursion(1951)...\n",
      "Going to call recursion(1952)...\n",
      "Going to call recursion(1953)...\n",
      "Going to call recursion(1954)...\n",
      "Going to call recursion(1955)...\n",
      "Going to call recursion(1956)...\n",
      "Going to call recursion(1957)...\n",
      "Going to call recursion(1958)...\n",
      "Going to call recursion(1959)...\n",
      "Going to call recursion(1960)...\n",
      "Going to call recursion(1961)...\n",
      "Going to call recursion(1962)...\n",
      "Going to call recursion(1963)...\n",
      "Going to call recursion(1964)...\n",
      "Going to call recursion(1965)...\n",
      "Going to call recursion(1966)...\n",
      "Going to call recursion(1967)...\n",
      "Going to call recursion(1968)...\n",
      "Going to call recursion(1969)...\n",
      "Going to call recursion(1970)...\n",
      "Going to call recursion(1971)...\n",
      "Going to call recursion(1972)...\n",
      "Going to call recursion(1973)...\n",
      "Going to call recursion(1974)...\n",
      "Going to call recursion(1975)...\n",
      "Going to call recursion(1976)...\n",
      "Going to call recursion(1977)...\n",
      "Going to call recursion(1978)...\n",
      "Going to call recursion(1979)...\n",
      "Going to call recursion(1980)...\n",
      "Going to call recursion(1981)...\n",
      "Going to call recursion(1982)...\n",
      "Going to call recursion(1983)...\n",
      "Going to call recursion(1984)...\n",
      "Going to call recursion(1985)...\n",
      "Going to call recursion(1986)...\n",
      "Going to call recursion(1987)...\n",
      "Going to call recursion(1988)...\n",
      "Going to call recursion(1989)...\n",
      "Going to call recursion(1990)...\n",
      "Going to call recursion(1991)...\n",
      "Going to call recursion(1992)...\n",
      "Going to call recursion(1993)...\n",
      "Going to call recursion(1994)...\n",
      "Going to call recursion(1995)...\n",
      "Going to call recursion(1996)...\n",
      "Going to call recursion(1997)...\n",
      "Going to call recursion(1998)...\n",
      "Going to call recursion(1999)...\n",
      "Going to call recursion(2000)...\n",
      "Going to call recursion(2001)...\n",
      "Going to call recursion(2002)...\n",
      "Going to call recursion(2003)...\n",
      "Going to call recursion(2004)...\n",
      "Going to call recursion(2005)...\n",
      "Going to call recursion(2006)...\n",
      "Going to call recursion(2007)...\n",
      "Going to call recursion(2008)...\n",
      "Going to call recursion(2009)...\n",
      "Going to call recursion(2010)...\n",
      "Going to call recursion(2011)...\n",
      "Going to call recursion(2012)...\n",
      "Going to call recursion(2013)...\n",
      "Going to call recursion(2014)...\n",
      "Going to call recursion(2015)...\n",
      "Going to call recursion(2016)...\n",
      "Going to call recursion(2017)...\n",
      "Going to call recursion(2018)...\n",
      "Going to call recursion(2019)...\n",
      "Going to call recursion(2020)...\n",
      "Going to call recursion(2021)...\n",
      "Going to call recursion(2022)...\n",
      "Going to call recursion(2023)...\n",
      "Going to call recursion(2024)...\n",
      "Going to call recursion(2025)...\n",
      "Going to call recursion(2026)...\n",
      "Going to call recursion(2027)...\n",
      "Going to call recursion(2028)...\n",
      "Going to call recursion(2029)...\n",
      "Going to call recursion(2030)...\n",
      "Going to call recursion(2031)...\n",
      "Going to call recursion(2032)...\n",
      "Going to call recursion(2033)...\n",
      "Going to call recursion(2034)...\n",
      "Going to call recursion(2035)...\n",
      "Going to call recursion(2036)...\n",
      "Going to call recursion(2037)...\n",
      "Going to call recursion(2038)...\n",
      "Going to call recursion(2039)...\n",
      "Going to call recursion(2040)...\n",
      "Going to call recursion(2041)...\n",
      "Going to call recursion(2042)...\n",
      "Going to call recursion(2043)...\n",
      "Going to call recursion(2044)...\n",
      "Going to call recursion(2045)...\n",
      "Going to call recursion(2046)...\n",
      "Going to call recursion(2047)...\n",
      "Going to call recursion(2048)...\n",
      "Going to call recursion(2049)...\n",
      "Going to call recursion(2050)...\n",
      "Going to call recursion(2051)...\n",
      "Going to call recursion(2052)...\n",
      "Going to call recursion(2053)...\n",
      "Going to call recursion(2054)...\n",
      "Going to call recursion(2055)...\n",
      "Going to call recursion(2056)...\n",
      "Going to call recursion(2057)...\n",
      "Going to call recursion(2058)...\n",
      "Going to call recursion(2059)...\n",
      "Going to call recursion(2060)...\n",
      "Going to call recursion(2061)...\n",
      "Going to call recursion(2062)...\n",
      "Going to call recursion(2063)...\n",
      "Going to call recursion(2064)...\n",
      "Going to call recursion(2065)...\n",
      "Going to call recursion(2066)...\n",
      "Going to call recursion(2067)...\n",
      "Going to call recursion(2068)...\n",
      "Going to call recursion(2069)...\n",
      "Going to call recursion(2070)...\n",
      "Going to call recursion(2071)...\n",
      "Going to call recursion(2072)...\n",
      "Going to call recursion(2073)...\n",
      "Going to call recursion(2074)...\n",
      "Going to call recursion(2075)...\n",
      "Going to call recursion(2076)...\n",
      "Going to call recursion(2077)...\n",
      "Going to call recursion(2078)...\n",
      "Going to call recursion(2079)...\n",
      "Going to call recursion(2080)...\n",
      "Going to call recursion(2081)...\n",
      "Going to call recursion(2082)...\n",
      "Going to call recursion(2083)...\n",
      "Going to call recursion(2084)...\n",
      "Going to call recursion(2085)...\n",
      "Going to call recursion(2086)...\n",
      "Going to call recursion(2087)...\n",
      "Going to call recursion(2088)...\n",
      "Going to call recursion(2089)...\n",
      "Going to call recursion(2090)...\n",
      "Going to call recursion(2091)...\n",
      "Going to call recursion(2092)...\n",
      "Going to call recursion(2093)...\n",
      "Going to call recursion(2094)...\n",
      "Going to call recursion(2095)...\n",
      "Going to call recursion(2096)...\n",
      "Going to call recursion(2097)...\n",
      "Going to call recursion(2098)...\n",
      "Going to call recursion(2099)...\n",
      "Going to call recursion(2100)...\n",
      "Going to call recursion(2101)...\n",
      "Going to call recursion(2102)...\n",
      "Going to call recursion(2103)...\n",
      "Going to call recursion(2104)...\n",
      "Going to call recursion(2105)...\n",
      "Going to call recursion(2106)...\n",
      "Going to call recursion(2107)...\n",
      "Going to call recursion(2108)...\n",
      "Going to call recursion(2109)...\n",
      "Going to call recursion(2110)...\n",
      "Going to call recursion(2111)...\n",
      "Going to call recursion(2112)...\n",
      "Going to call recursion(2113)...\n",
      "Going to call recursion(2114)...\n",
      "Going to call recursion(2115)...\n",
      "Going to call recursion(2116)...\n",
      "Going to call recursion(2117)...\n",
      "Going to call recursion(2118)...\n",
      "Going to call recursion(2119)...\n",
      "Going to call recursion(2120)...\n",
      "Going to call recursion(2121)...\n",
      "Going to call recursion(2122)...\n",
      "Going to call recursion(2123)...\n",
      "Going to call recursion(2124)...\n",
      "Going to call recursion(2125)...\n",
      "Going to call recursion(2126)...\n",
      "Going to call recursion(2127)...\n",
      "Going to call recursion(2128)...\n",
      "Going to call recursion(2129)...\n",
      "Going to call recursion(2130)...\n",
      "Going to call recursion(2131)...\n",
      "Going to call recursion(2132)...\n",
      "Going to call recursion(2133)...\n",
      "Going to call recursion(2134)...\n",
      "Going to call recursion(2135)...\n",
      "Going to call recursion(2136)...\n",
      "Going to call recursion(2137)...\n",
      "Going to call recursion(2138)...\n",
      "Going to call recursion(2139)...\n",
      "Going to call recursion(2140)...\n",
      "Going to call recursion(2141)...\n",
      "Going to call recursion(2142)...\n",
      "Going to call recursion(2143)...\n",
      "Going to call recursion(2144)...\n",
      "Going to call recursion(2145)...\n",
      "Going to call recursion(2146)...\n",
      "Going to call recursion(2147)...\n",
      "Going to call recursion(2148)...\n",
      "Going to call recursion(2149)...\n",
      "Going to call recursion(2150)...\n",
      "Going to call recursion(2151)...\n",
      "Going to call recursion(2152)...\n",
      "Going to call recursion(2153)...\n",
      "Going to call recursion(2154)...\n",
      "Going to call recursion(2155)...\n",
      "Going to call recursion(2156)...\n",
      "Going to call recursion(2157)...\n",
      "Going to call recursion(2158)...\n",
      "Going to call recursion(2159)...\n",
      "Going to call recursion(2160)...\n",
      "Going to call recursion(2161)...\n",
      "Going to call recursion(2162)...\n",
      "Going to call recursion(2163)...\n",
      "Going to call recursion(2164)...\n",
      "Going to call recursion(2165)...\n",
      "Going to call recursion(2166)...\n",
      "Going to call recursion(2167)...\n",
      "Going to call recursion(2168)...\n",
      "Going to call recursion(2169)...\n",
      "Going to call recursion(2170)...\n",
      "Going to call recursion(2171)...\n",
      "Going to call recursion(2172)...\n",
      "Going to call recursion(2173)...\n",
      "Going to call recursion(2174)...\n",
      "Going to call recursion(2175)...\n",
      "Going to call recursion(2176)...\n",
      "Going to call recursion(2177)...\n",
      "Going to call recursion(2178)...\n",
      "Going to call recursion(2179)...\n",
      "Going to call recursion(2180)...\n",
      "Going to call recursion(2181)...\n",
      "Going to call recursion(2182)...\n",
      "Going to call recursion(2183)...\n",
      "Going to call recursion(2184)...\n",
      "Going to call recursion(2185)...\n",
      "Going to call recursion(2186)...\n",
      "Going to call recursion(2187)...\n",
      "Going to call recursion(2188)...\n",
      "Going to call recursion(2189)...\n",
      "Going to call recursion(2190)...\n",
      "Going to call recursion(2191)...\n",
      "Going to call recursion(2192)...\n",
      "Going to call recursion(2193)...\n",
      "Going to call recursion(2194)...\n",
      "Going to call recursion(2195)...\n",
      "Going to call recursion(2196)...\n",
      "Going to call recursion(2197)...\n",
      "Going to call recursion(2198)...\n",
      "Going to call recursion(2199)...\n",
      "Going to call recursion(2200)...\n",
      "Going to call recursion(2201)...\n",
      "Going to call recursion(2202)...\n",
      "Going to call recursion(2203)...\n",
      "Going to call recursion(2204)...\n",
      "Going to call recursion(2205)...\n",
      "Going to call recursion(2206)...\n",
      "Going to call recursion(2207)...\n",
      "Going to call recursion(2208)...\n",
      "Going to call recursion(2209)...\n",
      "Going to call recursion(2210)...\n",
      "Going to call recursion(2211)...\n",
      "Going to call recursion(2212)...\n",
      "Going to call recursion(2213)...\n",
      "Going to call recursion(2214)...\n",
      "Going to call recursion(2215)...\n",
      "Going to call recursion(2216)...\n",
      "Going to call recursion(2217)...\n",
      "Going to call recursion(2218)...\n",
      "Going to call recursion(2219)...\n",
      "Going to call recursion(2220)...\n",
      "Going to call recursion(2221)...\n",
      "Going to call recursion(2222)...\n",
      "Going to call recursion(2223)...\n",
      "Going to call recursion(2224)...\n",
      "Going to call recursion(2225)...\n",
      "Going to call recursion(2226)...\n",
      "Going to call recursion(2227)...\n",
      "Going to call recursion(2228)...\n",
      "Going to call recursion(2229)...\n",
      "Going to call recursion(2230)...\n",
      "Going to call recursion(2231)...\n",
      "Going to call recursion(2232)...\n",
      "Going to call recursion(2233)...\n",
      "Going to call recursion(2234)...\n",
      "Going to call recursion(2235)...\n",
      "Going to call recursion(2236)...\n",
      "Going to call recursion(2237)...\n",
      "Going to call recursion(2238)...\n",
      "Going to call recursion(2239)...\n",
      "Going to call recursion(2240)...\n",
      "Going to call recursion(2241)...\n",
      "Going to call recursion(2242)...\n",
      "Going to call recursion(2243)...\n",
      "Going to call recursion(2244)...\n",
      "Going to call recursion(2245)...\n",
      "Going to call recursion(2246)...\n",
      "Going to call recursion(2247)...\n",
      "Going to call recursion(2248)...\n",
      "Going to call recursion(2249)...\n",
      "Going to call recursion(2250)...\n",
      "Going to call recursion(2251)...\n",
      "Going to call recursion(2252)...\n",
      "Going to call recursion(2253)...\n",
      "Going to call recursion(2254)...\n",
      "Going to call recursion(2255)...\n",
      "Going to call recursion(2256)...\n",
      "Going to call recursion(2257)...\n",
      "Going to call recursion(2258)...\n",
      "Going to call recursion(2259)...\n",
      "Going to call recursion(2260)...\n",
      "Going to call recursion(2261)...\n",
      "Going to call recursion(2262)...\n",
      "Going to call recursion(2263)...\n",
      "Going to call recursion(2264)...\n",
      "Going to call recursion(2265)...\n",
      "Going to call recursion(2266)...\n",
      "Going to call recursion(2267)...\n",
      "Going to call recursion(2268)...\n",
      "Going to call recursion(2269)...\n",
      "Going to call recursion(2270)...\n",
      "Going to call recursion(2271)...\n",
      "Going to call recursion(2272)...\n",
      "Going to call recursion(2273)...\n",
      "Going to call recursion(2274)...\n",
      "Going to call recursion(2275)...\n",
      "Going to call recursion(2276)...\n",
      "Going to call recursion(2277)...\n",
      "Going to call recursion(2278)...\n",
      "Going to call recursion(2279)...\n",
      "Going to call recursion(2280)...\n",
      "Going to call recursion(2281)...\n",
      "Going to call recursion(2282)...\n",
      "Going to call recursion(2283)...\n",
      "Going to call recursion(2284)...\n",
      "Going to call recursion(2285)...\n",
      "Going to call recursion(2286)...\n",
      "Going to call recursion(2287)...\n",
      "Going to call recursion(2288)...\n",
      "Going to call recursion(2289)...\n",
      "Going to call recursion(2290)...\n",
      "Going to call recursion(2291)...\n",
      "Going to call recursion(2292)...\n",
      "Going to call recursion(2293)...\n",
      "Going to call recursion(2294)...\n",
      "Going to call recursion(2295)...\n",
      "Going to call recursion(2296)...\n",
      "Going to call recursion(2297)...\n",
      "Going to call recursion(2298)...\n",
      "Going to call recursion(2299)...\n",
      "Going to call recursion(2300)...\n",
      "Going to call recursion(2301)...\n",
      "Going to call recursion(2302)...\n",
      "Going to call recursion(2303)...\n",
      "Going to call recursion(2304)...\n",
      "Going to call recursion(2305)...\n",
      "Going to call recursion(2306)...\n",
      "Going to call recursion(2307)...\n",
      "Going to call recursion(2308)...\n",
      "Going to call recursion(2309)...\n",
      "Going to call recursion(2310)...\n",
      "Going to call recursion(2311)...\n",
      "Going to call recursion(2312)...\n",
      "Going to call recursion(2313)...\n",
      "Going to call recursion(2314)...\n",
      "Going to call recursion(2315)...\n",
      "Going to call recursion(2316)...\n",
      "Going to call recursion(2317)...\n",
      "Going to call recursion(2318)...\n",
      "Going to call recursion(2319)...\n",
      "Going to call recursion(2320)...\n",
      "Going to call recursion(2321)...\n",
      "Going to call recursion(2322)...\n",
      "Going to call recursion(2323)...\n",
      "Going to call recursion(2324)...\n",
      "Going to call recursion(2325)...\n",
      "Going to call recursion(2326)...\n",
      "Going to call recursion(2327)...\n",
      "Going to call recursion(2328)...\n",
      "Going to call recursion(2329)...\n",
      "Going to call recursion(2330)...\n",
      "Going to call recursion(2331)...\n",
      "Going to call recursion(2332)...\n",
      "Going to call recursion(2333)...\n",
      "Going to call recursion(2334)...\n",
      "Going to call recursion(2335)...\n",
      "Going to call recursion(2336)...\n",
      "Going to call recursion(2337)...\n",
      "Going to call recursion(2338)...\n",
      "Going to call recursion(2339)...\n",
      "Going to call recursion(2340)...\n",
      "Going to call recursion(2341)...\n",
      "Going to call recursion(2342)...\n",
      "Going to call recursion(2343)...\n",
      "Going to call recursion(2344)...\n",
      "Going to call recursion(2345)...\n",
      "Going to call recursion(2346)...\n",
      "Going to call recursion(2347)...\n",
      "Going to call recursion(2348)...\n",
      "Going to call recursion(2349)...\n",
      "Going to call recursion(2350)...\n",
      "Going to call recursion(2351)...\n",
      "Going to call recursion(2352)...\n",
      "Going to call recursion(2353)...\n",
      "Going to call recursion(2354)...\n"
     ]
    },
    {
     "name": "stdout",
     "output_type": "stream",
     "text": [
      "Going to call recursion(2355)...\n",
      "Going to call recursion(2356)...\n",
      "Going to call recursion(2357)...\n",
      "Going to call recursion(2358)...\n",
      "Going to call recursion(2359)...\n",
      "Going to call recursion(2360)...\n",
      "Going to call recursion(2361)...\n",
      "Going to call recursion(2362)...\n",
      "Going to call recursion(2363)...\n",
      "Going to call recursion(2364)...\n",
      "Going to call recursion(2365)...\n",
      "Going to call recursion(2366)...\n",
      "Going to call recursion(2367)...\n",
      "Going to call recursion(2368)...\n",
      "Going to call recursion(2369)...\n",
      "Going to call recursion(2370)...\n",
      "Going to call recursion(2371)...\n",
      "Going to call recursion(2372)...\n",
      "Going to call recursion(2373)...\n",
      "Going to call recursion(2374)...\n",
      "Going to call recursion(2375)...\n",
      "Going to call recursion(2376)...\n",
      "Going to call recursion(2377)...\n",
      "Going to call recursion(2378)...\n",
      "Going to call recursion(2379)...\n",
      "Going to call recursion(2380)...\n",
      "Going to call recursion(2381)...\n",
      "Going to call recursion(2382)...\n",
      "Going to call recursion(2383)...\n",
      "Going to call recursion(2384)...\n",
      "Going to call recursion(2385)...\n",
      "Going to call recursion(2386)...\n",
      "Going to call recursion(2387)...\n",
      "Going to call recursion(2388)...\n",
      "Going to call recursion(2389)...\n",
      "Going to call recursion(2390)...\n",
      "Going to call recursion(2391)...\n",
      "Going to call recursion(2392)...\n",
      "Going to call recursion(2393)...\n",
      "Going to call recursion(2394)...\n",
      "Going to call recursion(2395)...\n",
      "Going to call recursion(2396)...\n",
      "Going to call recursion(2397)...\n",
      "Going to call recursion(2398)...\n",
      "Going to call recursion(2399)...\n",
      "Going to call recursion(2400)...\n",
      "Going to call recursion(2401)...\n",
      "Going to call recursion(2402)...\n",
      "Going to call recursion(2403)...\n",
      "Going to call recursion(2404)...\n",
      "Going to call recursion(2405)...\n",
      "Going to call recursion(2406)...\n",
      "Going to call recursion(2407)...\n",
      "Going to call recursion(2408)...\n",
      "Going to call recursion(2409)...\n",
      "Going to call recursion(2410)...\n",
      "Going to call recursion(2411)...\n",
      "Going to call recursion(2412)...\n",
      "Going to call recursion(2413)...\n",
      "Going to call recursion(2414)...\n",
      "Going to call recursion(2415)...\n",
      "Going to call recursion(2416)...\n",
      "Going to call recursion(2417)...\n",
      "Going to call recursion(2418)...\n",
      "Going to call recursion(2419)...\n",
      "Going to call recursion(2420)...\n",
      "Going to call recursion(2421)...\n",
      "Going to call recursion(2422)...\n",
      "Going to call recursion(2423)...\n",
      "Going to call recursion(2424)...\n",
      "Going to call recursion(2425)...\n",
      "Going to call recursion(2426)...\n",
      "Going to call recursion(2427)...\n",
      "Going to call recursion(2428)...\n",
      "Going to call recursion(2429)...\n",
      "Going to call recursion(2430)...\n",
      "Going to call recursion(2431)...\n",
      "Going to call recursion(2432)...\n",
      "Going to call recursion(2433)...\n",
      "Going to call recursion(2434)...\n",
      "Going to call recursion(2435)...\n",
      "Going to call recursion(2436)...\n",
      "Going to call recursion(2437)...\n",
      "Going to call recursion(2438)...\n",
      "Going to call recursion(2439)...\n",
      "Going to call recursion(2440)...\n",
      "Going to call recursion(2441)...\n",
      "Going to call recursion(2442)...\n",
      "Going to call recursion(2443)...\n",
      "Going to call recursion(2444)...\n",
      "Going to call recursion(2445)...\n",
      "Going to call recursion(2446)...\n",
      "Going to call recursion(2447)...\n",
      "Going to call recursion(2448)...\n",
      "Going to call recursion(2449)...\n",
      "Going to call recursion(2450)...\n",
      "Going to call recursion(2451)...\n",
      "Going to call recursion(2452)...\n",
      "Going to call recursion(2453)...\n",
      "Going to call recursion(2454)...\n",
      "Going to call recursion(2455)...\n",
      "Going to call recursion(2456)...\n",
      "Going to call recursion(2457)...\n",
      "Going to call recursion(2458)...\n",
      "Going to call recursion(2459)...\n",
      "Going to call recursion(2460)...\n",
      "Going to call recursion(2461)...\n",
      "Going to call recursion(2462)...\n",
      "Going to call recursion(2463)...\n",
      "Going to call recursion(2464)...\n",
      "Going to call recursion(2465)...\n",
      "Going to call recursion(2466)...\n",
      "Going to call recursion(2467)...\n",
      "Going to call recursion(2468)...\n",
      "Going to call recursion(2469)...\n",
      "Going to call recursion(2470)...\n",
      "Going to call recursion(2471)...\n",
      "Going to call recursion(2472)...\n",
      "Going to call recursion(2473)...\n",
      "Going to call recursion(2474)...\n",
      "Going to call recursion(2475)...\n",
      "Going to call recursion(2476)...\n",
      "Going to call recursion(2477)...\n",
      "Going to call recursion(2478)...\n",
      "Going to call recursion(2479)...\n",
      "Going to call recursion(2480)...\n",
      "Going to call recursion(2481)...\n",
      "Going to call recursion(2482)...\n",
      "Going to call recursion(2483)...\n",
      "Going to call recursion(2484)...\n",
      "Going to call recursion(2485)...\n",
      "Going to call recursion(2486)...\n",
      "Going to call recursion(2487)...\n",
      "Going to call recursion(2488)...\n",
      "Going to call recursion(2489)...\n",
      "Going to call recursion(2490)...\n",
      "Going to call recursion(2491)...\n",
      "Going to call recursion(2492)...\n",
      "Going to call recursion(2493)...\n",
      "Going to call recursion(2494)...\n",
      "Going to call recursion(2495)...\n",
      "Going to call recursion(2496)...\n",
      "Going to call recursion(2497)...\n",
      "Going to call recursion(2498)...\n",
      "Going to call recursion(2499)...\n",
      "Going to call recursion(2500)...\n",
      "Going to call recursion(2501)...\n",
      "Going to call recursion(2502)...\n",
      "Going to call recursion(2503)...\n",
      "Going to call recursion(2504)...\n",
      "Going to call recursion(2505)...\n",
      "Going to call recursion(2506)...\n",
      "Going to call recursion(2507)...\n",
      "Going to call recursion(2508)...\n",
      "Going to call recursion(2509)...\n",
      "Going to call recursion(2510)...\n",
      "Going to call recursion(2511)...\n",
      "Going to call recursion(2512)...\n",
      "Going to call recursion(2513)...\n",
      "Going to call recursion(2514)...\n",
      "Going to call recursion(2515)...\n",
      "Going to call recursion(2516)...\n",
      "Going to call recursion(2517)...\n",
      "Going to call recursion(2518)...\n",
      "Going to call recursion(2519)...\n",
      "Going to call recursion(2520)...\n",
      "Going to call recursion(2521)...\n",
      "Going to call recursion(2522)...\n",
      "Going to call recursion(2523)...\n",
      "Going to call recursion(2524)...\n",
      "Going to call recursion(2525)...\n",
      "Going to call recursion(2526)...\n",
      "Going to call recursion(2527)...\n",
      "Going to call recursion(2528)...\n",
      "Going to call recursion(2529)...\n",
      "Going to call recursion(2530)...\n",
      "Going to call recursion(2531)...\n",
      "Going to call recursion(2532)...\n",
      "Going to call recursion(2533)...\n",
      "Going to call recursion(2534)...\n",
      "Going to call recursion(2535)...\n",
      "Going to call recursion(2536)...\n",
      "Going to call recursion(2537)...\n",
      "Going to call recursion(2538)...\n",
      "Going to call recursion(2539)...\n",
      "Going to call recursion(2540)...\n",
      "Going to call recursion(2541)...\n",
      "Going to call recursion(2542)...\n",
      "Going to call recursion(2543)...\n",
      "Going to call recursion(2544)...\n",
      "Going to call recursion(2545)...\n",
      "Going to call recursion(2546)...\n",
      "Going to call recursion(2547)...\n",
      "Going to call recursion(2548)...\n",
      "Going to call recursion(2549)...\n",
      "Going to call recursion(2550)...\n",
      "Going to call recursion(2551)...\n",
      "Going to call recursion(2552)...\n",
      "Going to call recursion(2553)...\n",
      "Going to call recursion(2554)...\n",
      "Going to call recursion(2555)...\n",
      "Going to call recursion(2556)...\n",
      "Going to call recursion(2557)...\n",
      "Going to call recursion(2558)...\n",
      "Going to call recursion(2559)...\n",
      "Going to call recursion(2560)...\n",
      "Going to call recursion(2561)...\n",
      "Going to call recursion(2562)...\n",
      "Going to call recursion(2563)...\n",
      "Going to call recursion(2564)...\n",
      "Going to call recursion(2565)...\n",
      "Going to call recursion(2566)...\n",
      "Going to call recursion(2567)...\n",
      "Going to call recursion(2568)...\n",
      "Going to call recursion(2569)...\n",
      "Going to call recursion(2570)...\n",
      "Going to call recursion(2571)...\n",
      "Going to call recursion(2572)...\n",
      "Going to call recursion(2573)...\n",
      "Going to call recursion(2574)...\n",
      "Going to call recursion(2575)...\n",
      "Going to call recursion(2576)...\n",
      "Going to call recursion(2577)...\n",
      "Going to call recursion(2578)...\n",
      "Going to call recursion(2579)...\n",
      "Going to call recursion(2580)...\n",
      "Going to call recursion(2581)...\n",
      "Going to call recursion(2582)...\n",
      "Going to call recursion(2583)...\n",
      "Going to call recursion(2584)...\n",
      "Going to call recursion(2585)...\n",
      "Going to call recursion(2586)...\n",
      "Going to call recursion(2587)...\n",
      "Going to call recursion(2588)...\n",
      "Going to call recursion(2589)...\n",
      "Going to call recursion(2590)...\n",
      "Going to call recursion(2591)...\n",
      "Going to call recursion(2592)...\n",
      "Going to call recursion(2593)...\n",
      "Going to call recursion(2594)...\n",
      "Going to call recursion(2595)...\n",
      "Going to call recursion(2596)...\n",
      "Going to call recursion(2597)...\n",
      "Going to call recursion(2598)...\n",
      "Going to call recursion(2599)...\n",
      "Going to call recursion(2600)...\n",
      "Going to call recursion(2601)...\n",
      "Going to call recursion(2602)...\n",
      "Going to call recursion(2603)...\n",
      "Going to call recursion(2604)...\n",
      "Going to call recursion(2605)...\n",
      "Going to call recursion(2606)...\n",
      "Going to call recursion(2607)...\n",
      "Going to call recursion(2608)...\n",
      "Going to call recursion(2609)...\n",
      "Going to call recursion(2610)...\n",
      "Going to call recursion(2611)...\n",
      "Going to call recursion(2612)...\n",
      "Going to call recursion(2613)...\n",
      "Going to call recursion(2614)...\n",
      "Going to call recursion(2615)...\n",
      "Going to call recursion(2616)...\n",
      "Going to call recursion(2617)...\n",
      "Going to call recursion(2618)...\n",
      "Going to call recursion(2619)...\n",
      "Going to call recursion(2620)...\n",
      "Going to call recursion(2621)...\n",
      "Going to call recursion(2622)...\n",
      "Going to call recursion(2623)...\n",
      "Going to call recursion(2624)...\n",
      "Going to call recursion(2625)...\n",
      "Going to call recursion(2626)...\n",
      "Going to call recursion(2627)...\n",
      "Going to call recursion(2628)...\n",
      "Going to call recursion(2629)...\n",
      "Going to call recursion(2630)...\n",
      "Going to call recursion(2631)...\n",
      "Going to call recursion(2632)...\n",
      "Going to call recursion(2633)...\n",
      "Going to call recursion(2634)...\n",
      "Going to call recursion(2635)...\n",
      "Going to call recursion(2636)...\n",
      "Going to call recursion(2637)...\n",
      "Going to call recursion(2638)...\n",
      "Going to call recursion(2639)...\n",
      "Going to call recursion(2640)...\n",
      "Going to call recursion(2641)...\n",
      "Going to call recursion(2642)...\n",
      "Going to call recursion(2643)...\n",
      "Going to call recursion(2644)...\n",
      "Going to call recursion(2645)...\n",
      "Going to call recursion(2646)...\n",
      "Going to call recursion(2647)...\n",
      "Going to call recursion(2648)...\n",
      "Going to call recursion(2649)...\n",
      "Going to call recursion(2650)...\n",
      "Going to call recursion(2651)...\n",
      "Going to call recursion(2652)...\n",
      "Going to call recursion(2653)...\n",
      "Going to call recursion(2654)...\n",
      "Going to call recursion(2655)...\n",
      "Going to call recursion(2656)...\n",
      "Going to call recursion(2657)...\n",
      "Going to call recursion(2658)...\n",
      "Going to call recursion(2659)...\n",
      "Going to call recursion(2660)...\n",
      "Going to call recursion(2661)...\n",
      "Going to call recursion(2662)...\n",
      "Going to call recursion(2663)...\n",
      "Going to call recursion(2664)...\n",
      "Going to call recursion(2665)...\n",
      "Going to call recursion(2666)...\n",
      "Going to call recursion(2667)...\n",
      "Going to call recursion(2668)...\n",
      "Going to call recursion(2669)...\n",
      "Going to call recursion(2670)...\n",
      "Going to call recursion(2671)...\n",
      "Going to call recursion(2672)...\n",
      "Going to call recursion(2673)...\n",
      "Going to call recursion(2674)...\n",
      "Going to call recursion(2675)...\n",
      "Going to call recursion(2676)...\n",
      "Going to call recursion(2677)...\n",
      "Going to call recursion(2678)...\n",
      "Going to call recursion(2679)...\n",
      "Going to call recursion(2680)...\n",
      "Going to call recursion(2681)...\n",
      "Going to call recursion(2682)...\n",
      "Going to call recursion(2683)...\n",
      "Going to call recursion(2684)...\n",
      "Going to call recursion(2685)...\n",
      "Going to call recursion(2686)...\n",
      "Going to call recursion(2687)...\n",
      "Going to call recursion(2688)...\n",
      "Going to call recursion(2689)...\n",
      "Going to call recursion(2690)...\n",
      "Going to call recursion(2691)...\n",
      "Going to call recursion(2692)...\n",
      "Going to call recursion(2693)...\n",
      "Going to call recursion(2694)...\n",
      "Going to call recursion(2695)...\n",
      "Going to call recursion(2696)...\n",
      "Going to call recursion(2697)...\n",
      "Going to call recursion(2698)...\n",
      "Going to call recursion(2699)...\n",
      "Going to call recursion(2700)...\n",
      "Going to call recursion(2701)...\n",
      "Going to call recursion(2702)...\n",
      "Going to call recursion(2703)...\n",
      "Going to call recursion(2704)...\n",
      "Going to call recursion(2705)...\n",
      "Going to call recursion(2706)...\n",
      "Going to call recursion(2707)...\n",
      "Going to call recursion(2708)...\n",
      "Going to call recursion(2709)...\n",
      "Going to call recursion(2710)...\n",
      "Going to call recursion(2711)...\n",
      "Going to call recursion(2712)...\n",
      "Going to call recursion(2713)...\n",
      "Going to call recursion(2714)...\n",
      "Going to call recursion(2715)...\n",
      "Going to call recursion(2716)...\n",
      "Going to call recursion(2717)...\n",
      "Going to call recursion(2718)...\n",
      "Going to call recursion(2719)...\n",
      "Going to call recursion(2720)...\n",
      "Going to call recursion(2721)...\n",
      "Going to call recursion(2722)...\n",
      "Going to call recursion(2723)...\n",
      "Going to call recursion(2724)...\n",
      "Going to call recursion(2725)...\n",
      "Going to call recursion(2726)...\n",
      "Going to call recursion(2727)...\n",
      "Going to call recursion(2728)...\n",
      "Going to call recursion(2729)...\n",
      "Going to call recursion(2730)...\n",
      "Going to call recursion(2731)...\n",
      "Going to call recursion(2732)...\n",
      "Going to call recursion(2733)...\n",
      "Going to call recursion(2734)...\n",
      "Going to call recursion(2735)...\n",
      "Going to call recursion(2736)...\n",
      "Going to call recursion(2737)...\n",
      "Going to call recursion(2738)...\n",
      "Going to call recursion(2739)...\n",
      "Going to call recursion(2740)...\n",
      "Going to call recursion(2741)...\n",
      "Going to call recursion(2742)...\n",
      "Going to call recursion(2743)...\n",
      "Going to call recursion(2744)...\n",
      "Going to call recursion(2745)...\n",
      "Going to call recursion(2746)...\n",
      "Going to call recursion(2747)...\n",
      "Going to call recursion(2748)...\n",
      "Going to call recursion(2749)...\n",
      "Going to call recursion(2750)...\n",
      "Going to call recursion(2751)...\n",
      "Going to call recursion(2752)...\n",
      "Going to call recursion(2753)...\n",
      "Going to call recursion(2754)...\n",
      "Going to call recursion(2755)...\n",
      "Going to call recursion(2756)...\n",
      "Going to call recursion(2757)...\n",
      "Going to call recursion(2758)...\n",
      "Going to call recursion(2759)...\n",
      "Going to call recursion(2760)...\n",
      "Going to call recursion(2761)...\n",
      "Going to call recursion(2762)...\n",
      "Going to call recursion(2763)...\n",
      "Going to call recursion(2764)...\n",
      "Going to call recursion(2765)...\n",
      "Going to call recursion(2766)...\n",
      "Going to call recursion(2767)...\n",
      "Going to call recursion(2768)...\n",
      "Going to call recursion(2769)...\n",
      "Going to call recursion(2770)...\n",
      "Going to call recursion(2771)...\n",
      "Going to call recursion(2772)...\n",
      "Going to call recursion(2773)...\n",
      "Going to call recursion(2774)...\n",
      "Going to call recursion(2775)...\n",
      "Going to call recursion(2776)...\n",
      "Going to call recursion(2777)...\n",
      "Going to call recursion(2778)...\n",
      "Going to call recursion(2779)...\n",
      "Going to call recursion(2780)...\n",
      "Going to call recursion(2781)...\n",
      "Going to call recursion(2782)...\n",
      "Going to call recursion(2783)...\n",
      "Going to call recursion(2784)...\n",
      "Going to call recursion(2785)...\n",
      "Going to call recursion(2786)...\n",
      "Going to call recursion(2787)...\n",
      "Going to call recursion(2788)...\n",
      "Going to call recursion(2789)...\n",
      "Going to call recursion(2790)...\n",
      "Going to call recursion(2791)...\n",
      "Going to call recursion(2792)...\n",
      "Going to call recursion(2793)...\n",
      "Going to call recursion(2794)...\n",
      "Going to call recursion(2795)...\n",
      "Going to call recursion(2796)...\n",
      "Going to call recursion(2797)...\n",
      "Going to call recursion(2798)...\n",
      "Going to call recursion(2799)...\n",
      "Going to call recursion(2800)...\n",
      "Going to call recursion(2801)...\n",
      "Going to call recursion(2802)...\n",
      "Going to call recursion(2803)...\n",
      "Going to call recursion(2804)...\n",
      "Going to call recursion(2805)...\n",
      "Going to call recursion(2806)...\n",
      "Going to call recursion(2807)...\n",
      "Going to call recursion(2808)...\n",
      "Going to call recursion(2809)...\n",
      "Going to call recursion(2810)...\n",
      "Going to call recursion(2811)...\n",
      "Going to call recursion(2812)...\n",
      "Going to call recursion(2813)...\n",
      "Going to call recursion(2814)...\n",
      "Going to call recursion(2815)...\n",
      "Going to call recursion(2816)...\n",
      "Going to call recursion(2817)...\n",
      "Going to call recursion(2818)...\n",
      "Going to call recursion(2819)...\n",
      "Going to call recursion(2820)...\n",
      "Going to call recursion(2821)...\n",
      "Going to call recursion(2822)...\n",
      "Going to call recursion(2823)...\n",
      "Going to call recursion(2824)...\n",
      "Going to call recursion(2825)...\n",
      "Going to call recursion(2826)...\n",
      "Going to call recursion(2827)...\n",
      "Going to call recursion(2828)...\n",
      "Going to call recursion(2829)...\n",
      "Going to call recursion(2830)...\n",
      "Going to call recursion(2831)...\n",
      "Going to call recursion(2832)...\n",
      "Going to call recursion(2833)...\n",
      "Going to call recursion(2834)...\n",
      "Going to call recursion(2835)...\n",
      "Going to call recursion(2836)...\n",
      "Going to call recursion(2837)...\n",
      "Going to call recursion(2838)...\n",
      "Going to call recursion(2839)...\n",
      "Going to call recursion(2840)...\n",
      "Going to call recursion(2841)...\n",
      "Going to call recursion(2842)...\n",
      "Going to call recursion(2843)...\n",
      "Going to call recursion(2844)...\n",
      "Going to call recursion(2845)...\n",
      "Going to call recursion(2846)...\n",
      "Going to call recursion(2847)...\n",
      "Going to call recursion(2848)...\n",
      "Going to call recursion(2849)...\n",
      "Going to call recursion(2850)...\n",
      "Going to call recursion(2851)...\n",
      "Going to call recursion(2852)...\n",
      "Going to call recursion(2853)...\n",
      "Going to call recursion(2854)...\n",
      "Going to call recursion(2855)...\n",
      "Going to call recursion(2856)...\n",
      "Going to call recursion(2857)...\n",
      "Going to call recursion(2858)...\n",
      "Going to call recursion(2859)...\n",
      "Going to call recursion(2860)...\n",
      "Going to call recursion(2861)...\n",
      "Going to call recursion(2862)...\n",
      "Going to call recursion(2863)...\n",
      "Going to call recursion(2864)...\n",
      "Going to call recursion(2865)...\n",
      "Going to call recursion(2866)...\n",
      "Going to call recursion(2867)...\n",
      "Going to call recursion(2868)...\n",
      "Going to call recursion(2869)...\n",
      "Going to call recursion(2870)...\n",
      "Going to call recursion(2871)...\n",
      "Going to call recursion(2872)...\n",
      "Going to call recursion(2873)...\n",
      "Going to call recursion(2874)...\n",
      "Going to call recursion(2875)...\n",
      "Going to call recursion(2876)...\n",
      "Going to call recursion(2877)...\n",
      "Going to call recursion(2878)...\n",
      "Going to call recursion(2879)...\n",
      "Going to call recursion(2880)...\n",
      "Going to call recursion(2881)...\n",
      "Going to call recursion(2882)...\n",
      "Going to call recursion(2883)...\n",
      "Going to call recursion(2884)...\n",
      "Going to call recursion(2885)...\n",
      "Going to call recursion(2886)...\n",
      "Going to call recursion(2887)...\n",
      "Going to call recursion(2888)...\n",
      "Going to call recursion(2889)...\n",
      "Going to call recursion(2890)...\n",
      "Going to call recursion(2891)...\n",
      "Going to call recursion(2892)...\n",
      "Going to call recursion(2893)...\n",
      "Going to call recursion(2894)...\n",
      "Going to call recursion(2895)...\n",
      "Going to call recursion(2896)...\n",
      "Going to call recursion(2897)...\n",
      "Going to call recursion(2898)...\n",
      "Going to call recursion(2899)...\n",
      "Going to call recursion(2900)...\n",
      "Going to call recursion(2901)...\n",
      "Going to call recursion(2902)...\n",
      "Going to call recursion(2903)...\n",
      "Going to call recursion(2904)...\n",
      "Going to call recursion(2905)...\n",
      "Going to call recursion(2906)...\n",
      "Going to call recursion(2907)...\n",
      "Going to call recursion(2908)...\n",
      "Going to call recursion(2909)...\n",
      "Going to call recursion(2910)...\n",
      "Going to call recursion(2911)...\n",
      "Going to call recursion(2912)...\n",
      "Going to call recursion(2913)...\n",
      "Going to call recursion(2914)...\n",
      "Going to call recursion(2915)...\n",
      "Going to call recursion(2916)...\n",
      "Going to call recursion(2917)...\n",
      "Going to call recursion(2918)...\n",
      "Going to call recursion(2919)...\n",
      "Going to call recursion(2920)...\n",
      "Going to call recursion(2921)...\n",
      "Going to call recursion(2922)...\n",
      "Going to call recursion(2923)...\n",
      "Going to call recursion(2924)...\n",
      "Going to call recursion(2925)...\n",
      "Going to call recursion(2926)...\n",
      "Going to call recursion(2927)...\n",
      "Going to call recursion(2928)...\n",
      "Going to call recursion(2929)...\n",
      "Going to call recursion(2930)...\n",
      "Going to call recursion(2931)...\n",
      "Going to call recursion(2932)...\n",
      "Going to call recursion(2933)...\n",
      "Going to call recursion(2934)...\n",
      "Going to call recursion(2935)...\n",
      "Going to call recursion(2936)...\n",
      "Going to call recursion(2937)...\n",
      "Going to call recursion(2938)...\n",
      "Going to call recursion(2939)...\n",
      "Going to call recursion(2940)...\n",
      "Going to call recursion(2941)...\n",
      "Going to call recursion(2942)...\n",
      "Going to call recursion(2943)...\n",
      "Going to call recursion(2944)...\n",
      "Going to call recursion(2945)...\n",
      "Going to call recursion(2946)...\n",
      "Going to call recursion(2947)...\n",
      "Going to call recursion(2948)...\n",
      "Going to call recursion(2949)...\n",
      "Going to call recursion(2950)...\n",
      "Going to call recursion(2951)...\n",
      "Going to call recursion(2952)...\n",
      "Going to call recursion(2953)...\n",
      "Going to call recursion(2954)...\n",
      "Going to call recursion(2955)...\n",
      "Going to call recursion(2956)...\n",
      "Going to call recursion(2957)...\n",
      "Going to call recursion(2958)...\n",
      "Going to call recursion(2959)...\n",
      "Going to call recursion(2960)..."
     ]
    },
    {
     "ename": "RecursionError",
     "evalue": "maximum recursion depth exceeded in comparison",
     "output_type": "error",
     "traceback": [
      "\u001b[1;31m---------------------------------------------------------------------------\u001b[0m",
      "\u001b[1;31mRecursionError\u001b[0m                            Traceback (most recent call last)",
      "\u001b[1;32m<ipython-input-228-e6f5a17c9f4a>\u001b[0m in \u001b[0;36m<module>\u001b[1;34m()\u001b[0m\n\u001b[0;32m      3\u001b[0m     \u001b[0mrecursion\u001b[0m\u001b[1;33m(\u001b[0m\u001b[0mi\u001b[0m\u001b[1;33m+\u001b[0m\u001b[1;36m1\u001b[0m\u001b[1;33m)\u001b[0m   \u001b[1;31m# will call until you run out of stack space\u001b[0m\u001b[1;33m\u001b[0m\u001b[0m\n\u001b[0;32m      4\u001b[0m \u001b[1;33m\u001b[0m\u001b[0m\n\u001b[1;32m----> 5\u001b[1;33m \u001b[0mrecursion\u001b[0m\u001b[1;33m(\u001b[0m\u001b[1;36m1\u001b[0m\u001b[1;33m)\u001b[0m\u001b[1;33m\u001b[0m\u001b[0m\n\u001b[0m",
      "\u001b[1;32m<ipython-input-228-e6f5a17c9f4a>\u001b[0m in \u001b[0;36mrecursion\u001b[1;34m(i)\u001b[0m\n\u001b[0;32m      1\u001b[0m \u001b[1;32mdef\u001b[0m \u001b[0mrecursion\u001b[0m\u001b[1;33m(\u001b[0m\u001b[0mi\u001b[0m\u001b[1;33m)\u001b[0m\u001b[1;33m:\u001b[0m\u001b[1;33m\u001b[0m\u001b[0m\n\u001b[0;32m      2\u001b[0m     \u001b[0mprint\u001b[0m\u001b[1;33m(\u001b[0m\u001b[1;34m\"Going to call recursion({})...\"\u001b[0m\u001b[1;33m.\u001b[0m\u001b[0mformat\u001b[0m\u001b[1;33m(\u001b[0m\u001b[0mi\u001b[0m\u001b[1;33m)\u001b[0m\u001b[1;33m)\u001b[0m\u001b[1;33m\u001b[0m\u001b[0m\n\u001b[1;32m----> 3\u001b[1;33m     \u001b[0mrecursion\u001b[0m\u001b[1;33m(\u001b[0m\u001b[0mi\u001b[0m\u001b[1;33m+\u001b[0m\u001b[1;36m1\u001b[0m\u001b[1;33m)\u001b[0m   \u001b[1;31m# will call until you run out of stack space\u001b[0m\u001b[1;33m\u001b[0m\u001b[0m\n\u001b[0m\u001b[0;32m      4\u001b[0m \u001b[1;33m\u001b[0m\u001b[0m\n\u001b[0;32m      5\u001b[0m \u001b[0mrecursion\u001b[0m\u001b[1;33m(\u001b[0m\u001b[1;36m1\u001b[0m\u001b[1;33m)\u001b[0m\u001b[1;33m\u001b[0m\u001b[0m\n",
      "... last 1 frames repeated, from the frame below ...\n",
      "\u001b[1;32m<ipython-input-228-e6f5a17c9f4a>\u001b[0m in \u001b[0;36mrecursion\u001b[1;34m(i)\u001b[0m\n\u001b[0;32m      1\u001b[0m \u001b[1;32mdef\u001b[0m \u001b[0mrecursion\u001b[0m\u001b[1;33m(\u001b[0m\u001b[0mi\u001b[0m\u001b[1;33m)\u001b[0m\u001b[1;33m:\u001b[0m\u001b[1;33m\u001b[0m\u001b[0m\n\u001b[0;32m      2\u001b[0m     \u001b[0mprint\u001b[0m\u001b[1;33m(\u001b[0m\u001b[1;34m\"Going to call recursion({})...\"\u001b[0m\u001b[1;33m.\u001b[0m\u001b[0mformat\u001b[0m\u001b[1;33m(\u001b[0m\u001b[0mi\u001b[0m\u001b[1;33m)\u001b[0m\u001b[1;33m)\u001b[0m\u001b[1;33m\u001b[0m\u001b[0m\n\u001b[1;32m----> 3\u001b[1;33m     \u001b[0mrecursion\u001b[0m\u001b[1;33m(\u001b[0m\u001b[0mi\u001b[0m\u001b[1;33m+\u001b[0m\u001b[1;36m1\u001b[0m\u001b[1;33m)\u001b[0m   \u001b[1;31m# will call until you run out of stack space\u001b[0m\u001b[1;33m\u001b[0m\u001b[0m\n\u001b[0m\u001b[0;32m      4\u001b[0m \u001b[1;33m\u001b[0m\u001b[0m\n\u001b[0;32m      5\u001b[0m \u001b[0mrecursion\u001b[0m\u001b[1;33m(\u001b[0m\u001b[1;36m1\u001b[0m\u001b[1;33m)\u001b[0m\u001b[1;33m\u001b[0m\u001b[0m\n",
      "\u001b[1;31mRecursionError\u001b[0m: maximum recursion depth exceeded in comparison"
     ]
    }
   ],
   "source": [
    "def recursion(i): \n",
    "    print(\"Going to call recursion({})...\".format(i))\n",
    "    recursion(i+1)   # will call until you run out of stack space\n",
    "\n",
    "recursion(1)"
   ]
  },
  {
   "cell_type": "markdown",
   "metadata": {},
   "source": [
    "## Factorial"
   ]
  },
  {
   "cell_type": "code",
   "execution_count": null,
   "metadata": {},
   "outputs": [],
   "source": [
    "# Factorial of 1 is 1\n",
    "# Factorial of 2 is 1x2\n",
    "# Factorial of 3 is 1x2x3\n",
    "# Factorial of 4 is 1x2x3x4\n",
    "\n",
    "# Factorial of n is factorial of n-1 x n\n",
    "\n",
    "\n",
    "\n",
    "def factorial_forloop(n):\n",
    "    result = 1\n",
    "    for i in range(1,n+1):\n",
    "        result *=i\n",
    "    return result\n",
    "\n",
    "n=10\n",
    "f=factorial_forloop(n)\n",
    "print(\"Factorial of {} is {}\".format(n,f))\n",
    "print (\"1*2*3*4*5*6*7*8*9*10 = {}\".format( 1*2*3*4*5*6*7*8*9*10))"
   ]
  },
  {
   "cell_type": "code",
   "execution_count": null,
   "metadata": {},
   "outputs": [],
   "source": [
    "# using recursion to calculate factorial\n",
    "def factorial(n):\n",
    "    if n == 1:\n",
    "        return 1\n",
    "    return n*factorial(n-1)\n",
    "\n",
    "x = factorial(10)\n",
    "print(\"factorial 10:\", x)"
   ]
  },
  {
   "cell_type": "code",
   "execution_count": null,
   "metadata": {},
   "outputs": [],
   "source": [
    "#  Concise, using return if else and recursion\n",
    "def factorial(n):\n",
    "    return n*factorial(n-1) if n != 1 else 1\n",
    "\n",
    "x = factorial(10)\n",
    "print(\"factorial 10:\", x)"
   ]
  },
  {
   "cell_type": "markdown",
   "metadata": {},
   "source": [
    "## Fibonacci Series"
   ]
  },
  {
   "cell_type": "code",
   "execution_count": null,
   "metadata": {
    "collapsed": true
   },
   "outputs": [],
   "source": [
    "# 0, 1, sum of the last 2, ...\n",
    "# Calculating Fibonacci using While loop\n",
    "\n",
    "def fib_whileloop(n):\n",
    "    a,b = 0,1\n",
    "    while b <= num:\n",
    "        a,b = b, a+b\n",
    "    return a\n",
    "\n",
    "for i in range(10):\n",
    "    print(fib(i), end=' ')"
   ]
  },
  {
   "cell_type": "code",
   "execution_count": null,
   "metadata": {
    "collapsed": true
   },
   "outputs": [],
   "source": [
    "def fib(n):\n",
    "    if n<=1:\n",
    "        return n\n",
    "    else: return fib(n-1)+fib(n-2)\n",
    "\n",
    "for i in range(10):\n",
    "    print(fib(i), end=' ')"
   ]
  },
  {
   "cell_type": "code",
   "execution_count": null,
   "metadata": {
    "collapsed": true
   },
   "outputs": [],
   "source": [
    "# concise, using return if else\n",
    "def fib(n):\n",
    "    return n if n <=1 else fib(n-1)+fib(n-2)\n",
    "\n",
    "for i in range(10):\n",
    "    print(fib(i), end=' ')"
   ]
  },
  {
   "cell_type": "markdown",
   "metadata": {},
   "source": [
    "## Iterables vs. Iterators vs. Generators"
   ]
  },
  {
   "cell_type": "markdown",
   "metadata": {},
   "source": [
    "[Read](https://nvie.com/posts/iterators-vs-generators/)"
   ]
  },
  {
   "cell_type": "markdown",
   "metadata": {},
   "source": [
    "## Generator Functions"
   ]
  },
  {
   "cell_type": "code",
   "execution_count": null,
   "metadata": {
    "collapsed": true
   },
   "outputs": [],
   "source": [
    "def countThree():\n",
    "    yield 1\n",
    "    yield 2\n",
    "    yield 3"
   ]
  },
  {
   "cell_type": "code",
   "execution_count": null,
   "metadata": {
    "collapsed": true,
    "scrolled": true
   },
   "outputs": [],
   "source": [
    "for i in countThree():\n",
    "    print(i)"
   ]
  },
  {
   "cell_type": "markdown",
   "metadata": {},
   "source": [
    "## Generator Expressions"
   ]
  },
  {
   "cell_type": "code",
   "execution_count": null,
   "metadata": {
    "collapsed": true
   },
   "outputs": [],
   "source": [
    "countThree =  (x for x in range(1,4))  # replace () with [] and try again\n",
    "type(countThree)"
   ]
  },
  {
   "cell_type": "code",
   "execution_count": null,
   "metadata": {
    "collapsed": true
   },
   "outputs": [],
   "source": [
    "countThree"
   ]
  },
  {
   "cell_type": "code",
   "execution_count": null,
   "metadata": {
    "collapsed": true
   },
   "outputs": [],
   "source": [
    "for i in countThree:\n",
    "    print(i)"
   ]
  },
  {
   "cell_type": "code",
   "execution_count": null,
   "metadata": {
    "collapsed": true
   },
   "outputs": [],
   "source": [
    "for i in countThree:\n",
    "    print(i)"
   ]
  },
  {
   "cell_type": "markdown",
   "metadata": {},
   "source": [
    "## Map"
   ]
  },
  {
   "cell_type": "code",
   "execution_count": null,
   "metadata": {
    "collapsed": true
   },
   "outputs": [],
   "source": [
    "def int_to_str(x):\n",
    "    return str(x)"
   ]
  },
  {
   "cell_type": "code",
   "execution_count": null,
   "metadata": {
    "collapsed": true
   },
   "outputs": [],
   "source": [
    "x = map(even, [1,2,3,4,5,6])\n",
    "list(x)"
   ]
  },
  {
   "cell_type": "markdown",
   "metadata": {},
   "source": [
    "## Filter"
   ]
  },
  {
   "cell_type": "code",
   "execution_count": null,
   "metadata": {
    "collapsed": true
   },
   "outputs": [],
   "source": [
    "def even(x):\n",
    "    return True if not x % 2 else False"
   ]
  },
  {
   "cell_type": "code",
   "execution_count": null,
   "metadata": {
    "collapsed": true,
    "scrolled": true
   },
   "outputs": [],
   "source": [
    "x = filter(even, [1,2,3,4,5,6])\n",
    "list(x)"
   ]
  },
  {
   "cell_type": "markdown",
   "metadata": {},
   "source": [
    "## Lambda\n",
    "- Anonymous functions"
   ]
  },
  {
   "cell_type": "code",
   "execution_count": 371,
   "metadata": {},
   "outputs": [
    {
     "data": {
      "text/plain": [
       "[1, 3, 5]"
      ]
     },
     "execution_count": 371,
     "metadata": {},
     "output_type": "execute_result"
    }
   ],
   "source": [
    "odd = filter(lambda x: x % 2, [1,2,3,4,5,6])\n",
    "list(odd)"
   ]
  },
  {
   "cell_type": "markdown",
   "metadata": {},
   "source": [
    "## Reduce"
   ]
  },
  {
   "cell_type": "code",
   "execution_count": null,
   "metadata": {
    "collapsed": true
   },
   "outputs": [],
   "source": [
    "import functools\n",
    "def add(x,y):\n",
    "    return x+y"
   ]
  },
  {
   "cell_type": "code",
   "execution_count": null,
   "metadata": {
    "collapsed": true
   },
   "outputs": [],
   "source": [
    "functools.reduce(add, [1,2,3,4,5,6])"
   ]
  },
  {
   "cell_type": "markdown",
   "metadata": {},
   "source": [
    "## Recap\n",
    "- We looked into dir() a builtin\n",
    "- Looked into how we can import a python module using basic import statement\n",
    "  - we imported math, sys, random, datetime and time modules\n",
    "-  List and tuples (mutable and immutable containers or sequences)\n",
    "-  How to define functions and call them\n",
    "-  How functionName.\\__doc\\__ displays a function's document string\n",
    "-  Default arguments which provide default values which can be overridden by the caller\n",
    "-  Global and local variables scope within function\n",
    "-  Functions with immutable parameters\n",
    "-  Variable and keyworded arguments"
   ]
  },
  {
   "cell_type": "markdown",
   "metadata": {},
   "source": [
    "## Assignments\n",
    "- Functions Writing Assignment\n",
    "- Functions Assignment"
   ]
  },
  {
   "cell_type": "markdown",
   "metadata": {},
   "source": [
    "## Quiz\n",
    "- Quiz 4"
   ]
  },
  {
   "cell_type": "code",
   "execution_count": null,
   "metadata": {},
   "outputs": [],
   "source": []
  }
 ],
 "metadata": {
  "kernelspec": {
   "display_name": "Python 3",
   "language": "python",
   "name": "python3"
  },
  "language_info": {
   "codemirror_mode": {
    "name": "ipython",
    "version": 3
   },
   "file_extension": ".py",
   "mimetype": "text/x-python",
   "name": "python",
   "nbconvert_exporter": "python",
   "pygments_lexer": "ipython3",
   "version": "3.6.5"
  }
 },
 "nbformat": 4,
 "nbformat_minor": 2
}
